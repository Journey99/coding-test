{
 "cells": [
  {
   "cell_type": "code",
   "execution_count": 2,
   "metadata": {},
   "outputs": [
    {
     "name": "stdout",
     "output_type": "stream",
     "text": [
      "['[1,', '4,', '5]', '[3,', '6,', '11,', '4]']\n"
     ]
    }
   ],
   "source": [
    "input_str = input()\n",
    "print(input_str.split())"
   ]
  },
  {
   "cell_type": "code",
   "execution_count": 3,
   "metadata": {},
   "outputs": [],
   "source": [
    "import re\n",
    "\n",
    "matches = re.findall(r'\\[([^\\]]+)\\]', input_str)"
   ]
  },
  {
   "cell_type": "code",
   "execution_count": 4,
   "metadata": {},
   "outputs": [
    {
     "data": {
      "text/plain": [
       "['1, 4, 5', '3, 6, 11, 4']"
      ]
     },
     "execution_count": 4,
     "metadata": {},
     "output_type": "execute_result"
    }
   ],
   "source": [
    "matches"
   ]
  },
  {
   "cell_type": "code",
   "execution_count": 7,
   "metadata": {},
   "outputs": [
    {
     "data": {
      "text/plain": [
       "[1, 4, 5]"
      ]
     },
     "execution_count": 7,
     "metadata": {},
     "output_type": "execute_result"
    }
   ],
   "source": [
    "list(map(int, matches[0].split(\",\")))"
   ]
  },
  {
   "cell_type": "code",
   "execution_count": 8,
   "metadata": {},
   "outputs": [
    {
     "name": "stdout",
     "output_type": "stream",
     "text": [
      "[(0, 6), (1, 4), (3, 5), (3, 8), (5, 7), (8, 9)]\n"
     ]
    }
   ],
   "source": [
    "input_ls = input()\n",
    "print(input_ls)"
   ]
  },
  {
   "cell_type": "code",
   "execution_count": 9,
   "metadata": {},
   "outputs": [
    {
     "data": {
      "text/plain": [
       "str"
      ]
     },
     "execution_count": 9,
     "metadata": {},
     "output_type": "execute_result"
    }
   ],
   "source": [
    "type(input_ls)"
   ]
  },
  {
   "cell_type": "code",
   "execution_count": 15,
   "metadata": {},
   "outputs": [
    {
     "name": "stdout",
     "output_type": "stream",
     "text": [
      "[(1, 3), (2, 4), (5, 8), (6, 10), (8, 11), (10, 12)]\n",
      "3\n",
      "8\n",
      "11\n",
      "3\n"
     ]
    }
   ],
   "source": [
    "# meetings = [(0, 6), (1, 4), (3, 5), (3, 8), (5, 7), (8, 9)]\n",
    "meetings = [(1, 3), (2, 4), (5, 8), (6, 10), (8, 11), (10, 12)]\n",
    "\n",
    "meetings.sort(key=lambda x: x[1])\n",
    "print(meetings)\n",
    "cnt = 0\n",
    "last_end_time = 0  # 이전 회의 종료 시간\n",
    "\n",
    "for start, end in meetings:\n",
    "    # 현재 회의가 이전 회의와 겹치지 않는 경우\n",
    "    if start >= last_end_time:\n",
    "        cnt += 1\n",
    "        last_end_time = end  # 현재 회의 종료 시간을 갱신\n",
    "        print(last_end_time)\n",
    "\n",
    "print(cnt)"
   ]
  },
  {
   "cell_type": "code",
   "execution_count": null,
   "metadata": {},
   "outputs": [],
   "source": []
  }
 ],
 "metadata": {
  "kernelspec": {
   "display_name": "algorithm",
   "language": "python",
   "name": "python3"
  },
  "language_info": {
   "codemirror_mode": {
    "name": "ipython",
    "version": 3
   },
   "file_extension": ".py",
   "mimetype": "text/x-python",
   "name": "python",
   "nbconvert_exporter": "python",
   "pygments_lexer": "ipython3",
   "version": "3.13.1"
  }
 },
 "nbformat": 4,
 "nbformat_minor": 2
}
