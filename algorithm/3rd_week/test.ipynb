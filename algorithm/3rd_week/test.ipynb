{
 "cells": [
  {
   "cell_type": "code",
   "execution_count": 1,
   "metadata": {},
   "outputs": [
    {
     "name": "stdout",
     "output_type": "stream",
     "text": [
      "[False, False, False]\n"
     ]
    }
   ],
   "source": [
    "def permute(nums):\n",
    "    def backtrack(path, used):\n",
    "        # 모든 숫자를 사용한 경우 결과에 추가\n",
    "        if len(path) == len(nums):\n",
    "            result.append(path[:])\n",
    "            return\n",
    "        for i in range(len(nums)):\n",
    "            if not used[i]:  # 숫자가 아직 사용되지 않은 경우\n",
    "                used[i] = True\n",
    "                path.append(nums[i])  # 숫자를 경로에 추가\n",
    "                backtrack(path, used)  # 다음 단계 탐색\n",
    "                path.pop()  # 백트래킹\n",
    "                used[i] = False\n",
    "\n",
    "    result = []\n",
    "    used = [False] * len(nums)  # 각 숫자의 사용 여부\n",
    "    backtrack([], used)\n",
    "    return result\n",
    "\n",
    "# 사용 예시\n",
    "nums = [1, 2, 3]\n",
    "permutations = permute(nums)\n"
   ]
  },
  {
   "cell_type": "code",
   "execution_count": 3,
   "metadata": {},
   "outputs": [
    {
     "name": "stdout",
     "output_type": "stream",
     "text": [
      "1 2 3 4\n",
      "1 2 4 3\n",
      "1 3 2 4\n",
      "1 3 4 2\n",
      "1 4 2 3\n",
      "1 4 3 2\n",
      "2 1 3 4\n",
      "2 1 4 3\n",
      "2 3 1 4\n",
      "2 3 4 1\n",
      "2 4 1 3\n",
      "2 4 3 1\n",
      "3 1 2 4\n",
      "3 1 4 2\n",
      "3 2 1 4\n",
      "3 2 4 1\n",
      "3 4 1 2\n",
      "3 4 2 1\n",
      "4 1 2 3\n",
      "4 1 3 2\n",
      "4 2 1 3\n",
      "4 2 3 1\n",
      "4 3 1 2\n",
      "4 3 2 1\n"
     ]
    }
   ],
   "source": [
    "n=int(input())\n",
    "sqc=[]\n",
    "\n",
    "#define function\n",
    "def back(cnt):\n",
    "    #end condition : \n",
    "    if cnt ==n: # 순열의 size가 n이 된다면 print\n",
    "        print(*sqc)\n",
    "    #순열 만들기    \n",
    "    for i in range(1,n+1):\n",
    "        if i not in sqc: # sqc list에 i가 없다면 append함\n",
    "            sqc.append(i)\n",
    "            back(cnt+1)\n",
    "            sqc.pop()    # i를 넣기 전 상태로 돌아가기 위해 pop해줌\n",
    "\n",
    "#main()\n",
    "back(0)"
   ]
  },
  {
   "cell_type": "code",
   "execution_count": 6,
   "metadata": {},
   "outputs": [
    {
     "name": "stdout",
     "output_type": "stream",
     "text": [
      "1 2 3\n",
      "1 3 2\n",
      "2 1 3\n",
      "2 3 1\n",
      "3 1 2\n",
      "3 2 1\n"
     ]
    }
   ],
   "source": [
    "n= 3\n",
    "sqc=[]\n",
    "\n",
    "#define function\n",
    "def back(cnt):\n",
    "    #end condition : \n",
    "    if cnt == n: # 순열의 size가 n이 된다면 print\n",
    "        print(*sqc)\n",
    "    #순열 만들기    \n",
    "    for i in range(1,n+1):\n",
    "        if i not in sqc: # sqc list에 i가 없다면 append함\n",
    "            sqc.append(i)\n",
    "            back(cnt+1)\n",
    "            sqc.pop()    # i를 넣기 전 상태로 돌아가기 위해 pop해줌\n",
    "\n",
    "#main()\n",
    "back(0)"
   ]
  },
  {
   "cell_type": "code",
   "execution_count": 4,
   "metadata": {},
   "outputs": [
    {
     "name": "stdout",
     "output_type": "stream",
     "text": [
      "[1, 2, 3]의 모든 순열:\n",
      "[1, 2, 3]\n",
      "[1, 3, 2]\n",
      "[2, 1, 3]\n",
      "[2, 3, 1]\n",
      "[3, 1, 2]\n",
      "[3, 2, 1]\n"
     ]
    }
   ],
   "source": [
    "def permute(nums):\n",
    "    def backtrack(path, used):\n",
    "        # 모든 숫자를 사용한 경우 결과에 추가\n",
    "        if len(path) == len(nums):\n",
    "            result.append(path[:])\n",
    "            return\n",
    "        for i in range(len(nums)):\n",
    "            if not used[i]:  # 숫자가 아직 사용되지 않은 경우\n",
    "                used[i] = True\n",
    "                path.append(nums[i])  # 숫자를 경로에 추가\n",
    "                backtrack(path, used)  # 다음 단계 탐색\n",
    "                path.pop()  # 백트래킹\n",
    "                used[i] = False\n",
    "\n",
    "    result = []\n",
    "    used = [False] * len(nums)  # 각 숫자의 사용 여부\n",
    "    backtrack([], used)\n",
    "    return result\n",
    "\n",
    "# 사용 예시\n",
    "nums = [1, 2, 3]\n",
    "permutations = permute(nums)\n",
    "print(f\"{nums}의 모든 순열:\")\n",
    "for perm in permutations:\n",
    "    print(perm)\n"
   ]
  },
  {
   "cell_type": "code",
   "execution_count": 9,
   "metadata": {},
   "outputs": [],
   "source": [
    "sqcc = []\n",
    "\n",
    "# define function\n",
    "def back(cnt, nums):\n",
    "    # end condition: 순열의 size가 nums의 길이가 된다면 print\n",
    "    if cnt == len(nums):\n",
    "        print(*sqcc)\n",
    "        return\n",
    "    # 순열 만들기    \n",
    "    for num in nums:\n",
    "        if num not in sqc:  # sqc 리스트에 num이 없다면 append함\n",
    "            sqc.append(num)\n",
    "            back(cnt + 1, nums)\n",
    "            sqc.pop()  # num을 넣기 전 상태로 돌아가기 위해 pop해줌\n",
    "\n",
    "# main\n",
    "nums = input()  # 입력 리스트\n",
    "back(0, nums)"
   ]
  },
  {
   "cell_type": "code",
   "execution_count": null,
   "metadata": {},
   "outputs": [],
   "source": []
  }
 ],
 "metadata": {
  "kernelspec": {
   "display_name": "algorithm",
   "language": "python",
   "name": "python3"
  },
  "language_info": {
   "codemirror_mode": {
    "name": "ipython",
    "version": 3
   },
   "file_extension": ".py",
   "mimetype": "text/x-python",
   "name": "python",
   "nbconvert_exporter": "python",
   "pygments_lexer": "ipython3",
   "version": "3.13.1"
  }
 },
 "nbformat": 4,
 "nbformat_minor": 2
}
