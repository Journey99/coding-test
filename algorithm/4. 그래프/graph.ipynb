{
 "cells": [
  {
   "cell_type": "markdown",
   "id": "65a85807",
   "metadata": {},
   "source": [
    "## 그래프\n",
    "- 그래프는 정점(Vertex) 과 간선(Edge) 으로 이루어진 자료구조\n",
    "  - 정점(Vertex, 노드): 연결의 대상 (예: 도시, 사람, 컴퓨터 등)\n",
    "  - 간선(Edge): 정점 간의 연결 (예: 도로, 친구 관계, 네트워크 등)\n",
    "  \n",
    "\n",
    "### 용어 정리\n",
    "\n",
    "| 용어                 | 의미                    |\n",
    "| ------------------ | --------------------- |\n",
    "| 정점 (Vertex)        | 그래프의 한 점 (노드)         |\n",
    "| 간선 (Edge)          | 두 정점을 연결하는 선          |\n",
    "| 인접 (Adjacent)      | 두 정점이 간선으로 직접 연결되어 있음 |\n",
    "| 차수 (Degree)        | 정점과 연결된 간선 수          |\n",
    "| 경로 (Path)          | 정점을 따라 연결된 순서         |\n",
    "| 사이클 (Cycle)        | 시작 정점으로 다시 돌아오는 경로    |\n",
    "| 연결 그래프 (Connected) | 모든 정점이 연결되어 있음        |\n",
    "\n",
    "### 그래프의 종류\n",
    "1. 방향성에 따라\n",
    "- 무방향 그래프\n",
    "  - 간선이 쌍방향 (A-B = B-A)\n",
    "- 유방향 그래프 (방향 그래프)\n",
    "  - 간선이 단방향 (A → B ≠ B → A)\n",
    "\n",
    "2. 간선에 가중치가 있으면\n",
    "- 가중치 그래프 (Weighted Graph)\n",
    "  - 간선마다 비용, 거리 등이 있음\n",
    "\n",
    "3. 특수한 그래프\n",
    "\n",
    "| 이름       | 설명                                           |\n",
    "| -------- | -------------------------------------------- |\n",
    "| 트리(Tree) | 사이클 없는 연결 그래프 (n개 정점 → n-1개 간선)              |\n",
    "| DAG      | 방향성이 있고 사이클이 없는 그래프 (Directed Acyclic Graph) |\n",
    "| 완전 그래프   | 모든 정점끼리 간선으로 연결됨                             |\n"
   ]
  },
  {
   "cell_type": "markdown",
   "id": "db0b0ce1",
   "metadata": {},
   "source": [
    "---"
   ]
  },
  {
   "cell_type": "markdown",
   "id": "c6bfa472",
   "metadata": {},
   "source": [
    "## 최단 경로\n",
    "\n",
    "### 1. 다익스트라 알고리즘\n",
    "- **가장 가까운 정점부터 하나씩 처리해 나가는 그리디 방식**\n",
    "- 한 번 최단거리가 정해진 노드는 다시 갱신되지 않음"
   ]
  },
  {
   "cell_type": "code",
   "execution_count": 4,
   "id": "263d9bfa",
   "metadata": {},
   "outputs": [
    {
     "name": "stdout",
     "output_type": "stream",
     "text": [
      "{'A': 0, 'B': 1, 'C': 3, 'D': 6}\n"
     ]
    }
   ],
   "source": [
    "import heapq\n",
    "\n",
    "def dijkstra(graph, start):\n",
    "    distances = {node: float('inf') for node in graph}  # 모든 거리 무한대\n",
    "    distances[start] = 0\n",
    "    queue = [(0, start)]  # (거리, 노드)\n",
    "\n",
    "    while queue:\n",
    "        current_distance, current_node = heapq.heappop(queue)\n",
    "\n",
    "        # 이미 더 짧은 경로가 있으면 무시\n",
    "        if current_distance > distances[current_node]:\n",
    "            continue\n",
    "\n",
    "        for neighbor, weight in graph[current_node]:\n",
    "            distance = current_distance + weight\n",
    "\n",
    "            # 더 짧은 경로 발견 시 갱신\n",
    "            if distance < distances[neighbor]:\n",
    "                distances[neighbor] = distance\n",
    "                heapq.heappush(queue, (distance, neighbor))\n",
    "\n",
    "    return distances\n",
    "\n",
    "\n",
    "graph = {\n",
    "    'A': [('B', 1), ('C', 4)],\n",
    "    'B': [('C', 2), ('D', 6)],\n",
    "    'C': [('D', 3)],\n",
    "    'D': []\n",
    "}\n",
    "\n",
    "print(dijkstra(graph, 'A'))"
   ]
  },
  {
   "cell_type": "markdown",
   "id": "023039eb",
   "metadata": {},
   "source": [
    "### 2. 벨만-포드 알고리즘\n",
    "- 모든 간선을 v-1번 반복해서 relax 한다\n",
    "- 음의 가중치 처리 가능\n",
    "- v번째 반복 시 **거리가 줄어들면 음의 사이클 존재!**"
   ]
  },
  {
   "cell_type": "code",
   "execution_count": 8,
   "id": "392e9693",
   "metadata": {},
   "outputs": [],
   "source": [
    "def bellman_ford(graph, start):\n",
    "    distance = {node: float('inf') for node in graph}\n",
    "    distance[start] = 0\n",
    "\n",
    "    # 간선 정보 추출\n",
    "    edges = []\n",
    "    for u in graph:\n",
    "        for v, w in graph[u]:\n",
    "            edges.append((u, v, w))\n",
    "\n",
    "    # V-1번 반복\n",
    "    for _ in range(len(graph) - 1):\n",
    "        for u, v, w in edges:\n",
    "            if distance[u] + w < distance[v]:\n",
    "                distance[v] = distance[u] + w\n",
    "\n",
    "    # 음의 사이클 체크\n",
    "    for u, v, w in edges:\n",
    "        if distance[u] + w < distance[v]:\n",
    "            raise ValueError(\"음의 사이클이 존재합니다.\")\n",
    "\n",
    "    return distance"
   ]
  }
 ],
 "metadata": {
  "kernelspec": {
   "display_name": "algorithm",
   "language": "python",
   "name": "python3"
  },
  "language_info": {
   "codemirror_mode": {
    "name": "ipython",
    "version": 3
   },
   "file_extension": ".py",
   "mimetype": "text/x-python",
   "name": "python",
   "nbconvert_exporter": "python",
   "pygments_lexer": "ipython3",
   "version": "3.13.1"
  }
 },
 "nbformat": 4,
 "nbformat_minor": 5
}
