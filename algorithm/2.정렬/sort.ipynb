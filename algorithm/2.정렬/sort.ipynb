{
 "cells": [
  {
   "cell_type": "markdown",
   "metadata": {},
   "source": [
    "### (1) 버블 정렬\n",
    "- 리스트를 순회하며 인접한 두 원소를 비교\n",
    "- 원소의 순서가 잘못됐다면 서로 교환\n",
    "- 리스트 전체가 정렬될 때까지 반복"
   ]
  },
  {
   "cell_type": "code",
   "execution_count": 1,
   "metadata": {},
   "outputs": [],
   "source": [
    "def bubble_sort(arr):\n",
    "    n = len(arr)\n",
    "    for i in range(n):\n",
    "        for j in range(0, n-i-1):\n",
    "            if arr[j] > arr[j+1]:\n",
    "                arr[j], arr[j+1] = arr[j+1], arr[j]"
   ]
  },
  {
   "cell_type": "markdown",
   "metadata": {},
   "source": [
    "### (2) 선택 정렬\n",
    "- [start, end] 구간에서 리스트에서 가장 작은 원소를 찾음\n",
    "- 찾은 원소를 구간의 첫 번째 위치에 배치\n",
    "- 다음 정렬구간을 [start+1, end] 조정"
   ]
  },
  {
   "cell_type": "code",
   "execution_count": 2,
   "metadata": {},
   "outputs": [],
   "source": [
    "def selection_sort(arr):\n",
    "    end = len(arr)\n",
    "    for start in range(end):\n",
    "        min_idx = start\n",
    "        for j in range(start+1, end):\n",
    "            if arr[min_idx] > arr[j]:\n",
    "                min_idx = j\n",
    "        arr[start], arr[min_idx] = arr[min_idx], arr[start]"
   ]
  },
  {
   "cell_type": "markdown",
   "metadata": {},
   "source": [
    "### (3) 삽입 정렬\n",
    "- 두 번째 원소부터 시작하여 현재 원소를 정렬된 부분과 비교\n",
    "- 적절한 위치에 삽입\n",
    "- 리스트 전체가 정렬될 때까지 위의 과정을 반복"
   ]
  },
  {
   "cell_type": "code",
   "execution_count": 3,
   "metadata": {},
   "outputs": [],
   "source": [
    "def insertion_sort(arr):\n",
    "\tfor i in range(1, len(arr)):\n",
    "\t\ttarget = arr[i]\n",
    "\t\tj = i-1\n",
    "\t\twhile j >= 0 and arr[j] > target:\n",
    "\t\t\tarr[j+1] = arr[j]\n",
    "\t\t\tj -= 1\n",
    "\t\tarr[j+1] = target"
   ]
  },
  {
   "cell_type": "markdown",
   "metadata": {},
   "source": [
    "### (4) 합병 정렬\n",
    "- 비교 기반의 정렬 알고리즘\n",
    "- 분할정복 이라는 기법을 사용해, 구간을 나누고 병합하는 과정에서 정렬을 수행함\n",
    "    - 하나의 커다란 문제를 작은 부분 문제로 나누어 해결하고\n",
    "    - 결과를 결합하여 원래 문제의 해를 구하는 알고리즘\n",
    "    \n",
    "    (1) 분할 : 문제를 해결가능한 수준까지 부분문제로 나눔\n",
    "    \n",
    "    (2) 정복&병합 : 부분 문제를 해결하여 오름차순 정렬하고 하위 문제의 결과를 합쳐 큰 결과로 반환"
   ]
  },
  {
   "cell_type": "code",
   "execution_count": 4,
   "metadata": {},
   "outputs": [],
   "source": [
    "def merge_sort(arr):\n",
    "    if len(arr) <= 1:\n",
    "        return arr\n",
    "\n",
    "    mid = len(arr) // 2\n",
    "    left_half = merge_sort(arr[:mid])\n",
    "    right_half = merge_sort(arr[mid:])\n",
    "\n",
    "    return merge(left_half, right_half)\n",
    "\n",
    "def merge(left, right):\n",
    "    sorted_arr = []\n",
    "    i = j = 0\n",
    "\n",
    "    while i < len(left) and j < len(right):\n",
    "        if left[i] < right[j]:\n",
    "            sorted_arr.append(left[i])\n",
    "            i += 1\n",
    "        else:\n",
    "            sorted_arr.append(right[j])\n",
    "            j += 1\n",
    "\n",
    "    sorted_arr.extend(left[i:])\n",
    "    sorted_arr.extend(right[j:])\n",
    "\n",
    "    return sorted_arr"
   ]
  },
  {
   "cell_type": "markdown",
   "metadata": {},
   "source": [
    "### (5) 퀵 정렬\n",
    "- 분할 정복 알고리즘을 사용하여 정렬하는 방식\n",
    "- 리스트에서 pivot을 선택하고 이를 기준으로 왼쪽엔 작은 값들을 오른쪽엔 큰 값들을 배치한 후, 재귀적으로 정렬하는 방식\n",
    "- 평균적으로는 O(nlogn) 의 시간복잡도이지만 매번 최솟값 또는 최댓값을 피벗으로 선택할 경우 O(n²)가 된다."
   ]
  },
  {
   "cell_type": "code",
   "execution_count": 9,
   "metadata": {},
   "outputs": [],
   "source": [
    "array = [5, 7, 9, 0, 3, 1, 6, 2, 4, 8]\n",
    "\n",
    "def quick_sort(array, start, end):\n",
    "    if start >= end:\n",
    "        return\n",
    "    pivot = start #피벗 초기값은 첫번째 요소\n",
    "    left = start+1\n",
    "    right = end\n",
    "    \n",
    "    while left <= right:\n",
    "        # 피벗보다 큰 데이터를 찾을 때까지 반복\n",
    "        while left <= end and array[left] <= array[pivot]:\n",
    "            left+=1\n",
    "            \n",
    "        #피벗보다 작은 데이터를 찾을 때까지 반복\n",
    "        while right > start and array[right] >= array[pivot]:\n",
    "            right-=1\n",
    "            \n",
    "        if left>right: # 엇갈렸다면 작은 right -=1 데이터와 피벗을 교체\n",
    "            array[right], array[pivot] = array[pivot], array[right]\n",
    "            \n",
    "        else: # 엇갈리지 않았다면 작은 데이터와 큰 데이터를 교체 \n",
    "            array[left], array[right] = array[right], array[left]\n",
    "    \n",
    "    # 분할 이후 왼쪽 부분과 오른쪽 부분에서 각각 정렬 수행\n",
    "    quick_sort(array, start, right-1)\n",
    "    quick_sort(array, right+1, end)\n",
    "    \n",
    "quick_sort(array, 0, len(array)-1)"
   ]
  },
  {
   "cell_type": "markdown",
   "metadata": {},
   "source": [
    "### (6) 힙 정렬\n",
    "- 힙(Heap) 자료구조를 이용한 정렬 알고리즘으로\n",
    "- 최대 힙(Max Heap) 또는 최소 힙(Min Heap)을 사용하여 정렬\n",
    "    - 최대 힙: 부모 노드가 자식 노드보다 크거나 같은 완전 이진 트리\n",
    "    - 최소 힙: 부모 노드가 자식 노드보다 작거나 같은 완전 이진 트리\n",
    "  \n",
    "힙 정렬 동작 과정\n",
    "1. 배열을 힙으로 변환(Heapify)\n",
    "- 주어진 배열을 최대 힙 또는 최소 힙으로 만든다.\n",
    "- 최대 힙을 사용할 경우, 가장 큰 값이 루트(인덱스 0)에 위치하게 된다.\n",
    "2. 힙에서 최대값 제거 & 정렬\n",
    "- 루트(최대값)를 배열의 끝과 교환하고, 남은 요소들로 다시 힙을 구성(Heapify)한다.\n",
    "- 이 과정을 배열이 정렬될 때까지 반복한다."
   ]
  },
  {
   "cell_type": "code",
   "execution_count": 1,
   "metadata": {},
   "outputs": [],
   "source": [
    "def heapify(ls, idx, n):\n",
    "\tl = idx * 2 # 왼쪽 자식\n",
    "\tr = idx * 2 + 1 # 오른쪽 자식\n",
    "\ts_idx = idx\n",
    "\tif l <= n and ls[s_idx] > ls[l]:\n",
    "\t\ts_idx = l\n",
    "\tif r <= n and ls[s_idx] > ls[r]:\n",
    "\t\ts_idx = r\n",
    "\tif s_idx != idx:\n",
    "\t\tls[idx], ls[s_idx] = ls[s_idx], ls[idx]\n",
    "\t\treturn heapify(ls, s_idx, n)\n",
    "\n",
    "def heap_sort(v):\n",
    "\tn = len(v)\n",
    "\tv = [0] + v # idx1 부터 시작하기 위해서\n",
    "\t\n",
    "\t# minheap생성\n",
    "\tfor i in range(n, 0, -1):\n",
    "\t\theapify(v, i, n)\n",
    "\t\n",
    "\t# 최솟값 뽑기\n",
    "\tfor i in range(n, 0, -1):\n",
    "\t\tprint(v[1])\n",
    "\t\tv[i], v[1] = v[1], v[i]\n",
    "\t\theapify(v, 1, i-1)"
   ]
  },
  {
   "cell_type": "code",
   "execution_count": null,
   "metadata": {},
   "outputs": [],
   "source": []
  }
 ],
 "metadata": {
  "kernelspec": {
   "display_name": "algorithm",
   "language": "python",
   "name": "python3"
  },
  "language_info": {
   "codemirror_mode": {
    "name": "ipython",
    "version": 3
   },
   "file_extension": ".py",
   "mimetype": "text/x-python",
   "name": "python",
   "nbconvert_exporter": "python",
   "pygments_lexer": "ipython3",
   "version": "3.13.1"
  }
 },
 "nbformat": 4,
 "nbformat_minor": 2
}
