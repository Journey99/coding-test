{
 "cells": [
  {
   "cell_type": "markdown",
   "metadata": {},
   "source": [
    "### (1) 버블 정렬\n",
    "- 리스트를 순회하며 인접한 두 원소를 비교\n",
    "- 원소의 순서가 잘못됐다면 서로 교환\n",
    "- 리스트 전체가 정렬될 때까지 반복"
   ]
  },
  {
   "cell_type": "code",
   "execution_count": 1,
   "metadata": {},
   "outputs": [],
   "source": [
    "def bubble_sort(arr):\n",
    "    n = len(arr)\n",
    "    for i in range(n):\n",
    "        for j in range(0, n-i-1):\n",
    "            if arr[j] > arr[j+1]:\n",
    "                arr[j], arr[j+1] = arr[j+1], arr[j]"
   ]
  },
  {
   "cell_type": "markdown",
   "metadata": {},
   "source": [
    "### (2) 선택 정렬\n",
    "- [start, end] 구간에서 리스트에서 가장 작은 원소를 찾음\n",
    "- 찾은 원소를 구간의 첫 번째 위치에 배치\n",
    "- 다음 정렬구간을 [start+1, end] 조정"
   ]
  },
  {
   "cell_type": "code",
   "execution_count": 2,
   "metadata": {},
   "outputs": [],
   "source": [
    "def selection_sort(arr):\n",
    "    end = len(arr)\n",
    "    for start in range(end):\n",
    "        min_idx = start\n",
    "        for j in range(start+1, end):\n",
    "            if arr[min_idx] > arr[j]:\n",
    "                min_idx = j\n",
    "        arr[start], arr[min_idx] = arr[min_idx], arr[start]"
   ]
  },
  {
   "cell_type": "markdown",
   "metadata": {},
   "source": [
    "### (3) 삽입 정렬\n",
    "- 두 번째 원소부터 시작하여 현재 원소를 정렬된 부분과 비교\n",
    "- 적절한 위치에 삽입\n",
    "- 리스트 전체가 정렬될 때까지 위의 과정을 반복"
   ]
  },
  {
   "cell_type": "code",
   "execution_count": 3,
   "metadata": {},
   "outputs": [],
   "source": [
    "def insertion_sort(arr):\n",
    "\tfor i in range(1, len(arr)):\n",
    "\t\ttarget = arr[i]\n",
    "\t\tj = i-1\n",
    "\t\twhile j >= 0 and arr[j] > target:\n",
    "\t\t\tarr[j+1] = arr[j]\n",
    "\t\t\tj -= 1\n",
    "\t\tarr[j+1] = target"
   ]
  },
  {
   "cell_type": "markdown",
   "metadata": {},
   "source": []
  }
 ],
 "metadata": {
  "kernelspec": {
   "display_name": "algorithm",
   "language": "python",
   "name": "python3"
  },
  "language_info": {
   "codemirror_mode": {
    "name": "ipython",
    "version": 3
   },
   "file_extension": ".py",
   "mimetype": "text/x-python",
   "name": "python",
   "nbconvert_exporter": "python",
   "pygments_lexer": "ipython3",
   "version": "3.13.1"
  }
 },
 "nbformat": 4,
 "nbformat_minor": 2
}
