{
 "cells": [
  {
   "cell_type": "markdown",
   "metadata": {},
   "source": [
    "### 이분탐색\n",
    "- 매 탐색 구간을 절반으로 나누어 진행하는 탐색\n",
    "- 이분 탐색은 특정 조건을 만족할 때만 사용할 수 있다\n",
    "- 정렬된 리스트에서 다음의 과정을 반복한다\n",
    "    - 가운데 값을 확인\n",
    "    - 찾는 값보다 작으면 오른쪽을 탐색\n",
    "    - 크면 왼쪽을 탐색\n",
    "    - 같으면 찾은 것\n",
    "- 시간 복잡도는 O(logn)"
   ]
  },
  {
   "cell_type": "code",
   "execution_count": 1,
   "metadata": {},
   "outputs": [
    {
     "name": "stdout",
     "output_type": "stream",
     "text": [
      "3\n"
     ]
    }
   ],
   "source": [
    "def binary_search(arr, target):\n",
    "\tleft, right = 0, len(arr)-1\n",
    "\t\n",
    "\twhile left <= right:\n",
    "\t\tmid = (left+right) // 2\n",
    "\t\t\n",
    "\t\tif arr[mid] == target:\n",
    "\t\t\treturn mid\n",
    "\t\telif arr[mid] < target:\n",
    "\t\t\tleft = mid + 1\n",
    "\t\telse:\n",
    "\t\t\tright = mid - 1\n",
    "\t\n",
    "\treturn -1\n",
    "\t\n",
    "\n",
    "# 내장 모듈 bisect로도 위치를 알 수 있다\n",
    "import bisect\n",
    "\n",
    "arr = [1,343,5,7,9]\n",
    "index = bisect.bisect_left(arr, 7)\n",
    "print(index) # 출력: 3"
   ]
  },
  {
   "cell_type": "markdown",
   "metadata": {},
   "source": [
    "### 깊이 우선 탐색 (DFS)\n",
    "- 그래프나 트리에서 한 노드를 시작으로 가능한 깊이까지 먼저 탐색\n",
    "- 더이상 갈 곳이 없으면 되돌아와서 다른 경로를 탐색하는 알고리즘"
   ]
  },
  {
   "cell_type": "code",
   "execution_count": 1,
   "metadata": {},
   "outputs": [
    {
     "name": "stdout",
     "output_type": "stream",
     "text": [
      "1 2 4 3 5 "
     ]
    }
   ],
   "source": [
    "def dfs(graph, v, visited):\n",
    "    visited[v] = True\n",
    "    print(v, end=' ')\n",
    "    \n",
    "    for neighbor in graph[v]:\n",
    "        if not visited[neighbor]:\n",
    "            dfs(graph, neighbor, visited)\n",
    "\n",
    "graph = {\n",
    "    1: [2, 3],\n",
    "    2: [1, 4],\n",
    "    3: [1, 5],\n",
    "    4: [2],\n",
    "    5: [3]\n",
    "}\n",
    "\n",
    "visited = [False] * 6  # 노드가 1~5니까 0번은 버림\n",
    "dfs(graph, 1, visited)"
   ]
  },
  {
   "cell_type": "markdown",
   "metadata": {},
   "source": [
    "### 너비 우선 탐색 (BFS)\n",
    "- 탐색을 하는 방식이 ‘현재너비’를 기준으로 결정된다\n",
    "- 현재 방문중인 좌표와 인접한 모든 좌표를 찾고 다음 탐색 대상을 정한다\n",
    "- 너비 우선 탐색은 **큐**를 사용한다"
   ]
  },
  {
   "cell_type": "code",
   "execution_count": 2,
   "metadata": {},
   "outputs": [
    {
     "name": "stdout",
     "output_type": "stream",
     "text": [
      "1 2 3 4 5 "
     ]
    }
   ],
   "source": [
    "from collections import deque\n",
    "\n",
    "def bfs(graph, start, visited):\n",
    "    queue = deque([start])\n",
    "    visited[start] = True\n",
    "\n",
    "    while queue:\n",
    "        v = queue.popleft()\n",
    "        print(v, end=' ')\n",
    "\n",
    "        for neighbor in graph[v]:\n",
    "            if not visited[neighbor]:\n",
    "                visited[neighbor] = True\n",
    "                queue.append(neighbor)\n",
    "\n",
    "graph = {\n",
    "    1: [2, 3],\n",
    "    2: [1, 4],\n",
    "    3: [1, 5],\n",
    "    4: [2],\n",
    "    5: [3]\n",
    "}\n",
    "\n",
    "visited = [False] * 6\n",
    "bfs(graph, 1, visited)"
   ]
  }
 ],
 "metadata": {
  "kernelspec": {
   "display_name": "algorithm",
   "language": "python",
   "name": "python3"
  },
  "language_info": {
   "codemirror_mode": {
    "name": "ipython",
    "version": 3
   },
   "file_extension": ".py",
   "mimetype": "text/x-python",
   "name": "python",
   "nbconvert_exporter": "python",
   "pygments_lexer": "ipython3",
   "version": "3.13.1"
  }
 },
 "nbformat": 4,
 "nbformat_minor": 2
}
