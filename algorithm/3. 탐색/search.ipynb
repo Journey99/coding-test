{
 "cells": [
  {
   "cell_type": "markdown",
   "metadata": {},
   "source": [
    "### 이분탐색\n",
    "- 매 탐색 구간을 절반으로 나누어 진행하는 탐색\n",
    "- 이분 탐색은 특정 조건을 만족할 때만 사용할 수 있다\n",
    "- 정렬된 리스트에서 다음의 과정을 반복한다\n",
    "    - 가운데 값을 확인\n",
    "    - 찾는 값보다 작으면 오른쪽을 탐색\n",
    "    - 크면 왼쪽을 탐색\n",
    "    - 같으면 찾은 것\n",
    "- 시간 복잡도는 O(logn)"
   ]
  },
  {
   "cell_type": "code",
   "execution_count": 1,
   "metadata": {},
   "outputs": [
    {
     "name": "stdout",
     "output_type": "stream",
     "text": [
      "3\n"
     ]
    }
   ],
   "source": [
    "def binary_search(arr, target):\n",
    "\tleft, right = 0, len(arr)-1\n",
    "\t\n",
    "\twhile left <= right:\n",
    "\t\tmid = (left+right) // 2\n",
    "\t\t\n",
    "\t\tif arr[mid] == target:\n",
    "\t\t\treturn mid\n",
    "\t\telif arr[mid] < target:\n",
    "\t\t\tleft = mid + 1\n",
    "\t\telse:\n",
    "\t\t\tright = mid - 1\n",
    "\t\n",
    "\treturn -1\n",
    "\t\n",
    "\n",
    "# 내장 모듈 bisect로도 위치를 알 수 있다\n",
    "import bisect\n",
    "\n",
    "arr = [1,343,5,7,9]\n",
    "index = bisect.bisect_left(arr, 7)\n",
    "print(index) # 출력: 3"
   ]
  }
 ],
 "metadata": {
  "kernelspec": {
   "display_name": "algorithm",
   "language": "python",
   "name": "python3"
  },
  "language_info": {
   "codemirror_mode": {
    "name": "ipython",
    "version": 3
   },
   "file_extension": ".py",
   "mimetype": "text/x-python",
   "name": "python",
   "nbconvert_exporter": "python",
   "pygments_lexer": "ipython3",
   "version": "3.13.1"
  }
 },
 "nbformat": 4,
 "nbformat_minor": 2
}
