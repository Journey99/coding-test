{
 "cells": [
  {
   "cell_type": "markdown",
   "id": "6022fd70",
   "metadata": {},
   "source": [
    "### 283. Move Zeroes\n",
    "Given an integer array nums, move all 0's to the end of it while maintaining the relative order of the non-zero elements.\n",
    "\n",
    "Note that you must do this in-place without making a copy of the array."
   ]
  },
  {
   "cell_type": "code",
   "execution_count": 10,
   "id": "ea7ee698",
   "metadata": {},
   "outputs": [],
   "source": [
    "from typing import List\n",
    "\n",
    "class Solution:\n",
    "    def moveZeroes(self, nums: List[int]) -> None:\n",
    "        \"\"\"\n",
    "        Do not return anything, modify nums in-place instead.\n",
    "        \"\"\"\n",
    "        zero, nonzero = 0, 0\n",
    "        length = len(nums)\n",
    "\n",
    "        while (zero < length) and (nonzero < length):\n",
    "\n",
    "            while nums[zero] == 0:\n",
    "                zero += 1\n",
    "\n",
    "            while nums[nonzero] != 0:\n",
    "                nonzero += 1\n",
    "\n",
    "            nums[zero], nums[nonzero] = nums[nonzero], nums[zero]\n",
    "            zero += 1\n",
    "            nonzero += 1"
   ]
  },
  {
   "cell_type": "code",
   "execution_count": null,
   "id": "6dd81969",
   "metadata": {},
   "outputs": [],
   "source": [
    "class Solution:\n",
    "    def moveZeroes(self, nums: List[int]) -> None:\n",
    "        nonzero = 0  \n",
    "        \n",
    "        for i in range(len(nums)):\n",
    "            if nums[i] != 0:\n",
    "                nums[i], nums[nonzero] = nums[nonzero], nums[i]\n",
    "                nonzero += 1"
   ]
  },
  {
   "cell_type": "markdown",
   "id": "54702626",
   "metadata": {},
   "source": [
    "### 392. Is Subsequence\n",
    "Given two strings s and t, return true if s is a subsequence of t, or false otherwise.\n",
    "\n",
    "A subsequence of a string is a new string that is formed from the original string by deleting some (can be none) of the characters without disturbing the relative positions of the remaining characters. (i.e., \"ace\" is a subsequence of \"abcde\" while \"aec\" is not).\n",
    "\n"
   ]
  },
  {
   "cell_type": "code",
   "execution_count": null,
   "id": "fcdde09b",
   "metadata": {},
   "outputs": [],
   "source": [
    "class Solution:\n",
    "    def isSubsequence(self, s: str, t: str) -> bool:\n",
    "        \n",
    "        idx = 0 # s의 인덱스\n",
    "        idx_t = 0\n",
    "\n",
    "        while (idx < len(s)) and (idx_t < len(t)):\n",
    "\n",
    "            alpha = s[idx]\n",
    "            \n",
    "            if alpha == t[idx_t]:\n",
    "                idx += 1\n",
    "\n",
    "            idx_t += 1\n",
    "\n",
    "        \n",
    "        return idx == len(s)"
   ]
  },
  {
   "cell_type": "markdown",
   "id": "e4238333",
   "metadata": {},
   "source": [
    "---"
   ]
  },
  {
   "cell_type": "markdown",
   "id": "883a9892",
   "metadata": {},
   "source": [
    "### 11. Container With Most Water\n",
    "You are given an integer array height of length n. There are n vertical lines drawn such that the two endpoints of the ith line are (i, 0) and (i, height[i]).\n",
    "\n",
    "Find two lines that together with the x-axis form a container, such that the container contains the most water.\n",
    "\n",
    "Return the maximum amount of water a container can store.\n",
    "\n",
    "Notice that you may not slant the container."
   ]
  },
  {
   "cell_type": "code",
   "execution_count": null,
   "id": "47ed774c",
   "metadata": {},
   "outputs": [
    {
     "name": "stdout",
     "output_type": "stream",
     "text": [
      "49\n"
     ]
    }
   ],
   "source": [
    "from typing import List\n",
    "\n",
    "class Solution:\n",
    "    def maxArea(self, height: List[int]) -> int:\n",
    "        \n",
    "        max_area = 0\n",
    "\n",
    "        for i in range(len(height)):\n",
    "            for j in range(1, len(height)):\n",
    "                area = (j-i) * min(height[i], height[j])\n",
    "                if max_area <= area:\n",
    "                    max_area = area\n",
    "\n",
    "        return max_area\n",
    "\n",
    "s = Solution()\n",
    "s.maxArea([1,8,6,2,5,4,8,3,7])"
   ]
  },
  {
   "cell_type": "markdown",
   "id": "d6776cf3",
   "metadata": {},
   "source": [
    "- 처음생각난 방법은 for문을 두번돌리는 형태이다.\n",
    "- 당연히 for문을 두번 돌렸기에 높이배열의 크기가 커지면 시간초과가 날 것이다\n",
    "  - 그러하였다."
   ]
  },
  {
   "cell_type": "code",
   "execution_count": null,
   "id": "45d88b49",
   "metadata": {},
   "outputs": [],
   "source": [
    "class Solution:\n",
    "    def maxArea(self, height: List[int]) -> int:\n",
    "        \n",
    "        max_area = 0\n",
    "        start, end = 0, len(height) - 1\n",
    "\n",
    "        while start < end:\n",
    "            area = (end-start) * min(height[start], height[end])\n",
    "\n",
    "            if max_area <= area:\n",
    "                max_area = area\n",
    "\n",
    "            if height[start] < height[end]:\n",
    "                start += 1\n",
    "            else:\n",
    "                end -= 1\n",
    "        \n",
    "        return max_area\n",
    "            "
   ]
  },
  {
   "cell_type": "code",
   "execution_count": null,
   "id": "07195907",
   "metadata": {},
   "outputs": [],
   "source": [
    "class Solution:\n",
    "    def maxArea(self, height: List[int]) -> int:\n",
    "        \n",
    "        max_area = 0\n",
    "        start, end = 0, len(height) - 1\n",
    "\n",
    "        while start < end:\n",
    "            if height[start] < height[end]:\n",
    "                area = height[start] * (end - start)\n",
    "                start += 1\n",
    "            else:\n",
    "                area = height[end] * (end - start)\n",
    "                end -= 1\n",
    "\n",
    "            max_area = max(max_area, area)\n",
    "        return max_area"
   ]
  },
  {
   "cell_type": "markdown",
   "id": "813f90b3",
   "metadata": {},
   "source": [
    "- 위의 코드처럼 투 포인터를 사용해서 풀면 O(n) 만에 해결 가능하다\n",
    "- 핵심은 넓이를 계산하고 두개의 길이중에 더 낮은 쪽 포인터를 이동해야한다"
   ]
  },
  {
   "cell_type": "markdown",
   "id": "2d8e513c",
   "metadata": {},
   "source": [
    "---"
   ]
  },
  {
   "cell_type": "markdown",
   "id": "41942cb1",
   "metadata": {},
   "source": [
    "### 1679. Max Number of K-Sum Pairs\n",
    "You are given an integer array nums and an integer k.\n",
    "\n",
    "In one operation, you can pick two numbers from the array whose sum equals k and remove them from the array.\n",
    "\n",
    "Return the maximum number of operations you can perform on the array."
   ]
  },
  {
   "cell_type": "code",
   "execution_count": null,
   "id": "125aeb4f",
   "metadata": {},
   "outputs": [
    {
     "name": "stdout",
     "output_type": "stream",
     "text": [
      "2\n"
     ]
    }
   ],
   "source": [
    "class Solution:\n",
    "    def maxOperations(self, nums: List[int], k: int) -> int:\n",
    "        nums.sort()\n",
    "\n",
    "        left, right = 0, len(nums)-1\n",
    "        cnt = 0\n",
    "\n",
    "        while left < right:\n",
    "            sumoftwo = nums[left] + nums[right]\n",
    "\n",
    "            if sumoftwo == k:\n",
    "                cnt += 1\n",
    "                left += 1\n",
    "                right -= 1\n",
    "            elif sumoftwo < k:\n",
    "                left += 1\n",
    "            else:\n",
    "                right -= 1\n",
    "            \n",
    "        return cnt\n",
    "\n",
    "s = Solution()\n",
    "s.maxOperations([1,2,3,4], 5)"
   ]
  },
  {
   "cell_type": "code",
   "execution_count": 10,
   "id": "6b3edc70",
   "metadata": {},
   "outputs": [],
   "source": [
    "class Solution:\n",
    "    def maxOperations(self, nums: List[int], k: int) -> int:\n",
    "        l = 0\n",
    "        r = len(nums) - 1\n",
    "        c = 0\n",
    "\n",
    "        nums.sort()\n",
    "\n",
    "        while l < r:\n",
    "            if nums[l] + nums[r] == k:\n",
    "                c += 1\n",
    "                l += 1\n",
    "                r -= 1\n",
    "            elif nums[l] + nums[r] > k:\n",
    "                r -= 1\n",
    "            \n",
    "            elif nums[l] + nums[r] < k:\n",
    "                l += 1\n",
    "        \n",
    "        return c"
   ]
  },
  {
   "cell_type": "markdown",
   "id": "720e5c61",
   "metadata": {},
   "source": [
    "- 아래 코드는 347ms, 위에 내가 푼 코드는 500ms\n",
    "- 속도 차이가 나는 이유는 파이썬 인터프리터가 내부적으로 처리하는 미세한 오버헤드 차이 때문\n",
    "  - 변수 이름 길이\n",
    "  - 불필요한 변수 sumoftwo ; 임시 변수를 매번 생성하기 때문에 루프마다 할당/gc 오버헤드 발생\n",
    "  - 루프 내부 연산 순서 ; 변수 계산 후 if 비교 순서가 조금 더 많은 바이트코드를 발생"
   ]
  },
  {
   "cell_type": "markdown",
   "id": "3ee9a1a5",
   "metadata": {},
   "source": [
    "---"
   ]
  }
 ],
 "metadata": {
  "kernelspec": {
   "display_name": "algorithm",
   "language": "python",
   "name": "python3"
  },
  "language_info": {
   "codemirror_mode": {
    "name": "ipython",
    "version": 3
   },
   "file_extension": ".py",
   "mimetype": "text/x-python",
   "name": "python",
   "nbconvert_exporter": "python",
   "pygments_lexer": "ipython3",
   "version": "3.13.1"
  }
 },
 "nbformat": 4,
 "nbformat_minor": 5
}
