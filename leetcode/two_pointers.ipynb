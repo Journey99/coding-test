{
 "cells": [
  {
   "cell_type": "markdown",
   "id": "6022fd70",
   "metadata": {},
   "source": [
    "### 283. Move Zeroes\n",
    "Given an integer array nums, move all 0's to the end of it while maintaining the relative order of the non-zero elements.\n",
    "\n",
    "Note that you must do this in-place without making a copy of the array."
   ]
  },
  {
   "cell_type": "code",
   "execution_count": 10,
   "id": "ea7ee698",
   "metadata": {},
   "outputs": [],
   "source": [
    "from typing import List\n",
    "\n",
    "class Solution:\n",
    "    def moveZeroes(self, nums: List[int]) -> None:\n",
    "        \"\"\"\n",
    "        Do not return anything, modify nums in-place instead.\n",
    "        \"\"\"\n",
    "        zero, nonzero = 0, 0\n",
    "        length = len(nums)\n",
    "\n",
    "        while (zero < length) and (nonzero < length):\n",
    "\n",
    "            while nums[zero] == 0:\n",
    "                zero += 1\n",
    "\n",
    "            while nums[nonzero] != 0:\n",
    "                nonzero += 1\n",
    "\n",
    "            nums[zero], nums[nonzero] = nums[nonzero], nums[zero]\n",
    "            zero += 1\n",
    "            nonzero += 1"
   ]
  },
  {
   "cell_type": "code",
   "execution_count": null,
   "id": "6dd81969",
   "metadata": {},
   "outputs": [],
   "source": [
    "class Solution:\n",
    "    def moveZeroes(self, nums: List[int]) -> None:\n",
    "        nonzero = 0  \n",
    "        \n",
    "        for i in range(len(nums)):\n",
    "            if nums[i] != 0:\n",
    "                nums[i], nums[nonzero] = nums[nonzero], nums[i]\n",
    "                nonzero += 1"
   ]
  },
  {
   "cell_type": "markdown",
   "id": "54702626",
   "metadata": {},
   "source": [
    "### 392. Is Subsequence\n",
    "Given two strings s and t, return true if s is a subsequence of t, or false otherwise.\n",
    "\n",
    "A subsequence of a string is a new string that is formed from the original string by deleting some (can be none) of the characters without disturbing the relative positions of the remaining characters. (i.e., \"ace\" is a subsequence of \"abcde\" while \"aec\" is not).\n",
    "\n"
   ]
  },
  {
   "cell_type": "code",
   "execution_count": null,
   "id": "fcdde09b",
   "metadata": {},
   "outputs": [],
   "source": [
    "class Solution:\n",
    "    def isSubsequence(self, s: str, t: str) -> bool:\n",
    "        \n",
    "        idx = 0 # s의 인덱스\n",
    "        idx_t = 0\n",
    "\n",
    "        while (idx < len(s)) and (idx_t < len(t)):\n",
    "\n",
    "            alpha = s[idx]\n",
    "            \n",
    "            if alpha == t[idx_t]:\n",
    "                idx += 1\n",
    "\n",
    "            idx_t += 1\n",
    "\n",
    "        \n",
    "        return idx == len(s)"
   ]
  }
 ],
 "metadata": {
  "kernelspec": {
   "display_name": "algorithm",
   "language": "python",
   "name": "python3"
  },
  "language_info": {
   "codemirror_mode": {
    "name": "ipython",
    "version": 3
   },
   "file_extension": ".py",
   "mimetype": "text/x-python",
   "name": "python",
   "nbconvert_exporter": "python",
   "pygments_lexer": "ipython3",
   "version": "3.13.1"
  }
 },
 "nbformat": 4,
 "nbformat_minor": 5
}
