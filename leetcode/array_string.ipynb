{
 "cells": [
  {
   "cell_type": "markdown",
   "id": "fedeed49",
   "metadata": {},
   "source": [
    "### 1768. Merge Strings Alternately\n",
    "You are given two strings word1 and word2. Merge the strings by adding letters in alternating order, starting with word1. If a string is longer than the other, append the additional letters onto the end of the merged string.\n",
    "\n",
    "Return the merged string."
   ]
  },
  {
   "cell_type": "code",
   "execution_count": 1,
   "id": "642afdf0",
   "metadata": {},
   "outputs": [],
   "source": [
    "class Solution:\n",
    "    def mergeAlternately(self, word1: str, word2: str) -> str:\n",
    "        \n",
    "        result = ''\n",
    "\n",
    "        for a, b in zip(word1, word2):\n",
    "            result += a\n",
    "            result += b\n",
    "    \n",
    "        if len(word1) != len(word2):\n",
    "            min_len = min(len(word1), len(word2))\n",
    "            result += word1[min_len:]\n",
    "            result += word2[min_len:]\n",
    "            \n",
    "\n",
    "        return result"
   ]
  },
  {
   "cell_type": "code",
   "execution_count": 2,
   "id": "c0a17360",
   "metadata": {},
   "outputs": [],
   "source": [
    "# 두번째에 짠 코드\n",
    "class Solution:\n",
    "    def mergeAlternately(self, word1: str, word2: str) -> str:\n",
    "        n, m = len(word1), len(word2)\n",
    "        res = []\n",
    "        i = j = 0\n",
    "        while i < n or j < m:\n",
    "            if i < n:\n",
    "                res.append(word1[i])\n",
    "            if j < m:\n",
    "                res.append(word2[j])\n",
    "            i += 1\n",
    "            j += 1\n",
    "        return \"\".join(res)\n"
   ]
  },
  {
   "cell_type": "markdown",
   "id": "5ee2f6f2",
   "metadata": {},
   "source": [
    "---"
   ]
  },
  {
   "cell_type": "markdown",
   "id": "b2ae6b1f",
   "metadata": {},
   "source": [
    "### 1071. Greatest Common Divisor of Strings\n",
    "For two strings s and t, we say \"t divides s\" if and only if s = t + t + t + ... + t + t (i.e., t is concatenated with itself one or more times).\n",
    "\n",
    "Given two strings str1 and str2, return the largest string x such that x divides both str1 and str2."
   ]
  },
  {
   "cell_type": "code",
   "execution_count": 1,
   "id": "cba49112",
   "metadata": {},
   "outputs": [
    {
     "name": "stdout",
     "output_type": "stream",
     "text": [
      "AB\n"
     ]
    }
   ],
   "source": [
    "class Solution:\n",
    "    def gcdOfStrings(self, str1: str, str2: str) -> str:\n",
    "        \n",
    "        # 최대 공약수 함수\n",
    "        def gcd(a : int, b : int) -> int:\n",
    "            while b:\n",
    "                a, b = b, a % b\n",
    "            return a\n",
    "        \n",
    "        # 공통 패턴이 있는지 확인\n",
    "        if str1+str2 != str2+str1:\n",
    "            return \"\"\n",
    "        \n",
    "        length = gcd(len(str1), len(str2))\n",
    "\n",
    "        return str1[:length]\n",
    "    \n",
    "\n",
    "s = Solution()\n",
    "result = s.gcdOfStrings(\"ABABAB\", \"ABAB\")\n",
    "print(result)"
   ]
  },
  {
   "cell_type": "markdown",
   "id": "50cdafb2",
   "metadata": {},
   "source": [
    "1. 문자열이 서로 반복으로 만들 수 있는지 확인\n",
    "- str1 + str2 = str2 + str1 이면 가능\n",
    "2. 두 문자열의 최대공약수를 구하고 그만큼 잘랐을 때 콩통인지 확인\n",
    "\n",
    "\n",
    "---"
   ]
  },
  {
   "cell_type": "markdown",
   "id": "66d496e6",
   "metadata": {},
   "source": [
    "### 1431. Kids with the greatest number of candies\n",
    "There are n kids with candies. You are given an integer array candies, where each candies[i] represents the number of candies the ith kid has, and an integer extraCandies, denoting the number of extra candies that you have.\n",
    "\n",
    "Return a boolean array result of length n, where result[i] is true if, after giving the ith kid all the extraCandies, they will have the greatest number of candies among all the kids, or false otherwise.\n",
    "\n",
    "Note that multiple kids can have the greatest number of candies."
   ]
  },
  {
   "cell_type": "code",
   "execution_count": 4,
   "id": "aff04a30",
   "metadata": {},
   "outputs": [
    {
     "name": "stdout",
     "output_type": "stream",
     "text": [
      "[True, True, True, False, True]\n"
     ]
    }
   ],
   "source": [
    "from typing import List\n",
    "\n",
    "class Solution:\n",
    "    def kidsWithCandies(self, candies: List[int], extraCandies: int) -> List[bool]:\n",
    "        max_candy = max(candies)\n",
    "        result = [True if c + extraCandies >= max_candy else False for c in candies]\n",
    "\n",
    "        return result\n",
    "    \n",
    "\n",
    "s = Solution()\n",
    "r = s.kidsWithCandies([2,3,5,1,3], 3)\n",
    "print(r)\n"
   ]
  },
  {
   "cell_type": "markdown",
   "id": "a0c10274",
   "metadata": {},
   "source": [
    "---"
   ]
  },
  {
   "cell_type": "markdown",
   "id": "dc80709f",
   "metadata": {},
   "source": [
    "### 605. Can Place Flowers\n",
    "You have a long flowerbed in which some of the plots are planted, and some are not. However, flowers cannot be planted in adjacent plots.\n",
    "\n",
    "Given an integer array flowerbed containing 0's and 1's, where 0 means empty and 1 means not empty, and an integer n, return true if n new flowers can be planted in the flowerbed without violating the no-adjacent-flowers rule and false otherwise."
   ]
  },
  {
   "cell_type": "code",
   "execution_count": null,
   "id": "78a27070",
   "metadata": {},
   "outputs": [],
   "source": [
    "class Solution:\n",
    "    def canPlaceFlowers(self, flowerbed: List[int], n: int) -> bool:\n",
    "        lenght = len(flowerbed)\n",
    "\n",
    "        for i in range(lenght):\n",
    "            if flowerbed[i] == 0 and (i == 0 or flowerbed[i-1] == 0) and (i == lenght-1 or flowerbed[i+1]==0):\n",
    "                flowerbed[i] = 1\n",
    "                n -= 1\n",
    "            \n",
    "            if n == 0:\n",
    "                return True\n",
    "            \n",
    "        if n >= 0:\n",
    "            return False"
   ]
  },
  {
   "cell_type": "markdown",
   "id": "0064da36",
   "metadata": {},
   "source": [
    "1. 인접하지 않은 자리를 찾는 조건\n",
    "   - flowerbed[i] == 0\n",
    "   - i == 0 or flowerbed[i-1] == 0 # 왼쪽이 없거나 비어 있음\n",
    "   - i == len(flowerbed[i-1])-1 or flowerbed[i+1] == 0 # 오른쪽이 없거나 비어 있음\n"
   ]
  },
  {
   "cell_type": "markdown",
   "id": "5eb5e68e",
   "metadata": {},
   "source": [
    "---"
   ]
  },
  {
   "cell_type": "markdown",
   "id": "a5a35ea7",
   "metadata": {},
   "source": [
    "### 345. Reverse Vowels of a String\n",
    "Given a string s, reverse only all the vowels in the string and return it.\n",
    "\n",
    "The vowels are 'a', 'e', 'i', 'o', and 'u', and they can appear in both lower and upper cases, more than once."
   ]
  },
  {
   "cell_type": "code",
   "execution_count": 7,
   "id": "cc97219d",
   "metadata": {},
   "outputs": [],
   "source": [
    "class Solution:\n",
    "    def reverseVowels(self, s: str) -> str:\n",
    "        vowels = set('aeiouAEIOU')\n",
    "        s = list(s)\n",
    "        left, right = 0, len(s)-1\n",
    "\n",
    "        while left < right:\n",
    "            if s[left] not in vowels:\n",
    "                left += 1\n",
    "                continue\n",
    "\n",
    "            if s[right] not in vowels:\n",
    "                right -= 1\n",
    "                continue\n",
    "\n",
    "\n",
    "            s[left], s[right] = s[right], s[left]\n",
    "            left += 1\n",
    "            right -= 1\n",
    "\n",
    "    \n",
    "        return ''.join(s)"
   ]
  }
 ],
 "metadata": {
  "kernelspec": {
   "display_name": "algorithm",
   "language": "python",
   "name": "python3"
  },
  "language_info": {
   "codemirror_mode": {
    "name": "ipython",
    "version": 3
   },
   "file_extension": ".py",
   "mimetype": "text/x-python",
   "name": "python",
   "nbconvert_exporter": "python",
   "pygments_lexer": "ipython3",
   "version": "3.13.1"
  }
 },
 "nbformat": 4,
 "nbformat_minor": 5
}
