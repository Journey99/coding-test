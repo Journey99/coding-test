{
 "cells": [
  {
   "cell_type": "markdown",
   "id": "fedeed49",
   "metadata": {},
   "source": [
    "### 1768. Merge Strings Alternately\n",
    "You are given two strings word1 and word2. Merge the strings by adding letters in alternating order, starting with word1. If a string is longer than the other, append the additional letters onto the end of the merged string.\n",
    "\n",
    "Return the merged string."
   ]
  },
  {
   "cell_type": "code",
   "execution_count": 1,
   "id": "642afdf0",
   "metadata": {},
   "outputs": [],
   "source": [
    "class Solution:\n",
    "    def mergeAlternately(self, word1: str, word2: str) -> str:\n",
    "        \n",
    "        result = ''\n",
    "\n",
    "        for a, b in zip(word1, word2):\n",
    "            result += a\n",
    "            result += b\n",
    "    \n",
    "        if len(word1) != len(word2):\n",
    "            min_len = min(len(word1), len(word2))\n",
    "            result += word1[min_len:]\n",
    "            result += word2[min_len:]\n",
    "            \n",
    "\n",
    "        return result"
   ]
  },
  {
   "cell_type": "code",
   "execution_count": 2,
   "id": "c0a17360",
   "metadata": {},
   "outputs": [],
   "source": [
    "# 두번째에 짠 코드\n",
    "class Solution:\n",
    "    def mergeAlternately(self, word1: str, word2: str) -> str:\n",
    "        n, m = len(word1), len(word2)\n",
    "        res = []\n",
    "        i = j = 0\n",
    "        while i < n or j < m:\n",
    "            if i < n:\n",
    "                res.append(word1[i])\n",
    "            if j < m:\n",
    "                res.append(word2[j])\n",
    "            i += 1\n",
    "            j += 1\n",
    "        return \"\".join(res)\n"
   ]
  }
 ],
 "metadata": {
  "kernelspec": {
   "display_name": "algorithm",
   "language": "python",
   "name": "python3"
  },
  "language_info": {
   "codemirror_mode": {
    "name": "ipython",
    "version": 3
   },
   "file_extension": ".py",
   "mimetype": "text/x-python",
   "name": "python",
   "nbconvert_exporter": "python",
   "pygments_lexer": "ipython3",
   "version": "3.13.1"
  }
 },
 "nbformat": 4,
 "nbformat_minor": 5
}
