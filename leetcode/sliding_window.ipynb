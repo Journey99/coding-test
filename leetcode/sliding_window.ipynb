{
 "cells": [
  {
   "cell_type": "markdown",
   "id": "9574428e",
   "metadata": {},
   "source": [
    "## Sliding window\n",
    "> 배열이나 문자열의 특정 구간을 효율적으로 탐색하는 방법\n",
    "> 연속된 부분합, 연속된 문자열 패턴, 부분 최대/최소, 길이가 고정된 or 조건이 있는 연속 구간 같은 문제에 자주 사용\n",
    "\n",
    "[핵심 아이디어]\n",
    "- 윈도우 : 현재 고려 중인 구간\n",
    "- 이동 : 새 원소를 포함시키고, 오래된 원소를 제거\n",
    "- 유지 : 윈도우 안에서 필요한 통계를 갱신"
   ]
  },
  {
   "cell_type": "markdown",
   "id": "fd5f7f93",
   "metadata": {},
   "source": [
    "---\n",
    "\n",
    "### 643. Maximum Average Subarray 1\n",
    "You are given an integer array nums consisting of n elements, and an integer k.\n",
    "\n",
    "Find a contiguous subarray whose length is equal to k that has the maximum average value and return this value. Any answer with a calculation error less than 10-5 will be accepted.\n"
   ]
  },
  {
   "cell_type": "code",
   "execution_count": null,
   "id": "788c30c4",
   "metadata": {},
   "outputs": [],
   "source": [
    "from typing import List\n",
    "\n",
    "class Solution:\n",
    "    def findMaxAverage(self, nums: List[int], k: int) -> float:\n",
    "        \n",
    "        k_sum = sum(nums[:k])\n",
    "        max_ave = k_sum / k\n",
    "\n",
    "        for i in range(k, len(nums)):\n",
    "            k_sum += nums[i] - nums[i-k]\n",
    "            max_ave = max(max_ave, k_sum / k)\n",
    "        \n",
    "        return max_ave\n"
   ]
  },
  {
   "cell_type": "markdown",
   "id": "78feb52a",
   "metadata": {},
   "source": [
    "---\n",
    "### 1456. Maximum Number of Vowels in a Substring of Given Length\n",
    "\n",
    "Given a string s and an integer k, return the maximum number of vowel letters in any substring of s with length k.\n",
    "\n",
    "Vowel letters in English are 'a', 'e', 'i', 'o', and 'u'."
   ]
  },
  {
   "cell_type": "code",
   "execution_count": 1,
   "id": "3bb2166c",
   "metadata": {},
   "outputs": [],
   "source": [
    "class Solution:\n",
    "    def maxVowels(self, s: str, k: int) -> int:\n",
    "\n",
    "        vowels = set(\"aeiou\")\n",
    "        cnt = 0\n",
    "        max_cnt = 0\n",
    "\n",
    "        for c in s[:k]:\n",
    "            if c in vowels:\n",
    "                cnt += 1\n",
    "\n",
    "        max_cnt = cnt\n",
    "\n",
    "        for i in range(k, len(s)):\n",
    "            if s[i] in vowels:\n",
    "                cnt += 1\n",
    "            if s[i-k] in vowels:\n",
    "                cnt -= 1\n",
    "\n",
    "            max_cnt = max(max_cnt, cnt)\n",
    "\n",
    "        return max_cnt"
   ]
  }
 ],
 "metadata": {
  "kernelspec": {
   "display_name": "algorithm",
   "language": "python",
   "name": "python3"
  },
  "language_info": {
   "codemirror_mode": {
    "name": "ipython",
    "version": 3
   },
   "file_extension": ".py",
   "mimetype": "text/x-python",
   "name": "python",
   "nbconvert_exporter": "python",
   "pygments_lexer": "ipython3",
   "version": "3.13.1"
  }
 },
 "nbformat": 4,
 "nbformat_minor": 5
}
