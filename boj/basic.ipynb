{
 "cells": [
  {
   "cell_type": "markdown",
   "metadata": {},
   "source": [
    "### 최대공약수와 최소공배수\n",
    "- 유클리드 호제법\n",
    "  - 두 정수 a와 b(a>=b)가 주어졌을 때, 최대공약수 gcd(a,b)는 다음과 같은 방식으로 구할 수 있다\n",
    "  1. a를 b로 나눈 나머지를 구한다\n",
    "  2. 나머지가 0이면 b가 gcd(a,b)이다\n",
    "  3. 나머지가 0이 아니라면, a를 b로, b를 r로 바꿔서 1-2 과정을 반복한다\n",
    "  4. 이 과정을 나머지 r이 0이 될때까지 반복하면 최대공약수를 구할 수 있다\n",
    "\n",
    "\n",
    "- 최대공약수\n",
    "  : gcd(a, b) = gcd(b, r) = gcd(b, a%b)\n",
    "\n",
    "- 최소공배수\n",
    "  - a = gcd(a, b) * n, b = gcd(a, b) * m\n",
    "  - lcm = gcd(a, b) * n * m = a * b // gcd(a, b)"
   ]
  },
  {
   "cell_type": "code",
   "execution_count": 1,
   "metadata": {},
   "outputs": [],
   "source": [
    "# a가 꼭 b보다 크거나 같지 않아도 된다.\n",
    "# a가 b보다 작을 경우 gcd(a, b) = gcd(b, a) 로 바뀐 후 재귀 호출이 진행된다\n",
    "\n",
    "def gcd(a, b):\n",
    "    if b == 0:\n",
    "        return a\n",
    "    else:\n",
    "        return gcd(b, a%b)\n",
    "    \n",
    "def lcm(a, b):\n",
    "    return a * b // gcd(b, a%b)"
   ]
  },
  {
   "cell_type": "markdown",
   "metadata": {},
   "source": [
    "### 소수\n",
    "- 약수가 자기자신과 1뿐인 수\n",
    "- 소수를 판별하는 문제는 두가지로 풀 수 있는데 소수를 미리 구한 후에 판별하는 것과 그때마다 소수를 판별하는 방법이 있다"
   ]
  },
  {
   "cell_type": "code",
   "execution_count": 2,
   "metadata": {},
   "outputs": [],
   "source": [
    "# 소수 판별 함수\n",
    "def is_prime(x):\n",
    "    if x < 2:\n",
    "        return False\n",
    "    if x == 2:\n",
    "        return True\n",
    "    if x % 2 == 0:\n",
    "        return False\n",
    "    for i in range(3, int(x**0.5)+1, 2): # 소수는 루트x까지만 봐도 됨\n",
    "        if x % i == 0:\n",
    "            return False\n",
    "    \n",
    "    return True\n",
    "\n",
    "\n",
    "# 에라토스테네스의 체를 활용\n",
    "def sieve(limit):\n",
    "    primes = [True] * (limit + 1)\n",
    "    primes[0] = primes[1] = False  # 0과 1은 소수가 아님\n",
    "\n",
    "    for i in range(2, int(limit**0.5) + 1):\n",
    "        if primes[i]:\n",
    "            for j in range(i * i, limit + 1, i):\n",
    "                primes[j] = False  # i의 배수들은 소수가 아님\n",
    "\n",
    "    return primes   "
   ]
  },
  {
   "cell_type": "code",
   "execution_count": null,
   "metadata": {},
   "outputs": [],
   "source": []
  }
 ],
 "metadata": {
  "kernelspec": {
   "display_name": "algorithm",
   "language": "python",
   "name": "python3"
  },
  "language_info": {
   "codemirror_mode": {
    "name": "ipython",
    "version": 3
   },
   "file_extension": ".py",
   "mimetype": "text/x-python",
   "name": "python",
   "nbconvert_exporter": "python",
   "pygments_lexer": "ipython3",
   "version": "3.13.1"
  }
 },
 "nbformat": 4,
 "nbformat_minor": 2
}
