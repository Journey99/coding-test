{
 "cells": [
  {
   "cell_type": "markdown",
   "metadata": {},
   "source": [
    "### 1. 최대공약수와 최소공배수\n",
    "- 유클리드 호제법\n",
    "  - 두 정수 a와 b(a>=b)가 주어졌을 때, 최대공약수 gcd(a,b)는 다음과 같은 방식으로 구할 수 있다\n",
    "  1. a를 b로 나눈 나머지를 구한다\n",
    "  2. 나머지가 0이면 b가 gcd(a,b)이다\n",
    "  3. 나머지가 0이 아니라면, a를 b로, b를 r로 바꿔서 1-2 과정을 반복한다\n",
    "  4. 이 과정을 나머지 r이 0이 될때까지 반복하면 최대공약수를 구할 수 있다\n",
    "\n",
    "\n",
    "- 최대공약수\n",
    "  : gcd(a, b) = gcd(b, r) = gcd(b, a%b)\n",
    "\n",
    "- 최소공배수\n",
    "  - a = gcd(a, b) * n, b = gcd(a, b) * m\n",
    "  - lcm = gcd(a, b) * n * m = a * b // gcd(a, b)"
   ]
  },
  {
   "cell_type": "code",
   "execution_count": 1,
   "metadata": {},
   "outputs": [],
   "source": [
    "# a가 꼭 b보다 크거나 같지 않아도 된다.\n",
    "# a가 b보다 작을 경우 gcd(a, b) = gcd(b, a) 로 바뀐 후 재귀 호출이 진행된다\n",
    "\n",
    "def gcd(a, b):\n",
    "    if b == 0:\n",
    "        return a\n",
    "    else:\n",
    "        return gcd(b, a%b)\n",
    "    \n",
    "def lcm(a, b):\n",
    "    return a * b // gcd(b, a%b)"
   ]
  },
  {
   "cell_type": "markdown",
   "metadata": {},
   "source": [
    "### 2. 소수\n",
    "- 약수가 자기자신과 1뿐인 수\n",
    "- 소수를 판별하는 문제는 두가지로 풀 수 있는데 소수를 미리 구한 후에 판별하는 것과 그때마다 소수를 판별하는 방법이 있다"
   ]
  },
  {
   "cell_type": "code",
   "execution_count": 2,
   "metadata": {},
   "outputs": [],
   "source": [
    "# 소수 판별 함수\n",
    "def is_prime(x):\n",
    "    if x < 2:\n",
    "        return False\n",
    "    if x == 2:\n",
    "        return True\n",
    "    if x % 2 == 0:\n",
    "        return False\n",
    "    for i in range(3, int(x**0.5)+1, 2): # 소수는 루트x까지만 봐도 됨\n",
    "        if x % i == 0:\n",
    "            return False\n",
    "    \n",
    "    return True\n",
    "\n",
    "\n",
    "# 에라토스테네스의 체를 활용\n",
    "def sieve(limit):\n",
    "    primes = [True] * (limit + 1)\n",
    "    primes[0] = primes[1] = False  # 0과 1은 소수가 아님\n",
    "\n",
    "    for i in range(2, int(limit**0.5) + 1):\n",
    "        if primes[i]:\n",
    "            for j in range(i * i, limit + 1, i):\n",
    "                primes[j] = False  # i의 배수들은 소수가 아님\n",
    "\n",
    "    return primes   "
   ]
  },
  {
   "cell_type": "markdown",
   "metadata": {},
   "source": [
    "### 3. 스택, 큐, 덱\n",
    "\n",
    "#### (1) 스택\n",
    "- 스택(Stack)은 후입선출(LIFO, Last In First Out) 구조를 가진 데이터 구조 - 가장 나중에 들어온 데이터가 가장 먼저 나가는 방식\n",
    "- 스택의 주요 연산\n",
    "  - Push: 스택의 꼭대기에 데이터를 추가하는 연산\n",
    "  - Pop: 스택의 꼭대기에서 데이터를 제거하고 반환하는 연산\n",
    "  - Peek: 스택의 꼭대기에 있는 데이터 값을 확인하는 연산 (제거하지 않음)\n",
    "  - isEmpty: 스택이 비어 있는지 확인하는 연산\n",
    "\n",
    "#### (2) 큐\n",
    "- 큐(Queue)는 선입선출(FIFO, First In First Out) 구조를 가진 데이터 구조\n",
    "- 가장 먼저 들어온 데이터가 가장 먼저 나가는 방식\n",
    "- 큐의 주요 연산\n",
    "  - Enqueue: 큐의 뒤쪽에 데이터를 추가하는 연산\n",
    "  - Dequeue: 큐의 앞쪽에서 데이터를 제거하고 반환하는 연산\n",
    "  - Peek: 큐의 앞쪽에 있는 데이터 값을 확인하는 연산 (제거하지 않음)\n",
    "  - isEmpty: 큐가 비어 있는지 확인하는 연산\n",
    "\n",
    "#### (3) 덱\n",
    "- 덱(Deque, Double-Ended Queue)은 양쪽 끝에서 삽입과 삭제가 가능한 선형 자료 구조\n",
    "\n",
    "[덱의 특징]\n",
    "- 양방향 접근\n",
    "- 큐와 스택의 특성을 모두 가진다.\n",
    "- 다양한 알고리즘과 데이터 구조에서 유용하게 사용되는데 예를 들어 슬라이딩 윈도우 문제, BFS 등에서 사용된다\n"
   ]
  },
  {
   "cell_type": "code",
   "execution_count": 4,
   "metadata": {},
   "outputs": [
    {
     "name": "stdout",
     "output_type": "stream",
     "text": [
      "스택 상태: ['A', 'B', 'C']\n",
      "제거된 요소: C\n",
      "스택 상태: ['A', 'B']\n",
      "꼭대기 요소: B\n",
      "스택이 비어 있나요? False\n",
      "큐 상태: deque(['A', 'B', 'C'])\n",
      "제거된 요소: A\n",
      "큐 상태: deque(['B', 'C'])\n",
      "앞쪽 요소: B\n",
      "큐가 비어 있나요? False\n",
      "deque([])\n"
     ]
    }
   ],
   "source": [
    "# 스택 생성\n",
    "stack = []\n",
    "\n",
    "# Push: 데이터 추가\n",
    "stack.append('A')\n",
    "stack.append('B')\n",
    "stack.append('C')\n",
    "\n",
    "print(\"스택 상태:\", stack)  # 스택 상태: ['A', 'B', 'C']\n",
    "\n",
    "# Pop: 데이터 제거\n",
    "top_element = stack.pop()\n",
    "print(\"제거된 요소:\", top_element)  # 제거된 요소: C\n",
    "print(\"스택 상태:\", stack)  # 스택 상태: ['A', 'B']\n",
    "\n",
    "# Peek: 꼭대기 요소 확인\n",
    "top_element = stack[-1]\n",
    "print(\"꼭대기 요소:\", top_element)  # 꼭대기 요소: B\n",
    "\n",
    "# 스택이 비어 있는지 확인\n",
    "is_empty = len(stack) == 0\n",
    "print(\"스택이 비어 있나요?\", is_empty)  # 스택이 비어 있나요? False\n",
    "\n",
    "\n",
    "############################################################\n",
    "from collections import deque\n",
    "\n",
    "# 큐 생성\n",
    "queue = deque()\n",
    "\n",
    "# Enqueue: 데이터 추가\n",
    "queue.append('A')\n",
    "queue.append('B')\n",
    "queue.append('C')\n",
    "\n",
    "print(\"큐 상태:\", queue)  # 큐 상태: deque(['A', 'B', 'C'])\n",
    "\n",
    "# Dequeue: 데이터 제거\n",
    "first_element = queue.popleft()\n",
    "print(\"제거된 요소:\", first_element)  # 제거된 요소: A\n",
    "print(\"큐 상태:\", queue)  # 큐 상태: deque(['B', 'C'])\n",
    "\n",
    "# Peek: 앞쪽 요소 확인\n",
    "front_element = queue[0]\n",
    "print(\"앞쪽 요소:\", front_element)  # 앞쪽 요소: B\n",
    "\n",
    "# 큐가 비어 있는지 확인\n",
    "is_empty = len(queue) == 0\n",
    "print(\"큐가 비어 있나요?\", is_empty)  # 큐가 비어 있나요? False\n",
    "\n",
    "############################################################\n",
    "\n",
    "from collections import deque\n",
    "\n",
    "# 덱 초기화\n",
    "dq = deque()\n",
    "\n",
    "# 원소 추가\n",
    "dq.append(1)        # 뒤쪽에 1 추가\n",
    "dq.appendleft(2)    # 앞쪽에 2 추가\n",
    "\n",
    "# 원소 삭제\n",
    "item1 = dq.pop()    # 뒤쪽에서 원소 제거 (1)\n",
    "item2 = dq.popleft() # 앞쪽에서 원소 제거 (2)\n",
    "\n",
    "# 현재 덱 상태\n",
    "print(dq)           # 출력: deque([])\n"
   ]
  },
  {
   "cell_type": "markdown",
   "metadata": {},
   "source": [
    "### 4. 백트래킹\n",
    "- 모든 가능한 경우의 수를 탐색하면서 조건에 맞지 않거나 해가 될 가능성이 없는 경우에는 되돌아가며 탐색을 가지치기하는 탐색 알고리즘\n",
    "\n",
    "#### 동작 방식\n",
    "1. 현재 상태에서 가능한 모든 선택지를 시도한다.\n",
    "2. **조건(제약조건)** 을 검사해 유망한 경우만 다음 단계로 간다.\n",
    "3. **목표 조건(해 조건)** 을 만족하면 답을 기록하거나 출력한다.\n",
    "4. 다시 돌아가서 다른 선택지를 탐색한다. → Backtrack!\n"
   ]
  },
  {
   "cell_type": "code",
   "execution_count": 1,
   "metadata": {},
   "outputs": [],
   "source": [
    "def backtrack(현재상태, 추가정보):\n",
    "    if 해인가(현재상태):\n",
    "        정답처리(현재상태)\n",
    "        return\n",
    "\n",
    "    for 선택 in 가능한_선택지(현재상태):\n",
    "        if 유망한가(선택, 현재상태):\n",
    "            상태_업데이트(선택)\n",
    "            backtrack(업데이트된_상태, 추가정보)\n",
    "            상태_복구(선택)  # Backtrack"
   ]
  },
  {
   "cell_type": "markdown",
   "metadata": {},
   "source": [
    "### 5.동적 프로그래밍\n",
    "- 복잡한 문제를 작은 하위 문제로 나누고, 이들의 결과를 저장하여 중복 계산을 피하는 최적화 기법\n",
    "- 주로 최적화 문제(최댓값, 최솟값, 경우의 수 등) 를 해결할 때 사용\n",
    "- 탑다운(재귀 + 메모이제이션) 방식과 바텀업(반복문 + 테이블) 방식이 있음\n",
    "\n",
    "#### 핵심개념\n",
    "1. 중복되는 하위 문제\n",
    "2. 최적 부분 구조\n",
    "   - 문제의 정답이 하위 문제의 정답으로부터 구해질 수 있음\n",
    "  \n",
    "#### DP 사용 조건\n",
    "- 문제를 여러 개의 하위 문제로 나눌 수 있어야 함\n",
    "- 각 하위 문제의 정답을 저장하고 재사용할 수 있어야 함\n",
    "- 하위 문제의 정답이 전체 문제의 정답을 구성해야 함"
   ]
  },
  {
   "cell_type": "code",
   "execution_count": 2,
   "metadata": {},
   "outputs": [],
   "source": [
    "# top-down\n",
    "def fib(n, memo={}):\n",
    "    if n <= 1:\n",
    "        return n\n",
    "    if n not in memo:\n",
    "        memo[n] = fib(n-1, memo) + fib(n-2, memo)\n",
    "    return memo[n]\n",
    "\n",
    "# bottom-up\n",
    "def fib(n):\n",
    "    if n <= 1:\n",
    "        return n\n",
    "    dp = [0, 1]\n",
    "    for i in range(2, n+1):\n",
    "        dp.append(dp[i-1] + dp[i-2])\n",
    "    return dp[n]"
   ]
  },
  {
   "cell_type": "markdown",
   "metadata": {},
   "source": [
    "### 6. LIS & LDS\n",
    "\n",
    "#### LIS\n",
    "- Longest Increasing Subsequence\n",
    "- 가장 긴 증가하는 수열\n",
    "\n",
    "#### LDS\n",
    "- Longest Decreasing Subsequence\n",
    "- 가장 긴 감소하는 수열"
   ]
  },
  {
   "cell_type": "code",
   "execution_count": null,
   "metadata": {},
   "outputs": [],
   "source": [
    "# 증가하는 부분 수열\n",
    "for i in range(n):\n",
    "    for j in range(i):\n",
    "        if a[j] < a[i]:\n",
    "            up[i] = max(up[i], up[j] + 1)\n",
    "\n",
    "# 감소하는 부분 수열\n",
    "for i in range(n-1, -1, -1):\n",
    "    for j in range(n-1, i, -1):\n",
    "        if a[i] > a[j]:\n",
    "            down[i] = max(down[i], down[j] + 1)"
   ]
  },
  {
   "cell_type": "markdown",
   "metadata": {},
   "source": [
    "### 7. 그리디 알고리즘\n",
    "- 항상 지금 당장 가장 좋아 보이는 선택만을 하는 방법\n",
    "\n",
    "#### 그리디 알고리즘 핵심 조건\n",
    "1. 탐욕적 선택 속성\n",
    "- 전체 문제의 최적해가 각 부분 문제의 최적해로 구성될 수 있어야 한다\n",
    "2. 부분 문제의 최적해가 전체 최적해로 연결됨\n",
    "- 현재의 최선 선택이, 이후 문제에도 영향을 안 줘야 한다\n",
    "\n",
    "#### 대표적 그리디 문제들\n",
    "- 거스름돈\n",
    "- 회의실 배정\n",
    "- 프림/크루스칼\n",
    "- 활동 선택 문제\n",
    "- 최소 회의실 문제"
   ]
  },
  {
   "cell_type": "code",
   "execution_count": null,
   "metadata": {},
   "outputs": [],
   "source": [
    "[동전 문제 예시]\n",
    "\n",
    "n, k = map(int, input().split())\n",
    "coins = [int(input()) for _ in range(n)]\n",
    "\n",
    "coins.sort(reverse=True)  # 큰 동전부터 사용\n",
    "\n",
    "count = 0\n",
    "\n",
    "for coin in coins:\n",
    "    if k >= coin:\n",
    "        count += k // coin  # 현재 동전으로 최대한 거슬러줌\n",
    "        k %= coin            # 남은 금액 갱신\n",
    "\n",
    "print(count)"
   ]
  },
  {
   "cell_type": "markdown",
   "metadata": {},
   "source": [
    "### 8. 분할 정복\n",
    "- 큰 문제를 작은 문제로 쪼개서 해결하고, 그것을 결합하여 전체 문제를 해결하는 방식\n",
    "\n",
    "#### 분할정복의 3단계\n",
    "1. Divide (분할)\n",
    "→ 문제를 더 작고 동일한 구조의 하위 문제들로 쪼갠다\n",
    "\n",
    "2. Conquer (정복)\n",
    "→ 각 하위 문제를 재귀적으로 해결한다\n",
    "→ 하위 문제가 충분히 작으면 바로 풀 수도 있음 (base case)\n",
    "\n",
    "3. Combine (통합)\n",
    "→ 정복한 하위 문제들의 해를 모아서 원래 문제의 해를 만든다\n",
    "\n",
    "#### 장점과 단점\n",
    "- 장점\n",
    "  - 문제 크기를 기하급수적으로 줄일 수 있음\n",
    "  - 많은 고속 알고리즘의 기반이 됨\n",
    "- 단점\n",
    "  - 재귀 호출이 깊어질 수 있어 메모리/스택 오버플로우 가능\n",
    "  - combine 과정이 비효율적이면 전체 성능 저하"
   ]
  },
  {
   "cell_type": "code",
   "execution_count": null,
   "metadata": {},
   "outputs": [],
   "source": [
    "# 피보나치 수열 비교\n",
    "\n",
    "# 재귀 - 가장 비효율적, 시간 초과 발생\n",
    "def fib(n):\n",
    "    if n <= 1:\n",
    "        return n\n",
    "    return fib(n-1) + fib(n-2)\n",
    "\n",
    "# top-down - 공간 복잡도 : O(N)\n",
    "memo = {}\n",
    "\n",
    "def fib(n):\n",
    "    if n <= 1:\n",
    "        return n\n",
    "    if n in memo:\n",
    "        return memo[n]\n",
    "    memo[n] = fib(n-1) + fib(n-2)\n",
    "    return memo[n]\n",
    "\n",
    "# bottom-up (반복문 + dp배열)\n",
    "def fib(n):\n",
    "    dp = [0] * (n+1)\n",
    "    dp[1] = 1\n",
    "    for i in range(2, n+1):\n",
    "        dp[i] = dp[i-1] + dp[i-2]\n",
    "    return dp[n]\n",
    "\n",
    "# Bottom-Up with Space Optimization - 가장 적은 메모리 사용\n",
    "def fib(n):\n",
    "    if n <= 1:\n",
    "        return n\n",
    "    a, b = 0, 1\n",
    "    for _ in range(2, n+1):\n",
    "        a, b = b, a + b\n",
    "    return b\n",
    "\n",
    "# 분할 정복 (행렬 제곱)\n",
    "def mat_mul(a, b):\n",
    "    return [\n",
    "        [a[0][0]*b[0][0] + a[0][1]*b[1][0],\n",
    "         a[0][0]*b[0][1] + a[0][1]*b[1][1]],\n",
    "        [a[1][0]*b[0][0] + a[1][1]*b[1][0],\n",
    "         a[1][0]*b[0][1] + a[1][1]*b[1][1]],\n",
    "    ]\n",
    "\n",
    "def mat_pow(mat, n):\n",
    "    if n == 1:\n",
    "        return mat\n",
    "    half = mat_pow(mat, n // 2)\n",
    "    temp = mat_mul(half, half)\n",
    "    return temp if n % 2 == 0 else mat_mul(temp, mat)\n",
    "\n",
    "def fib(n):\n",
    "    if n == 0:\n",
    "        return 0\n",
    "    base = [[1, 1], [1, 0]]\n",
    "    result = mat_pow(base, n-1)\n",
    "    return result[0][0]\n"
   ]
  },
  {
   "cell_type": "markdown",
   "metadata": {},
   "source": [
    "### 9. 이진 탐색\n",
    "- 정렬된 배열에서 원하는 값을 찾을 때\n",
    "- 중간값을 기준으로 좌우 절반씩 제거하며 탐색하는 방식\n",
    "\n",
    "#### 예시\n",
    "정렬된 배열 : [1,3,5,7,9,11,13]\n",
    "찾을 값 : 7\n",
    "이진 탐색 동작\n",
    "1. 중간값 5 -> 7보다 작음 -> 오른쪽 절반 탐색\n",
    "2. 중간값 9 -> 7보다 작음 -> 왼쪽 탐색\n",
    "3. 중간값 7 -> 찾음\n",
    "\n",
    "#### 시간 복잡도\n",
    "- 각 단계마다 탐색 범위를 절반으로 줄임\n",
    "- 최대 비교 횟수는 log2(n) -> O(longn)"
   ]
  },
  {
   "cell_type": "code",
   "execution_count": null,
   "metadata": {},
   "outputs": [
    {
     "name": "stdout",
     "output_type": "stream",
     "text": [
      "3\n",
      "3\n",
      "3\n"
     ]
    }
   ],
   "source": [
    "def binary_search(arr, target):\n",
    "    start, end = 0, len(arr) - 1\n",
    "\n",
    "    while start <= end:\n",
    "        mid = (start + end) // 2\n",
    "        if arr[mid] == target:\n",
    "            return mid\n",
    "        elif arr[mid] < target:\n",
    "            start = mid+1\n",
    "        else:\n",
    "            end = mid - 1\n",
    "    \n",
    "    return -1\n",
    "\n",
    "arr = [1, 3, 5, 7, 9, 11, 13]\n",
    "target = 7\n",
    "print(binary_search(arr, target))  # 출력: 3 (인덱스)\n",
    "\n",
    "\n",
    "# 파이썬 bisect 모듈로 이진 탐색\n",
    "import bisect\n",
    "arr = [1, 3, 5, 7, 9, 11]\n",
    "target = 6\n",
    "\n",
    "# target 이상 처음 위치\n",
    "print(bisect.bisect_left(arr, target))  # 출력: 3\n",
    "\n",
    "# target 초과 처음 위치\n",
    "print(bisect.bisect_right(arr, target))  # 출력: 3\n"
   ]
  },
  {
   "cell_type": "markdown",
   "metadata": {},
   "source": [
    "### 10. 우선순위 큐\n",
    "- 일반적인 큐는 선입선출 구조\n",
    "- 우선순위 큐는 들어온 순서와 상관없이 우선순위가 높은 요소를 먼저 꺼냄\n",
    "\n",
    "#### 우선순위 큐의 자료구조\n",
    "우선순위 큐는 보통 힙 자료구조로 구현된다.\n",
    "- 최소 힙 : 값이 작을수록 우선순위가 높음\n",
    "- 최대 힙 : 값이 클수록 우선순위가 높음\n",
    "\n",
    "#### python - heapq\n",
    "- heapq 모듈을 사용해 최소 힙 기반으로 작동"
   ]
  },
  {
   "cell_type": "code",
   "execution_count": 1,
   "metadata": {},
   "outputs": [
    {
     "name": "stdout",
     "output_type": "stream",
     "text": [
      "1\n",
      "2\n"
     ]
    }
   ],
   "source": [
    "# 일반 큐\n",
    "from collections import deque\n",
    "\n",
    "q = deque()\n",
    "q.append(1)\n",
    "q.append(2)\n",
    "\n",
    "print(q.popleft())\n",
    "print(q.popleft())"
   ]
  },
  {
   "cell_type": "code",
   "execution_count": 2,
   "metadata": {},
   "outputs": [
    {
     "name": "stdout",
     "output_type": "stream",
     "text": [
      "1\n",
      "2\n"
     ]
    }
   ],
   "source": [
    "# 우선순위 큐\n",
    "import heapq\n",
    "\n",
    "pq = []\n",
    "heapq.heappush(pq, 3)\n",
    "heapq.heappush(pq, 1)\n",
    "heapq.heappush(pq, 4)\n",
    "heapq.heappush(pq, 2)\n",
    "\n",
    "print(heapq.heappop(pq))\n",
    "print(heapq.heappop(pq))"
   ]
  },
  {
   "cell_type": "markdown",
   "metadata": {},
   "source": [
    "#### 아래와 같이 pq가 나오는 이유\n",
    "- heqpq는 정렬된 리스트가 아니라 힙 속성을 만족하는 리스트이기 때문에, 출력된 리스트에서 전체 순서가 정렬되어 있지 않아도 이상한게 아니다.\n",
    "- heapq.heappop() 으로 꺼낼 때 원하는 순서로 나옴"
   ]
  },
  {
   "cell_type": "code",
   "execution_count": 3,
   "metadata": {},
   "outputs": [
    {
     "data": {
      "text/plain": [
       "[(-3, 3), (2, 2), (4, 4), (3, 3)]"
      ]
     },
     "execution_count": 3,
     "metadata": {},
     "output_type": "execute_result"
    }
   ],
   "source": [
    "pq = []\n",
    "heapq.heappush(pq, (3, 3))\n",
    "heapq.heappush(pq, (-3, 3))\n",
    "heapq.heappush(pq, (4, 4))\n",
    "heapq.heappush(pq, (2, 2))\n",
    "\n",
    "pq"
   ]
  },
  {
   "cell_type": "markdown",
   "metadata": {},
   "source": [
    "### 11. 그래프\n",
    "그래프는 정점(vertex)과 간선(edge)으로 이루어진 자료구조\n",
    "\n",
    "#### 그래프 종류\n",
    "1. 방향 그래프 : 간선에 방향이 있음\n",
    "2. 무방향 그래프 : 간선에 방향이 없음\n",
    "3. 가중치 그래프 : 간선에 비용(가중치)이 있음\n",
    "4. 비가중치 그래프 : 간선에 비용이 없음\n",
    "\n",
    "#### 그래프 표현 방법\n",
    "1. 인접 리스트\n",
    "   - 각 정점에 연결된 노드들을 리스트에 저장\n",
    "   - 메모리 효율적\n",
    "2. 인접 행렬\n",
    "   - 2차원 배열로 연결 여부 저장\n",
    "   - 연결 여부 확인 O(1)\n",
    "3. 인접 배열\n",
    "   - n개의 정점을 가지는 그래프를 배열로 표현\n",
    "   - 배열을 정렬된 상태로 만들면 이진 탐색 사용 가능\n",
    "4. 인접 해시 테이블\n",
    "   - n개의 정점을 가지는 그래프를 n개의 해시 테이블로 표현\n",
    "\n",
    "#### 깊이 우선 탐색 (DFS; Depth first search)\n",
    "- 깊이 우선 탐색은 root node부터 시작하여 가장 깊은 곳까지 탐색한 후 돌아서 모든 정점을 방문\n",
    "- 스택 또는 재귀로 구현\n",
    "- 장점 : 구현 간단, 메모리 적게 사용 (인접리스트 사용 시)\n",
    "- 단점 : 경로가 깊으면 스택 오버플로우 위험, 최단 경로 보장 x\n",
    "\n",
    "####"
   ]
  },
  {
   "cell_type": "code",
   "execution_count": 1,
   "metadata": {},
   "outputs": [
    {
     "name": "stdout",
     "output_type": "stream",
     "text": [
      "1 2 4 3 5 "
     ]
    }
   ],
   "source": [
    "# dfs (재귀)\n",
    "def dfs(graph, v, visited):\n",
    "    visited[v] = True\n",
    "    print(v, end = ' ')\n",
    "\n",
    "    for neighbor in graph[v]:\n",
    "        if not visited[neighbor]:\n",
    "            dfs(graph, neighbor, visited)\n",
    "\n",
    "# 예시\n",
    "graph = {\n",
    "    1: [2, 3],\n",
    "    2: [1, 4],\n",
    "    3: [1, 5],\n",
    "    4: [2],\n",
    "    5: [3]\n",
    "}\n",
    "\n",
    "visited = [False] * 6\n",
    "dfs(graph, 1, visited)"
   ]
  },
  {
   "cell_type": "markdown",
   "metadata": {},
   "source": [
    "#### 너비 우선 탐색 (BFS; Breadth first search)\n",
    "- root node 부터 출발하여 root로부터 인접한 node들부터 탐색하고, 점점 탐색 범위를 넓혀나감\n",
    "- queue로 구현 \n",
    "- 장점 : 최단 거리 탐색에 적합\n",
    "- 단점 : 큐에 많은 노드가 들어가면 메모리 소모 큼"
   ]
  },
  {
   "cell_type": "code",
   "execution_count": 2,
   "metadata": {},
   "outputs": [
    {
     "name": "stdout",
     "output_type": "stream",
     "text": [
      "1 2 3 4 5 "
     ]
    }
   ],
   "source": [
    "# bfs(큐)\n",
    "from collections import deque\n",
    "\n",
    "def bfs(graph, start, visited):\n",
    "    queue = deque([start])\n",
    "    visited[start] = True\n",
    "\n",
    "    while queue:\n",
    "        v = queue.popleft()\n",
    "        print(v, end=' ')\n",
    "\n",
    "        for neighbor in graph[v]:\n",
    "            if not visited[neighbor] :\n",
    "                visited[neighbor] = True\n",
    "                queue.append(neighbor)\n",
    "\n",
    "graph = {\n",
    "    1: [2, 3],\n",
    "    2: [1, 4],\n",
    "    3: [1, 5],\n",
    "    4: [2],\n",
    "    5: [3]\n",
    "}\n",
    "visited = [False] * 6\n",
    "bfs(graph, 1, visited)"
   ]
  },
  {
   "cell_type": "markdown",
   "metadata": {},
   "source": [
    "### 12. 위상정렬\n",
    "위상정렬은 그래프 이론에서 중요한 알고리즘 중 하나로 작업 순서 결정, 의존 관계 처리 같은 문제에서 자주 등장한다.\n",
    "\n",
    "#### 위상정렬 정의\n",
    "- 방향 그래프에서 사이클이 없는 경우에만 적용 가능한 정렬 방법\n",
    "- 그래프의 모든 정점을 \"순서 있게 나열\" 하는 것인데, 모든 간선 (u->v) 에 대해 u가 v보다 앞에 오도록 정렬하는 것\n",
    "- 즉, 어떤 일을 하기 전에 반드시 선행되어야 하는 작업이 있다면, 그 순서를 지켜가며 전체 작업을 나열하는 과정이다\n",
    "\n",
    "#### 위상정렬 특징\n",
    "- DAG(사이클이 없는 방향 그래프)에 대해서만 가능하다\n",
    "- 결과는 항상 여러개가 될 수 있다 (순서가 유일하지 않을 수 있음)\n",
    "\n",
    "#### 위상정렬 알고리즘\n",
    "1. BFS 방식 (Kahn's algorithm)\n",
    "- 진입 차수를 이용하는 방식\n",
    "- 진입 차수 = 해당 노드로 들어오는 간선의 개수"
   ]
  },
  {
   "cell_type": "code",
   "execution_count": 1,
   "metadata": {},
   "outputs": [
    {
     "name": "stdout",
     "output_type": "stream",
     "text": [
      "[1, 3, 5, 2, 4, 6]\n"
     ]
    }
   ],
   "source": [
    "from collections import deque\n",
    "\n",
    "def topology_sort(v, edges):\n",
    "    graph = [[] for _ in range(v+1)]\n",
    "    indegree = [0] * (v+1)\n",
    "\n",
    "    # 그래프 구성 & 진입 차수 계산\n",
    "    for a, b in edges:\n",
    "        graph[a].append(b)\n",
    "        indegree[b] += 1\n",
    "\n",
    "    # 진입 차수 0인 노드 큐에 넣기\n",
    "    queue = deque([i for i in range(1, v+1) if indegree[i] == 0])\n",
    "    result = []\n",
    "\n",
    "    while queue:\n",
    "        now = queue.popleft()\n",
    "        result.append(now)\n",
    "\n",
    "        for nxt in graph[now]:\n",
    "            indegree[nxt] -= 1\n",
    "            if indegree[nxt] == 0:\n",
    "                queue.append(nxt)\n",
    "    \n",
    "    return result\n",
    "\n",
    "v = 6\n",
    "edges = [(1,5), (1,2), (3,2), (3,4), (4,6), (5,6)]\n",
    "print(topology_sort(v, edges))  # 가능한 위상정렬 출력"
   ]
  },
  {
   "cell_type": "markdown",
   "metadata": {},
   "source": [
    "### 13. 최단 경로 알고리즘\n",
    "#### 기본 개념\n",
    "- 정의 : 그래프에서 한 정점에서 다른 정점까지 가는 경로의 길이(가중치)의 합이 최소가 되는 경로를 찾는 알고리즘\n",
    "- 그래프 조건\n",
    "  - 간선은 방향성이 있을 수도 있고, 업을 수도 있음\n",
    "  - 간선에는 비용이 있을 수 있음\n",
    "- 알고리즘 종류는 크게 3가지가 있다\n",
    "\n",
    "#### 다익스트라 알고리즘\n",
    "- 정의 : 하나의 시작점에서 다른 모든 정점까지의 최단 거리를 구하는 알고리즘\n",
    "- 전제 조건 : 간선의 가중치가 음수일 수 없음\n",
    "- 핵심 아이디어\n",
    "  - 출발점에서 가까운 노드부터 차례대로 최단 거리를 확정\n",
    "  - 우선순위 큐(힙) 을 사용하여 가장 짧은 거리의 노드를 먼저 꺼내 탐색\n",
    "- 동작 과정\n",
    "    1. 출발 노드의 거리를 0, 나머지는 무한대로 초기화\n",
    "    2. 출발 노드부터 시작해서 인접한 노드들의 거리를 갱신\n",
    "    3. 아직 방문하지 않은 노드 중 가장 거리가 짧은 노드를 선택해 방문\n",
    "    4. 위 과정을 반복하여 모든 노드의 최단 거리를 확정"
   ]
  },
  {
   "cell_type": "code",
   "execution_count": null,
   "metadata": {},
   "outputs": [
    {
     "name": "stdout",
     "output_type": "stream",
     "text": [
      "노드 1: 최단 거리 = 0\n",
      "노드 2: 최단 거리 = 2\n",
      "노드 3: 최단 거리 = 3\n",
      "노드 4: 최단 거리 = 1\n",
      "노드 5: 최단 거리 = 2\n",
      "노드 6: 최단 거리 = 4\n"
     ]
    }
   ],
   "source": [
    "# 다익스트라 알고리즘\n",
    "import heapq\n",
    "\n",
    "def dijkstra(start, graph, n):\n",
    "    # 거리 배열\n",
    "    distance = [float('inf')] * (n+1)\n",
    "    distance[start] = 0\n",
    "\n",
    "    # 유선순위 큐 (거리, 노드)\n",
    "    heap = []\n",
    "    heapq.heappush(heap, (0, start))\n",
    "\n",
    "    while heap:\n",
    "        dist, now = heapq.heappop(heap)\n",
    "\n",
    "        # 이미 처리 된 노드면 무시\n",
    "        if distance[now] < dist:\n",
    "            continue\n",
    "\n",
    "        # 현재 노드와 연결된 다른 인접 노드 확인\n",
    "        for nxt, w in graph[now]:\n",
    "            cost = dist + w\n",
    "            if cost < distance[nxt]:\n",
    "                distance[nxt] = cost\n",
    "                heapq.heappush(heap, (cost, nxt))\n",
    "\n",
    "    return distance\n",
    "\n",
    "n, m = 6, 11 # 노드 개수 / 간선 개수\n",
    "graph = [[] for _ in range(n+1)]\n",
    "\n",
    "edges = [\n",
    "    (1, 2, 2), (1, 3, 5), (1, 4, 1),\n",
    "    (2, 3, 3), (2, 4, 2),\n",
    "    (3, 2, 3), (3, 6, 5),\n",
    "    (4, 3, 3), (4, 5, 1),\n",
    "    (5, 3, 1), (5, 6, 2)\n",
    "]\n",
    "\n",
    "# 그래프 생성\n",
    "for a, b, w in edges:\n",
    "    graph[a].append((b,w))\n",
    "    # graph[b].append((a, w)) # 무방향 그래프일때는 반대방향도 추가\n",
    "\n",
    "# 1번 노드에서 시작\n",
    "result = dijkstra(1, graph, n)\n",
    "\n",
    "for i in range(1, n+1):\n",
    "    if result[i] == float(\"inf\"):\n",
    "        print(f\"노드 {i}: 도달 불가\")\n",
    "    else:\n",
    "        print(f\"노드 {i}: 최단 거리 = {result[i]}\")"
   ]
  },
  {
   "cell_type": "markdown",
   "metadata": {},
   "source": [
    "#### 벨만-포드 알고리즘\n",
    "1. 아이디어\n",
    "- 모든 간선을 최대 n-1번 반복하면서 최단 거리를 갱신\n",
    "- 이유 : 최단 경로에 포함될 수 있는 간선의 최대 개수는 n-1 개이기 때문\n",
    "2. 과정\n",
    "- 시작 정점에서 다른 모든 정점까지의 거리를 inf로 초기화\n",
    "- 모든 간선을 확인하며, 현재 거리를 갱신할 수 있으면 업데이트\n",
    "- 이 과정을 n-1번 반복\n",
    "- 이후 한 번 더 순회하면서 갱신이 일어나면 -> 음수 사이클 존재\n",
    "3. 시간 복잡도\n",
    "- 간선 개수를 e, 정점 개수를 v라 하면 : O(VE)\n",
    "- 다익스트라보다는 느리지만 음수 간선이 있으면 벨만-포드가 유일한 선택\n",
    "4. 다익스트라와 차이점\n",
    "- 다익스트라 : 그리디, 음수 간선 x, 빠름\n",
    "- 벨만포드 : 동적 계획법, 음수 간선 O, 느림"
   ]
  },
  {
   "cell_type": "code",
   "execution_count": null,
   "metadata": {},
   "outputs": [],
   "source": [
    "# 정점이 v개 있을 때, 최단 경로는 최대 v-1개의 간선으로 이루어짐\n",
    "# 따라서 v-1번 반복해서 모든 간선을 완화하면 최단거리를 구할 수 있음\n",
    "# v-1 번 완화를 다 끝냈는데도 더 줄어드는 경로가 있다는 것은 음수 사이클이 존재한다는거!!\n",
    "\n",
    "import sys\n",
    "input = sys.stdin.readline\n",
    "\n",
    "INF = int(1e9)\n",
    "\n",
    "def bellman_ford(n, edges, start):\n",
    "    distance = [INF] * (n+1)\n",
    "    distance[start] = 0\n",
    "\n",
    "    for _ in range(n-1):\n",
    "        for u, v, w in edges: # u -> v 가중치 w\n",
    "            if distance[u] != INF and distance[u] + w < distance[v]:\n",
    "                distance[v] = distance[u] + w\n",
    "    \n",
    "    # 음수 사이클 검사\n",
    "    for u, v, w in edges:\n",
    "        if distance[u] != INF and distance[u] + w < distance[v]:\n",
    "            return None\n",
    "    \n",
    "    return distance\n",
    "\n",
    "# 입력 예시\n",
    "# n = 정점 개수, m = 간선 개수\n",
    "n, m = map(int, input().split())\n",
    "edges = []\n",
    "for _ in range(m):\n",
    "    u, v, w = map(int, input().split())\n",
    "    edges.append((u, v, w))\n",
    "\n",
    "start = 1\n",
    "result = bellman_ford(n, edges, start)\n",
    "\n",
    "if result is None:\n",
    "    print(\"음수 사이클 존재\")\n",
    "else:\n",
    "    for i in range(1, n+1):\n",
    "        print(f\"1번에서 {i}번까지 최단 거리: {result[i] if result[i] != INF else '도달 불가'}\")"
   ]
  },
  {
   "cell_type": "markdown",
   "metadata": {},
   "source": []
  }
 ],
 "metadata": {
  "kernelspec": {
   "display_name": "algorithm",
   "language": "python",
   "name": "python3"
  },
  "language_info": {
   "codemirror_mode": {
    "name": "ipython",
    "version": 3
   },
   "file_extension": ".py",
   "mimetype": "text/x-python",
   "name": "python",
   "nbconvert_exporter": "python",
   "pygments_lexer": "ipython3",
   "version": "3.13.1"
  }
 },
 "nbformat": 4,
 "nbformat_minor": 2
}
