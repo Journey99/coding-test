{
 "cells": [
  {
   "cell_type": "markdown",
   "metadata": {},
   "source": [
    "### 최대공약수와 최소공배수\n",
    "- 유클리드 호제법\n",
    "  - 두 정수 a와 b(a>=b)가 주어졌을 때, 최대공약수 gcd(a,b)는 다음과 같은 방식으로 구할 수 있다\n",
    "  1. a를 b로 나눈 나머지를 구한다\n",
    "  2. 나머지가 0이면 b가 gcd(a,b)이다\n",
    "  3. 나머지가 0이 아니라면, a를 b로, b를 r로 바꿔서 1-2 과정을 반복한다\n",
    "  4. 이 과정을 나머지 r이 0이 될때까지 반복하면 최대공약수를 구할 수 있다\n",
    "\n",
    "\n",
    "- 최대공약수\n",
    "  : gcd(a, b) = gcd(b, r) = gcd(b, a%b)\n",
    "\n",
    "- 최소공배수\n",
    "  - a = gcd(a, b) * n, b = gcd(a, b) * m\n",
    "  - lcm = gcd(a, b) * n * m = a * b // gcd(a, b)"
   ]
  },
  {
   "cell_type": "code",
   "execution_count": 1,
   "metadata": {},
   "outputs": [],
   "source": [
    "# a가 꼭 b보다 크거나 같지 않아도 된다.\n",
    "# a가 b보다 작을 경우 gcd(a, b) = gcd(b, a) 로 바뀐 후 재귀 호출이 진행된다\n",
    "\n",
    "def gcd(a, b):\n",
    "    if b == 0:\n",
    "        return a\n",
    "    else:\n",
    "        return gcd(b, a%b)\n",
    "    \n",
    "def lcm(a, b):\n",
    "    return a * b // gcd(b, a%b)"
   ]
  }
 ],
 "metadata": {
  "kernelspec": {
   "display_name": "algorithm",
   "language": "python",
   "name": "python3"
  },
  "language_info": {
   "codemirror_mode": {
    "name": "ipython",
    "version": 3
   },
   "file_extension": ".py",
   "mimetype": "text/x-python",
   "name": "python",
   "nbconvert_exporter": "python",
   "pygments_lexer": "ipython3",
   "version": "3.13.1"
  }
 },
 "nbformat": 4,
 "nbformat_minor": 2
}
