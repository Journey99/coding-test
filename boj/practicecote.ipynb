{
 "cells": [
  {
   "cell_type": "markdown",
   "id": "a5374ac9",
   "metadata": {},
   "source": [
    "## IT기업 및 대기업 계열사 코테보면서 비슷했던 문제들 모음집\n",
    "https://www.acmicpc.net/workbook/view/8708"
   ]
  },
  {
   "cell_type": "markdown",
   "id": "413cc9aa",
   "metadata": {},
   "source": [
    "### 23971. ZOAC 4\n",
    "2021년 12월, 네 번째로 개최된 ZOAC의 오프닝을 맡은 성우는 오프라인 대회를 대비하여 강의실을 예약하려고 한다.\n",
    "\n",
    "강의실에서 대회를 치르려면 거리두기 수칙을 지켜야 한다!\n",
    "\n",
    "한 명씩 앉을 수 있는 테이블이 행마다 W개씩 H행에 걸쳐 있을 때, 모든 참가자는 세로로 N칸 또는 가로로 M칸 이상 비우고 앉아야 한다. 즉, 다른 모든 참가자와 세로줄 번호의 차가 N보다 크거나 가로줄 번호의 차가 M보다 큰 곳에만 앉을 수 있다.\n",
    "\n",
    "논문과 과제에 시달리는 성우를 위해 강의실이 거리두기 수칙을 지키면서 최대 몇 명을 수용할 수 있는지 구해보자."
   ]
  },
  {
   "cell_type": "code",
   "execution_count": null,
   "id": "4137b6fe",
   "metadata": {},
   "outputs": [
    {
     "data": {
      "text/plain": [
       "(2, 2)"
      ]
     },
     "execution_count": 3,
     "metadata": {},
     "output_type": "execute_result"
    }
   ],
   "source": [
    "from math import ceil\n",
    "\n",
    "h, w, n, m = map(int, input().split())\n",
    "\n",
    "# 세로\n",
    "h_cnt = ceil(h / (n+1))\n",
    "# 가로\n",
    "w_cnt = ceil(w / (m+1))\n",
    "\n",
    "print(h_cnt * w_cnt)"
   ]
  },
  {
   "cell_type": "markdown",
   "id": "1e9ce399",
   "metadata": {},
   "source": [
    "- 위의 문제는 그림만 보면 그래프를 이용해야하나 할 수도 있는데 수학적 아이디어를 가지고 푸는 문제다\n",
    "- 한 명을 (i, j) 에 앉히면 세로는 n + 1 칸 가로는 m + 1 칸 떨어져서만 다음 사람을 앉힐 수 있다"
   ]
  },
  {
   "cell_type": "markdown",
   "id": "eac4bc54",
   "metadata": {},
   "source": [
    "---"
   ]
  },
  {
   "cell_type": "markdown",
   "id": "b217a69c",
   "metadata": {},
   "source": [
    "### 5073. 삼각형과 세 변\n",
    "삼각형의 세 변의 길이가 주어질 때 변의 길이에 따라 다음과 같이 정의한다.\n",
    "\n",
    "Equilateral :  세 변의 길이가 모두 같은 경우\n",
    "Isosceles : 두 변의 길이만 같은 경우\n",
    "Scalene : 세 변의 길이가 모두 다른 경우\n",
    "단 주어진 세 변의 길이가 삼각형의 조건을 만족하지 못하는 경우에는 \"Invalid\" 를 출력한다. 예를 들어 6, 3, 2가 이 경우에 해당한다. 가장 긴 변의 길이보다 나머지 두 변의 길이의 합이 길지 않으면 삼각형의 조건을 만족하지 못한다.\n",
    "\n",
    "세 변의 길이가 주어질 때 위 정의에 따른 결과를 출력하시오."
   ]
  },
  {
   "cell_type": "code",
   "execution_count": null,
   "id": "e815a865",
   "metadata": {},
   "outputs": [],
   "source": [
    "while True:\n",
    "    a, b, c = map(int, input().split())\n",
    "\n",
    "    if a == b == c == 0:\n",
    "        break\n",
    "\n",
    "\n",
    "    if (a+b+c) - max((a,b,c)) <= max((a,b,c)):\n",
    "        print(\"Invalid\")\n",
    "\n",
    "    elif a == b == c:\n",
    "        print(\"Equilateral\")\n",
    "    elif a == b or b == c or a == c:\n",
    "        print(\"Isosceles\")\n",
    "    else:\n",
    "        print(\"Scalene\")\n",
    "        "
   ]
  },
  {
   "cell_type": "markdown",
   "id": "b98bb1b4",
   "metadata": {},
   "source": [
    "---"
   ]
  },
  {
   "cell_type": "markdown",
   "id": "47bc0845",
   "metadata": {},
   "source": [
    "### 2292. 벌집\n",
    "육각형으로 이루어진 벌집이 있다. 그림에서 보는 바와 같이 중앙의 방 1부터 시작해서 이웃하는 방에 돌아가면서 1씩 증가하는 번호를 주소로 매길 수 있다. 숫자 N이 주어졌을 때, 벌집의 중앙 1에서 N번 방까지 최소 개수의 방을 지나서 갈 때 몇 개의 방을 지나가는지(시작과 끝을 포함하여)를 계산하는 프로그램을 작성하시오. 예를 들면, 13까지는 3개, 58까지는 5개를 지난다."
   ]
  },
  {
   "cell_type": "code",
   "execution_count": 4,
   "id": "4d9a6e1e",
   "metadata": {},
   "outputs": [
    {
     "name": "stdout",
     "output_type": "stream",
     "text": [
      "3\n"
     ]
    }
   ],
   "source": [
    "n = int(input())\n",
    "k = 1\n",
    "\n",
    "while True:\n",
    "    \n",
    "    if n <= 1 + 3*k*(k-1):\n",
    "        print(k)\n",
    "        break\n",
    "\n",
    "    k += 1"
   ]
  },
  {
   "cell_type": "code",
   "execution_count": 5,
   "id": "3bfcbbd4",
   "metadata": {},
   "outputs": [
    {
     "name": "stdout",
     "output_type": "stream",
     "text": [
      "3\n"
     ]
    }
   ],
   "source": [
    "N = int(input())\n",
    "cnt = 1\n",
    "while N > 1:\n",
    "    N -= (6 * cnt)\n",
    "    cnt += 1\n",
    "print(cnt)"
   ]
  },
  {
   "cell_type": "markdown",
   "id": "0f49708b",
   "metadata": {},
   "source": [
    "---"
   ]
  }
 ],
 "metadata": {
  "kernelspec": {
   "display_name": "algorithm",
   "language": "python",
   "name": "python3"
  },
  "language_info": {
   "codemirror_mode": {
    "name": "ipython",
    "version": 3
   },
   "file_extension": ".py",
   "mimetype": "text/x-python",
   "name": "python",
   "nbconvert_exporter": "python",
   "pygments_lexer": "ipython3",
   "version": "3.13.1"
  }
 },
 "nbformat": 4,
 "nbformat_minor": 5
}
