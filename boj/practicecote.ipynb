{
 "cells": [
  {
   "cell_type": "markdown",
   "id": "a5374ac9",
   "metadata": {},
   "source": [
    "## IT기업 및 대기업 계열사 코테보면서 비슷했던 문제들 모음집\n",
    "https://www.acmicpc.net/workbook/view/8708"
   ]
  },
  {
   "cell_type": "markdown",
   "id": "413cc9aa",
   "metadata": {},
   "source": [
    "### 23971. ZOAC 4\n",
    "2021년 12월, 네 번째로 개최된 ZOAC의 오프닝을 맡은 성우는 오프라인 대회를 대비하여 강의실을 예약하려고 한다.\n",
    "\n",
    "강의실에서 대회를 치르려면 거리두기 수칙을 지켜야 한다!\n",
    "\n",
    "한 명씩 앉을 수 있는 테이블이 행마다 W개씩 H행에 걸쳐 있을 때, 모든 참가자는 세로로 N칸 또는 가로로 M칸 이상 비우고 앉아야 한다. 즉, 다른 모든 참가자와 세로줄 번호의 차가 N보다 크거나 가로줄 번호의 차가 M보다 큰 곳에만 앉을 수 있다.\n",
    "\n",
    "논문과 과제에 시달리는 성우를 위해 강의실이 거리두기 수칙을 지키면서 최대 몇 명을 수용할 수 있는지 구해보자."
   ]
  },
  {
   "cell_type": "code",
   "execution_count": null,
   "id": "4137b6fe",
   "metadata": {},
   "outputs": [
    {
     "data": {
      "text/plain": [
       "(2, 2)"
      ]
     },
     "execution_count": 3,
     "metadata": {},
     "output_type": "execute_result"
    }
   ],
   "source": [
    "from math import ceil\n",
    "\n",
    "h, w, n, m = map(int, input().split())\n",
    "\n",
    "# 세로\n",
    "h_cnt = ceil(h / (n+1))\n",
    "# 가로\n",
    "w_cnt = ceil(w / (m+1))\n",
    "\n",
    "print(h_cnt * w_cnt)"
   ]
  },
  {
   "cell_type": "markdown",
   "id": "1e9ce399",
   "metadata": {},
   "source": [
    "- 위의 문제는 그림만 보면 그래프를 이용해야하나 할 수도 있는데 수학적 아이디어를 가지고 푸는 문제다\n",
    "- 한 명을 (i, j) 에 앉히면 세로는 n + 1 칸 가로는 m + 1 칸 떨어져서만 다음 사람을 앉힐 수 있다"
   ]
  },
  {
   "cell_type": "markdown",
   "id": "eac4bc54",
   "metadata": {},
   "source": [
    "---"
   ]
  },
  {
   "cell_type": "markdown",
   "id": "b217a69c",
   "metadata": {},
   "source": [
    "### 5073. 삼각형과 세 변\n",
    "삼각형의 세 변의 길이가 주어질 때 변의 길이에 따라 다음과 같이 정의한다.\n",
    "\n",
    "Equilateral :  세 변의 길이가 모두 같은 경우\n",
    "Isosceles : 두 변의 길이만 같은 경우\n",
    "Scalene : 세 변의 길이가 모두 다른 경우\n",
    "단 주어진 세 변의 길이가 삼각형의 조건을 만족하지 못하는 경우에는 \"Invalid\" 를 출력한다. 예를 들어 6, 3, 2가 이 경우에 해당한다. 가장 긴 변의 길이보다 나머지 두 변의 길이의 합이 길지 않으면 삼각형의 조건을 만족하지 못한다.\n",
    "\n",
    "세 변의 길이가 주어질 때 위 정의에 따른 결과를 출력하시오."
   ]
  },
  {
   "cell_type": "code",
   "execution_count": null,
   "id": "e815a865",
   "metadata": {},
   "outputs": [],
   "source": [
    "while True:\n",
    "    a, b, c = map(int, input().split())\n",
    "\n",
    "    if a == b == c == 0:\n",
    "        break\n",
    "\n",
    "\n",
    "    if (a+b+c) - max((a,b,c)) <= max((a,b,c)):\n",
    "        print(\"Invalid\")\n",
    "\n",
    "    elif a == b == c:\n",
    "        print(\"Equilateral\")\n",
    "    elif a == b or b == c or a == c:\n",
    "        print(\"Isosceles\")\n",
    "    else:\n",
    "        print(\"Scalene\")\n",
    "        "
   ]
  },
  {
   "cell_type": "markdown",
   "id": "b98bb1b4",
   "metadata": {},
   "source": [
    "---"
   ]
  },
  {
   "cell_type": "markdown",
   "id": "47bc0845",
   "metadata": {},
   "source": [
    "### 2292. 벌집\n",
    "육각형으로 이루어진 벌집이 있다. 그림에서 보는 바와 같이 중앙의 방 1부터 시작해서 이웃하는 방에 돌아가면서 1씩 증가하는 번호를 주소로 매길 수 있다. 숫자 N이 주어졌을 때, 벌집의 중앙 1에서 N번 방까지 최소 개수의 방을 지나서 갈 때 몇 개의 방을 지나가는지(시작과 끝을 포함하여)를 계산하는 프로그램을 작성하시오. 예를 들면, 13까지는 3개, 58까지는 5개를 지난다."
   ]
  },
  {
   "cell_type": "code",
   "execution_count": 4,
   "id": "4d9a6e1e",
   "metadata": {},
   "outputs": [
    {
     "name": "stdout",
     "output_type": "stream",
     "text": [
      "3\n"
     ]
    }
   ],
   "source": [
    "n = int(input())\n",
    "k = 1\n",
    "\n",
    "while True:\n",
    "    \n",
    "    if n <= 1 + 3*k*(k-1):\n",
    "        print(k)\n",
    "        break\n",
    "\n",
    "    k += 1"
   ]
  },
  {
   "cell_type": "code",
   "execution_count": 5,
   "id": "3bfcbbd4",
   "metadata": {},
   "outputs": [
    {
     "name": "stdout",
     "output_type": "stream",
     "text": [
      "3\n"
     ]
    }
   ],
   "source": [
    "N = int(input())\n",
    "cnt = 1\n",
    "while N > 1:\n",
    "    N -= (6 * cnt)\n",
    "    cnt += 1\n",
    "print(cnt)"
   ]
  },
  {
   "cell_type": "markdown",
   "id": "0f49708b",
   "metadata": {},
   "source": [
    "---"
   ]
  },
  {
   "cell_type": "markdown",
   "id": "123df1f4",
   "metadata": {},
   "source": [
    "### 1157. 단어공부\n",
    "알파벳 대소문자로 된 단어가 주어지면, 이 단어에서 가장 많이 사용된 알파벳이 무엇인지 알아내는 프로그램을 작성하시오. 단, 대문자와 소문자를 구분하지 않는다."
   ]
  },
  {
   "cell_type": "code",
   "execution_count": null,
   "id": "32d33921",
   "metadata": {},
   "outputs": [],
   "source": [
    "s = input().upper()\n",
    "\n",
    "c = 0\n",
    "result = ''\n",
    "\n",
    "for alpha in set(s):\n",
    "    if c < s.count(alpha):\n",
    "        c = s.count(alpha)\n",
    "        result = alpha\n",
    "    elif c == s.count(alpha):\n",
    "        result = \"?\"\n",
    "    \n",
    "print(result) "
   ]
  },
  {
   "cell_type": "code",
   "execution_count": null,
   "id": "57c735b6",
   "metadata": {},
   "outputs": [],
   "source": [
    "word = input().upper()\n",
    "word_ls = list(set(word))\n",
    "\n",
    "cnt = [word.count(ch) for ch in word_ls]\n",
    "\n",
    "if cnt.count(max(cnt)) >= 2:\n",
    "    print(\"?\")\n",
    "else:\n",
    "    print(word_ls[cnt.index(max(cnt))])"
   ]
  },
  {
   "cell_type": "markdown",
   "id": "5231910e",
   "metadata": {},
   "source": [
    "---"
   ]
  },
  {
   "cell_type": "markdown",
   "id": "17b909fa",
   "metadata": {},
   "source": [
    "### 디지털 티비\n",
    "2012년 12월 31일 새벽 4시부터 지상파 아날로그 TV방송이 종료되었다. TV를 자주보는 할머니를 위해서, 상근이네 집도 디지털 수신기를 구입했다.\n",
    "\n",
    "원래 상근이네 집에는 KBS1과 KBS2만 나왔다. 할머니는 두 방송만 시청한다. 이제 디지털 수신기와 함께 엄청난 양의 채널을 볼 수 있게 되었다.  하지만, 할머니는 오직 KBS1과 KBS2만 보려고 한다. 따라서, 상근이는 채널 리스트를 조절해 KBS1을 첫 번째로, KBS2를 두 번째로 만들려고 한다.\n",
    "\n",
    "티비를 켜면 디지털 수신기는 시청 가능한 채널 리스트를 보여준다. 모든 채널의 이름은 서로 다르고, 항상 KBS1과 KBS2를 포함하고 있다. 상근이는 이 리모콘을 이용해서 리스트의 순서를 바꾸는 법을 알아냈다. 리스트의 왼편에는 작은 화살표가 있고, 이 화살표는 현재 선택한 채널을 나타낸다. 가장 처음에 화살표는 제일 첫 번째 채널을 가리키고 있다.\n",
    "\n",
    "다음과 같은 네 가지 버튼을 이용해서 리스트의 순서를 바꿀 수 있다. 각각은 1번부터 4번까지 번호가 적혀져있는 버튼이다.\n",
    "\n",
    "1. 화살표를 한 칸 아래로 내린다. (채널 i에서 i+1로)\n",
    "2. 화살표를 위로 한 칸 올린다. (채널 i에서 i-1로)\n",
    "3. 현재 선택한 채널을 한 칸 아래로 내린다. (채널 i와 i+1의 위치를 바꾼다. 화살표는 i+1을 가리키고 있는다)\n",
    "4. 현재 선택한 채널을 위로 한 칸 올린다. (채널 i와 i-1의 위치를 바꾼다. 화살표는 i-1을 가리키고 있다)\n",
    "화살표가 채널 리스트의 범위를 넘어간다면, 그 명령은 무시한다.\n",
    "\n",
    "현재 채널 리스트의 순서가 주어졌을 때, KBS1를 첫 번째로, KBS2를 두 번째로 순서를 바꾸는 방법을 구하는 프로그램을 작성하시오. 방법의 길이는 500보다 작아야 한다. 두 채널을 제외한 나머지 채널의 순서는 상관없다."
   ]
  },
  {
   "cell_type": "code",
   "execution_count": 17,
   "id": "a1e83857",
   "metadata": {},
   "outputs": [
    {
     "name": "stdout",
     "output_type": "stream",
     "text": [
      "11144411144\n"
     ]
    }
   ],
   "source": [
    "n = int(input())\n",
    "channels = [input() for _ in range(n)]\n",
    "\n",
    "cursor = 0\n",
    "answer = \"\"\n",
    "\n",
    "# KBS1을 맨위로\n",
    "kbs1_idx = channels.index(\"KBS1\")\n",
    "\n",
    "while cursor < kbs1_idx:\n",
    "    cursor += 1\n",
    "    answer += \"1\"\n",
    "\n",
    "while cursor > 0:\n",
    "    channels[cursor], channels[cursor-1] = channels[cursor-1], channels[cursor]\n",
    "    answer += \"4\"\n",
    "    cursor -= 1\n",
    "\n",
    "\n",
    "# 2KBS2 두 번째로\n",
    "kbs2_idx = channels.index(\"KBS2\")\n",
    "\n",
    "# 커서를 KBS2까지 이동\n",
    "while cursor < kbs2_idx:\n",
    "    cursor += 1\n",
    "    answer += \"1\"\n",
    "\n",
    "# KBS2를 두 번째 위치로\n",
    "while cursor > 1:\n",
    "    channels[cursor], channels[cursor-1] = channels[cursor-1], channels[cursor]\n",
    "    answer += \"4\"\n",
    "    cursor -= 1\n",
    "\n",
    "print(answer)\n"
   ]
  },
  {
   "cell_type": "markdown",
   "id": "1b4ddf1d",
   "metadata": {},
   "source": [
    "- 위의 코드는 1,4번 버튼만 사용하는 경우의 코드다\n",
    "- 아래는 3번 버튼도 활용한 조금 더 최적화된 시뮬레이션 구조다 (gpt 도움)"
   ]
  },
  {
   "cell_type": "code",
   "execution_count": 19,
   "id": "11e5b56c",
   "metadata": {},
   "outputs": [
    {
     "name": "stdout",
     "output_type": "stream",
     "text": [
      "14114\n"
     ]
    }
   ],
   "source": [
    "n = int(input())\n",
    "channels = [input().strip() for _ in range(n)]\n",
    "\n",
    "answer = \"\"\n",
    "cursor = 0  # 현재 커서 위치\n",
    "\n",
    "def move_to(target_idx):\n",
    "    global cursor, answer\n",
    "    while cursor < target_idx:\n",
    "        cursor += 1\n",
    "        answer += \"1\"\n",
    "    while cursor > target_idx:\n",
    "        cursor -= 1\n",
    "        answer += \"2\"\n",
    "\n",
    "def swap_up():\n",
    "    global cursor, answer\n",
    "    channels[cursor], channels[cursor-1] = channels[cursor-1], channels[cursor]\n",
    "    answer += \"4\"\n",
    "    cursor -= 1\n",
    "\n",
    "def swap_down():\n",
    "    global cursor, answer\n",
    "    channels[cursor], channels[cursor+1] = channels[cursor+1], channels[cursor]\n",
    "    answer += \"3\"\n",
    "    cursor += 1\n",
    "\n",
    "# 1️⃣ KBS1 맨 위로\n",
    "kbs1_idx = channels.index(\"KBS1\")\n",
    "move_to(kbs1_idx)\n",
    "while cursor > 0:\n",
    "    swap_up()  # 4번 버튼으로 위와 교환\n",
    "\n",
    "# 2️⃣ KBS2 두 번째 위치로\n",
    "kbs2_idx = channels.index(\"KBS2\")\n",
    "move_to(kbs2_idx)\n",
    "while cursor > 1:\n",
    "    swap_up()  # KBS2도 위로 올릴 때 4번 버튼 사용\n",
    "\n",
    "print(answer)\n"
   ]
  }
 ],
 "metadata": {
  "kernelspec": {
   "display_name": "algorithm",
   "language": "python",
   "name": "python3"
  },
  "language_info": {
   "codemirror_mode": {
    "name": "ipython",
    "version": 3
   },
   "file_extension": ".py",
   "mimetype": "text/x-python",
   "name": "python",
   "nbconvert_exporter": "python",
   "pygments_lexer": "ipython3",
   "version": "3.13.1"
  }
 },
 "nbformat": 4,
 "nbformat_minor": 5
}
