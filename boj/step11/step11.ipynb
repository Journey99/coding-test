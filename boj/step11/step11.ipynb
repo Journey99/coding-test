{
 "cells": [
  {
   "cell_type": "markdown",
   "metadata": {},
   "source": [
    "## step11. 시간복잡도"
   ]
  },
  {
   "cell_type": "markdown",
   "metadata": {},
   "source": [
    "### 24262. 알고리즘의 수행 시간 1\n",
    "문제에서 주어진 MenOfPassion 알고리즘은 다음과 같다."
   ]
  },
  {
   "cell_type": "markdown",
   "metadata": {},
   "source": [
    "<pre><code>\n",
    "MenOfPassion(A[], n) {\n",
    "    i = ⌊n / 2⌋;\n",
    "    return A[i]; # 코드1\n",
    "}\n",
    "</code></pre>\n",
    "\n",
    "위의 MenOfPassion 알고리즘 코드를 보면 n의 값과 상관없이 코드1은 1번 실행되며 수행시간은 1임을 알 수 있다.\n",
    "\n",
    "즉 n의 값과 상관없이 수행 횟수는 1이므로 수행 횟수를 다항식으로 나타내었을 때 상수항 밖에 존재하지 않는다. 따라서 최고차항의 차수는 0이다."
   ]
  },
  {
   "cell_type": "code",
   "execution_count": 4,
   "metadata": {},
   "outputs": [
    {
     "name": "stdout",
     "output_type": "stream",
     "text": [
      "1\n",
      "0\n"
     ]
    }
   ],
   "source": [
    "print(\"1\\n0\")"
   ]
  },
  {
   "cell_type": "markdown",
   "metadata": {},
   "source": [
    "### 24263. 알고리즘의 수행 시간 2\n",
    "문제에서 주어진 MenOfPassion 알고리즘은 다음과 같다.\n",
    "\n",
    "<pre><code>\n",
    "MenOfPassion(A[], n) {\n",
    "    sum <- 0;\n",
    "    for i <- 1 to n\n",
    "        sum <- sum + A[i]; # 코드1\n",
    "    return sum;\n",
    "}\n",
    "</code></pre>\n",
    "\n",
    "위의 MenOfPassion 알고리즘 코드를 보면 for문이 n번 실행되므로 입력의 크기가 n일 때 코드1의 수행 횟수는 n이다. 따라서 최고차항의 차수는 1이다.\n"
   ]
  },
  {
   "cell_type": "code",
   "execution_count": 5,
   "metadata": {},
   "outputs": [
    {
     "name": "stdout",
     "output_type": "stream",
     "text": [
      "3\n",
      "1\n"
     ]
    }
   ],
   "source": [
    "n = int(input())\n",
    "print(f\"{n}\\n1\")"
   ]
  },
  {
   "cell_type": "markdown",
   "metadata": {},
   "source": [
    "### 24264. 알고리즘의 수행 시간 3\n",
    "문제에서 주어진 MenOfPassion 알고리즘은 다음과 같다.\n",
    "\n",
    "<pre><code>\n",
    "MenOfPassion(A[], n) {\n",
    "    sum <- 0;\n",
    "    for i <- 1 to n\n",
    "        for j <- 1 to n\n",
    "            sum <- sum + A[i] × A[j]; # 코드1\n",
    "    return sum;\n",
    "}\n",
    "</code></pre>\n",
    "\n",
    "위의 MenOfPassion 알고리즘 코드를 보면 이중 for문이 각각 n에 대하여 실행되므로 입력의 크기가 n일 때 코드1의 수행횟수는 n의 제곱이다. 따라서 최고차항의 차수는 2이다."
   ]
  },
  {
   "cell_type": "code",
   "execution_count": 6,
   "metadata": {},
   "outputs": [
    {
     "name": "stdout",
     "output_type": "stream",
     "text": [
      "25\n",
      "2\n"
     ]
    }
   ],
   "source": [
    "n = int(input())\n",
    "print(f\"{n*n}\\n2\")"
   ]
  },
  {
   "cell_type": "markdown",
   "metadata": {},
   "source": [
    "### 24265. 알고리즘의 수행 시간 4\n",
    "문제에서 주어진 MenOfPassion 알고리즘은 다음과 같다.\n",
    "\n",
    "<pre><code>\n",
    "MenOfPassion(A[], n) {\n",
    "    sum <- 0;\n",
    "    for i <- 1 to n - 1\n",
    "        for j <- i + 1 to n\n",
    "            sum <- sum + A[i] × A[j]; # 코드1\n",
    "    return sum;\n",
    "}\n",
    "</code></pre>\n",
    "\n",
    "위의 MenOfPassion 알고리즘 코드를 보면 입력의 크기 n에 대하여 코드1이 n×(n-1)/2번 실행된다. 따라서 최고차항의 차수는 2이다."
   ]
  },
  {
   "cell_type": "code",
   "execution_count": null,
   "metadata": {},
   "outputs": [],
   "source": [
    "n = int(input())\n",
    "print(f\"{int(n*(n-1)/2)}\\n2\")"
   ]
  },
  {
   "cell_type": "markdown",
   "metadata": {},
   "source": [
    "### 24266. 알고리즘의 수행 시간 5\n",
    "문제에서 주어진 MenOfPassion 알고리즘은 다음과 같다.\n",
    "\n",
    "<pre><code>\n",
    "MenOfPassion(A[], n) {\n",
    "    sum <- 0;\n",
    "    for i <- 1 to n\n",
    "        for j <- 1 to n\n",
    "            for k <- 1 to n\n",
    "                sum <- sum + A[i] × A[j] × A[k]; # 코드1\n",
    "    return sum;\n",
    "}\n",
    "</code></pre>\n",
    "\n",
    "위의 MenOfPassion 알고리즘 코드를 보면 삼중 for문이 각각 n에 대하여 실행되므로 입력의 크기가 n일 때 코드1의 수행횟수는 n의 세제곱이다. 따라서 최고차항의 차수는 3이다."
   ]
  },
  {
   "cell_type": "code",
   "execution_count": null,
   "metadata": {},
   "outputs": [],
   "source": [
    "n = int(input())\n",
    "print(f\"{n**3}\\n3\")"
   ]
  },
  {
   "cell_type": "markdown",
   "metadata": {},
   "source": [
    "### 24267. 알고리즘의 수행 시간 6\n",
    "문제에서 주어진 MenOfPassion 알고리즘은 다음과 같다.\n",
    "\n",
    "<pre><code>\n",
    "MenOfPassion(A[], n) {\n",
    "    sum <- 0;\n",
    "    for i <- 1 to n - 2\n",
    "        for j <- i + 1 to n - 1\n",
    "            for k <- j + 1 to n\n",
    "                sum <- sum + A[i] × A[j] × A[k]; # 코드1\n",
    "    return sum;\n",
    "}\n",
    "</code></pre>\n",
    "\n",
    "\n",
    "위의 MenOfPassion 알고리즘 코드를 보면 결국 n에 대하여 1~n의 자연수에서 중복 없이 3개를 뽑는 경우의 수와 같다. (조합)\n",
    "\n",
    "따라서 식은 nC3=n(n-1)(n-2)/3!이고, 최고차항의 차수는 3이다."
   ]
  },
  {
   "cell_type": "code",
   "execution_count": 8,
   "metadata": {},
   "outputs": [
    {
     "name": "stdout",
     "output_type": "stream",
     "text": [
      "10\n",
      "3\n"
     ]
    }
   ],
   "source": [
    "n = int(input())\n",
    "print(f\"{int(n*(n-1)*(n-2)/6)}\\n3\")"
   ]
  },
  {
   "cell_type": "markdown",
   "metadata": {},
   "source": [
    "### 24313. 점근적 표기 1"
   ]
  },
  {
   "cell_type": "code",
   "execution_count": 7,
   "metadata": {},
   "outputs": [
    {
     "name": "stdout",
     "output_type": "stream",
     "text": [
      "1\n"
     ]
    }
   ],
   "source": [
    "a1, a0 = map(int, input().split())\n",
    "c = int(input())\n",
    "n0 = int(input())\n",
    "\n",
    "if a1 <= c:\n",
    "  if a1*n0+a0 <= c*n0:\n",
    "    print(1)\n",
    "  else:\n",
    "    print(0)\n",
    "else:\n",
    "  print(0)"
   ]
  }
 ],
 "metadata": {
  "kernelspec": {
   "display_name": "algorithm",
   "language": "python",
   "name": "python3"
  },
  "language_info": {
   "codemirror_mode": {
    "name": "ipython",
    "version": 3
   },
   "file_extension": ".py",
   "mimetype": "text/x-python",
   "name": "python",
   "nbconvert_exporter": "python",
   "pygments_lexer": "ipython3",
   "version": "3.13.1"
  }
 },
 "nbformat": 4,
 "nbformat_minor": 2
}
