{
 "cells": [
  {
   "cell_type": "markdown",
   "metadata": {},
   "source": [
    "### 2738"
   ]
  },
  {
   "cell_type": "code",
   "execution_count": null,
   "metadata": {},
   "outputs": [
    {
     "name": "stdout",
     "output_type": "stream",
     "text": [
      "[4, 4, 4]\n",
      "[6, 6, 6]\n",
      "[5, 6, 100]\n"
     ]
    }
   ],
   "source": [
    "n, m = map(int, input().split())\n",
    "a = []\n",
    "b = []\n",
    "\n",
    "for i in range(2):\n",
    "    for _ in range(n):\n",
    "        x = list(map(int, input().split()))\n",
    "        if i == 0:\n",
    "            a.append(x)\n",
    "        else:\n",
    "            b.append(x)\n",
    "\n",
    "for i in range(n):\n",
    "    result = [x+y for x, y in zip(a[i], b[i])]\n",
    "    print(*result)"
   ]
  },
  {
   "cell_type": "code",
   "execution_count": null,
   "metadata": {},
   "outputs": [],
   "source": [
    "n, m = map(int, input().split())\n",
    "\n",
    "a = [list(map(int, input().split())) for _ in range(n)]\n",
    "b = [list(map(int, input().split())) for _ in range(n)]\n",
    "\n",
    "for i in range(n):\n",
    "    result = [x+y for x, y in zip(a[i], b[i])]\n",
    "    print(*result)"
   ]
  },
  {
   "cell_type": "code",
   "execution_count": 9,
   "metadata": {},
   "outputs": [
    {
     "name": "stdout",
     "output_type": "stream",
     "text": [
      "444\n",
      "666\n",
      "56100\n"
     ]
    }
   ],
   "source": [
    "n, m = map(int, input().split())\n",
    "\n",
    "a = [list(map(int, input().split())) for _ in range(n)]\n",
    "b = [list(map(int, input().split())) for _ in range(n)]\n",
    "\n",
    "for row in range(n):\n",
    "    for col in range(m):\n",
    "        print(a[row][col] + b[row][col], end=' ')\n",
    "    print()"
   ]
  },
  {
   "cell_type": "markdown",
   "metadata": {},
   "source": [
    "### 2563"
   ]
  },
  {
   "cell_type": "code",
   "execution_count": null,
   "metadata": {},
   "outputs": [],
   "source": []
  }
 ],
 "metadata": {
  "kernelspec": {
   "display_name": "algorithm",
   "language": "python",
   "name": "python3"
  },
  "language_info": {
   "codemirror_mode": {
    "name": "ipython",
    "version": 3
   },
   "file_extension": ".py",
   "mimetype": "text/x-python",
   "name": "python",
   "nbconvert_exporter": "python",
   "pygments_lexer": "ipython3",
   "version": "3.13.1"
  }
 },
 "nbformat": 4,
 "nbformat_minor": 2
}
