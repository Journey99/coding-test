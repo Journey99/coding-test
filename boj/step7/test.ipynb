{
 "cells": [
  {
   "cell_type": "markdown",
   "metadata": {},
   "source": [
    "### 2738"
   ]
  },
  {
   "cell_type": "code",
   "execution_count": null,
   "metadata": {},
   "outputs": [
    {
     "name": "stdout",
     "output_type": "stream",
     "text": [
      "[4, 4, 4]\n",
      "[6, 6, 6]\n",
      "[5, 6, 100]\n"
     ]
    }
   ],
   "source": [
    "n, m = map(int, input().split())\n",
    "a = []\n",
    "b = []\n",
    "\n",
    "for i in range(2):\n",
    "    for _ in range(n):\n",
    "        x = list(map(int, input().split()))\n",
    "        if i == 0:\n",
    "            a.append(x)\n",
    "        else:\n",
    "            b.append(x)\n",
    "\n",
    "for i in range(n):\n",
    "    result = [x+y for x, y in zip(a[i], b[i])]\n",
    "    print(*result)"
   ]
  },
  {
   "cell_type": "code",
   "execution_count": null,
   "metadata": {},
   "outputs": [],
   "source": [
    "n, m = map(int, input().split())\n",
    "\n",
    "a = [list(map(int, input().split())) for _ in range(n)]\n",
    "b = [list(map(int, input().split())) for _ in range(n)]\n",
    "\n",
    "for i in range(n):\n",
    "    result = [x+y for x, y in zip(a[i], b[i])]\n",
    "    print(*result)"
   ]
  },
  {
   "cell_type": "code",
   "execution_count": 9,
   "metadata": {},
   "outputs": [
    {
     "name": "stdout",
     "output_type": "stream",
     "text": [
      "444\n",
      "666\n",
      "56100\n"
     ]
    }
   ],
   "source": [
    "n, m = map(int, input().split())\n",
    "\n",
    "a = [list(map(int, input().split())) for _ in range(n)]\n",
    "b = [list(map(int, input().split())) for _ in range(n)]\n",
    "\n",
    "for row in range(n):\n",
    "    for col in range(m):\n",
    "        print(a[row][col] + b[row][col], end=' ')\n",
    "    print()"
   ]
  },
  {
   "cell_type": "markdown",
   "metadata": {},
   "source": [
    "### 10798"
   ]
  },
  {
   "cell_type": "code",
   "execution_count": 5,
   "metadata": {},
   "outputs": [
    {
     "name": "stdout",
     "output_type": "stream",
     "text": [
      "aa0apaf985bz1ehcz2w3d1gkd6x"
     ]
    }
   ],
   "source": [
    "a = []\n",
    "for _ in range(5):\n",
    "    a.append([w for w in input()])\n",
    "\n",
    "for j in range(len(a[0])):\n",
    "    for i in range(5):\n",
    "        if len(a[i]) < j+1:\n",
    "            pass\n",
    "        else:\n",
    "            print(a[i][j], end='')\n",
    "            "
   ]
  },
  {
   "cell_type": "code",
   "execution_count": 6,
   "metadata": {},
   "outputs": [
    {
     "name": "stdout",
     "output_type": "stream",
     "text": [
      "aa0apaf985bz1ehcz2w3d1gkd6x\n"
     ]
    }
   ],
   "source": [
    "words = []\n",
    "length = []\n",
    "\n",
    "for _ in range(5):\n",
    "    word = input()\n",
    "    words.append(word)\n",
    "    length.append(len(word))\n",
    "\n",
    "result = ''\n",
    "for i in range(max(length)):\n",
    "    for j in range(5):\n",
    "        if length[j] > i:\n",
    "            result += words[j][i]\n",
    "print(result)"
   ]
  },
  {
   "cell_type": "code",
   "execution_count": 11,
   "metadata": {},
   "outputs": [
    {
     "name": "stdout",
     "output_type": "stream",
     "text": [
      "50\n",
      "3 3\n"
     ]
    }
   ],
   "source": [
    "max_value = 0\n",
    "r, c = 0, 0\n",
    "for i in range(9):\n",
    "    m = list(map(int, input().split()))\n",
    "    if max(m) >= max_value:\n",
    "        max_value = max(m)\n",
    "        r = i+1\n",
    "        c = m.index(max_value) + 1\n",
    "\n",
    "print(max_value)\n",
    "print(r, c)"
   ]
  }
 ],
 "metadata": {
  "kernelspec": {
   "display_name": "algorithm",
   "language": "python",
   "name": "python3"
  },
  "language_info": {
   "codemirror_mode": {
    "name": "ipython",
    "version": 3
   },
   "file_extension": ".py",
   "mimetype": "text/x-python",
   "name": "python",
   "nbconvert_exporter": "python",
   "pygments_lexer": "ipython3",
   "version": "3.13.1"
  }
 },
 "nbformat": 4,
 "nbformat_minor": 2
}
