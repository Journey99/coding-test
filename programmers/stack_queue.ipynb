{
 "cells": [
  {
   "cell_type": "markdown",
   "id": "8c866c46",
   "metadata": {},
   "source": [
    "# 스택 / 큐\n",
    "\n",
    "## 스택\n",
    "- 후입선출(Lifo) 구조 -> 마지막에 넣은 데이터가 가장 먼저 나옴\n",
    "- push(데이터 넣기), pop(데이터 빼기), peek or top(맨 위 원소 확인)\n",
    "  \n",
    "## 큐\n",
    "- 선입선출(Fifo) 구조 -> 먼저 넣은 데이터가 먼저 나옴\n",
    "- enqueue(데이터 넣기), dequeue(데이터 빼기)\n",
    "- 파이썬에서는 from collection import deque 로 사용\n",
    "\n",
    "\n",
    "\n",
    "---"
   ]
  },
  {
   "cell_type": "markdown",
   "id": "d9a43c2c",
   "metadata": {},
   "source": [
    "### 문제1. 같은 숫자는 싫어\n",
    "- 0부터 9까지로 이루어져있는 배열이 있음\n",
    "- 배열에서 연속적으로 나타나는 숫자는 하나만 남기고 전부 제거\n",
    "- 제거된 후 남은 수들을 반환할 때는 배열 원소들의 순서를 유지"
   ]
  },
  {
   "cell_type": "code",
   "execution_count": 10,
   "id": "9ae0279f",
   "metadata": {},
   "outputs": [
    {
     "name": "stdout",
     "output_type": "stream",
     "text": [
      "[1, 3, 0, 1]\n"
     ]
    }
   ],
   "source": [
    "from collections import deque\n",
    "\n",
    "def solution(arr):\n",
    "    answer = []\n",
    "\n",
    "    arr = deque(arr)\n",
    "    while arr:\n",
    "        x = arr.popleft()\n",
    "        if not answer:\n",
    "            answer.append(x)\n",
    "        elif x != answer[-1]:\n",
    "            answer.append(x)\n",
    "\n",
    "    return answer\n",
    "\n",
    "\n",
    "def no_conti(arr):\n",
    "    answer = []\n",
    "\n",
    "    for i in arr:\n",
    "        if answer[-1:] == [i]:\n",
    "            continue\n",
    "        answer.append(i)\n",
    "    \n",
    "    return answer\n",
    "\n",
    "arr = [1,1,3,3,0,1,1]\n",
    "# arr = [4,4,4,3,3]\n",
    "# solution(arr)\n",
    "print(no_conti(arr))"
   ]
  },
  {
   "cell_type": "markdown",
   "id": "12ac07c9",
   "metadata": {},
   "source": [
    "---"
   ]
  },
  {
   "cell_type": "markdown",
   "id": "9b7156d7",
   "metadata": {},
   "source": [
    "### 문제2. 기능개발\n",
    "먼저 배포되어야 하는 순서대로 작업의 진도가 적힌 정수 배열과 각 작업의 개발 속도가 적힌 정수 배열이 주어질 때 각 배포마다 몇 개의 기능이 배포되는지를 return하는 함수를 완성하라.\n",
    "\n",
    "제한 사항\n",
    "- 작업의 개수(progresses, speeds배열의 길이)는 100개 이하입니다.\n",
    "- 작업 진도는 100 미만의 자연수입니다.\n",
    "- 작업 속도는 100 이하의 자연수입니다.\n",
    "- 배포는 하루에 한 번만 할 수 있으며, 하루의 끝에 이루어진다고 가정합니다. 예를 들어 진도율이 95%인 작업의 개발 속도가 하루에 4%라면 배포는 2일 뒤에 이루어집니다."
   ]
  },
  {
   "cell_type": "code",
   "execution_count": null,
   "id": "8b2a35e6",
   "metadata": {},
   "outputs": [
    {
     "data": {
      "text/plain": [
       "[2, 1]"
      ]
     },
     "execution_count": 23,
     "metadata": {},
     "output_type": "execute_result"
    }
   ],
   "source": [
    "from collections import deque\n",
    "\n",
    "def solution(progresses, speeds):\n",
    "    answer = []\n",
    "\n",
    "    days = deque()\n",
    "    for p, s in zip(progresses, speeds):\n",
    "        if (100-p) % s == 0:\n",
    "            days.append((100-p) // s)\n",
    "        else:\n",
    "            days.append((100-p)//s + 1)\n",
    "        \n",
    "     \n",
    "    while days:\n",
    "        day = days.popleft()\n",
    "        cnt = 1\n",
    "        while days and days[0] <= day:\n",
    "            days.popleft()\n",
    "            cnt += 1\n",
    "        answer.append(cnt)\n",
    "\n",
    "    return answer\n",
    "\n",
    "\n",
    "progresses = [93, 30, 55]\n",
    "speeds = [1, 30, 5]\n",
    "# progresses = [95, 90, 99, 99, 80, 99]\n",
    "# speeds = [1, 1, 1, 1, 1, 1]\n",
    "\n",
    "solution(progresses, speeds)"
   ]
  },
  {
   "cell_type": "code",
   "execution_count": 27,
   "id": "bcb0f11d",
   "metadata": {},
   "outputs": [
    {
     "name": "stdout",
     "output_type": "stream",
     "text": [
      "[2, 1]\n"
     ]
    }
   ],
   "source": [
    "# 좀 더 간결한 코드\n",
    "import math\n",
    "\n",
    "def solution_2(progresses, speeds):\n",
    "    days = [math.ceil((100-p) / s) for p, s in zip(progresses, speeds)]\n",
    "\n",
    "    answer = []\n",
    "    current = days[0]\n",
    "    cnt = 1\n",
    "\n",
    "    for day in days[1:]:\n",
    "        if day <= current:\n",
    "            cnt += 1\n",
    "        else:\n",
    "            answer.append(cnt)\n",
    "            current = day\n",
    "            cnt = 1\n",
    "    \n",
    "    answer.append(cnt)\n",
    "\n",
    "    return answer\n",
    "\n",
    "print(solution_2(progresses, speeds))"
   ]
  },
  {
   "cell_type": "markdown",
   "id": "b8380b36",
   "metadata": {},
   "source": [
    "---"
   ]
  },
  {
   "cell_type": "markdown",
   "id": "adaa18a7",
   "metadata": {},
   "source": [
    "### 문제3. 올바른 괄호\n",
    "'(' 또는 ')' 로만 이루어진 문자열 s가 주어졌을 때, 문자열 s가 올바른 괄호이면 true를 return 하고, 올바르지 않은 괄호이면 false를 return 하는 solution 함수를 완성하라"
   ]
  },
  {
   "cell_type": "code",
   "execution_count": null,
   "id": "c309929f",
   "metadata": {},
   "outputs": [
    {
     "name": "stdout",
     "output_type": "stream",
     "text": [
      "True\n"
     ]
    }
   ],
   "source": [
    "def solution(s):\n",
    "\n",
    "    ls = []\n",
    "    for i in s:\n",
    "        if i == '(':\n",
    "            ls.append(i)\n",
    "        else:\n",
    "            if ls:\n",
    "                ls.pop()\n",
    "            else:\n",
    "                return False\n",
    "    \n",
    "    # if ls:\n",
    "    #     return False\n",
    "\n",
    "    # return True\n",
    "    return len(ls) == 0\n",
    "\n",
    "string = \"()()\"\n",
    "# string = \"(())()\"\n",
    "# string = \")()(\"\n",
    "# string = \"(()(\"\n",
    "print(solution(string))"
   ]
  },
  {
   "cell_type": "markdown",
   "id": "341b3efa",
   "metadata": {},
   "source": [
    "---"
   ]
  },
  {
   "cell_type": "markdown",
   "id": "df2dae9f",
   "metadata": {},
   "source": [
    "### 문제4. 프로세스\n",
    "이 문제에서는 운영체제가 다음 규칙에 따라 프로세스를 관리할 경우 특정 프로세스가 몇 번째로 실행되는지 알아내면 된다.\n",
    "1. 실행 대기 큐(Queue)에서 대기중인 프로세스 하나를 꺼냅니다.\n",
    "2. 큐에 대기중인 프로세스 중 우선순위가 더 높은 프로세스가 있다면 방금 꺼낸 프로세스를 다시 큐에 넣습니다.\n",
    "3. 만약 그런 프로세스가 없다면 방금 꺼낸 프로세스를 실행합니다.\n",
    "   - 3.1 한 번 실행한 프로세스는 다시 큐에 넣지 않고 그대로 종료됩니다.\n",
    "\n",
    "현재 실행 대기 큐(Queue)에 있는 프로세스의 중요도가 순서대로 담긴 배열 priorities와, 몇 번째로 실행되는지 알고싶은 프로세스의 위치를 알려주는 location이 매개변수로 주어질 때, 해당 프로세스가 몇 번째로 실행되는지 return 하도록 solution 함수를 작성해주세요."
   ]
  },
  {
   "cell_type": "code",
   "execution_count": 37,
   "id": "9cbbe685",
   "metadata": {},
   "outputs": [
    {
     "name": "stdout",
     "output_type": "stream",
     "text": [
      "(3, 2)\n",
      "1\n"
     ]
    }
   ],
   "source": [
    "from collections import deque\n",
    "\n",
    "def solution(priorities, location):\n",
    "    answer = 0\n",
    "\n",
    "    priorities = deque([(p, i) for i, p in enumerate(priorities)])\n",
    "    print(max(priorities))\n",
    "    \n",
    "    while priorities:\n",
    "        max_p = max(priorities)[0]\n",
    "        p, idx = priorities.popleft()\n",
    "\n",
    "        if p < max_p:\n",
    "            priorities.append((p, idx))\n",
    "        else:\n",
    "            if idx == location:\n",
    "                return answer + 1\n",
    "    \n",
    "            answer += 1\n",
    "\n",
    "    \n",
    "\n",
    "    return answer\n",
    "\n",
    "\n",
    "priorities = [2, 1, 3, 2] \n",
    "location = 2\n",
    "# priorities = [1, 1, 9, 1, 1, 1]\n",
    "# location = 0\n",
    "print(solution(priorities, location))"
   ]
  },
  {
   "cell_type": "markdown",
   "id": "a556a911",
   "metadata": {},
   "source": [
    "---"
   ]
  },
  {
   "cell_type": "markdown",
   "id": "60b42473",
   "metadata": {},
   "source": [
    "### 문제5. 다리를 지나는 트럭\n",
    "트럭 여러 대가 강을 가로지르는 일차선 다리를 정해진 순으로 건너려 합니다. 모든 트럭이 다리를 건너려면 최소 몇 초가 걸리는지 알아내야 합니다. 다리에는 트럭이 최대 bridge_length대 올라갈 수 있으며, 다리는 weight 이하까지의 무게를 견딜 수 있습니다. 단, 다리에 완전히 오르지 않은 트럭의 무게는 무시합니다."
   ]
  },
  {
   "cell_type": "code",
   "execution_count": 48,
   "id": "6540a005",
   "metadata": {},
   "outputs": [
    {
     "name": "stdout",
     "output_type": "stream",
     "text": [
      "8\n"
     ]
    }
   ],
   "source": [
    "from collections import deque\n",
    "\n",
    "def solution(bridge_length, weight, truck_weights):\n",
    "    answer = 0\n",
    "    bridge = deque([0] * bridge_length)\n",
    "    current_weight = 0\n",
    "    truck_weights = deque(truck_weights)\n",
    "\n",
    "    while bridge:\n",
    "        answer += 1\n",
    "        current_weight -= bridge.popleft()\n",
    "\n",
    "        if truck_weights:\n",
    "            if current_weight + truck_weights[0] <= weight:\n",
    "                truck = truck_weights.popleft()\n",
    "                bridge.append(truck)\n",
    "                current_weight += truck\n",
    "            else:\n",
    "                bridge.append(0)\n",
    "\n",
    "    return answer\n",
    "\n",
    "\n",
    "bridge_length = 2\n",
    "weight = 10\n",
    "truck_weights = [7,4,5,6]\n",
    "# bridge_length = 100\n",
    "# weight = 100\n",
    "# truck_weights = [10]\n",
    "# bridge_length = 100\n",
    "# weight = 100\n",
    "# truck_weights = [10,10,10,10,10,10,10,10,10,10]\n",
    "print(solution(bridge_length, weight, truck_weights))"
   ]
  },
  {
   "cell_type": "markdown",
   "id": "b2f3c813",
   "metadata": {},
   "source": [
    "---"
   ]
  },
  {
   "cell_type": "markdown",
   "id": "11cc0c17",
   "metadata": {},
   "source": [
    "### 문제6. 주식가격\n",
    "초 단위로 기록된 주식가격이 담긴 배열 prices가 매개변수로 주어질 때, 가격이 떨어지지 않은 기간은 몇 초인지를 return 하도록 solution 함수를 완성하세요."
   ]
  },
  {
   "cell_type": "code",
   "execution_count": null,
   "id": "00cc355f",
   "metadata": {},
   "outputs": [
    {
     "name": "stdout",
     "output_type": "stream",
     "text": [
      "[4, 3, 1, 1, 0]\n"
     ]
    }
   ],
   "source": [
    "# 효율성에서 실패한 코드\n",
    "\n",
    "def solution(prices):\n",
    "    answer = [0] * len(prices)\n",
    "\n",
    "    for i in range(len(prices)):\n",
    "        price = prices[i]\n",
    "\n",
    "        for p in prices[i+1:]:\n",
    "            \n",
    "            answer[i] += 1\n",
    "            if price > p:    \n",
    "                break\n",
    "            \n",
    "    return answer\n",
    "\n",
    "\n",
    "prices = [1, 2, 3, 2, 3]\n",
    "print(solution(prices))"
   ]
  },
  {
   "cell_type": "code",
   "execution_count": 76,
   "id": "86348a85",
   "metadata": {},
   "outputs": [
    {
     "name": "stdout",
     "output_type": "stream",
     "text": [
      "[4, 3, 1, 1, 0]\n"
     ]
    }
   ],
   "source": [
    "def solution(prices):\n",
    "    n = len(prices)\n",
    "    answer = [0] * n\n",
    "    stack = []\n",
    "\n",
    "    for i in range(n):\n",
    "        # 현재 가격이 이전 가격보다 낮으면, 스택에 쌓인 것들 정리\n",
    "        while stack and prices[stack[-1]] > prices[i]:\n",
    "            j = stack.pop()\n",
    "            answer[j] = i - j\n",
    "        stack.append(i)\n",
    "\n",
    "    # 끝까지 가격이 안 떨어진 애들 처리\n",
    "    while stack:\n",
    "        j = stack.pop()\n",
    "        answer[j] = n - 1 - j\n",
    "\n",
    "    return answer\n",
    "\n",
    "prices = [1, 2, 3, 2, 3]\n",
    "print(solution(prices))"
   ]
  }
 ],
 "metadata": {
  "kernelspec": {
   "display_name": "algorithm",
   "language": "python",
   "name": "python3"
  },
  "language_info": {
   "codemirror_mode": {
    "name": "ipython",
    "version": 3
   },
   "file_extension": ".py",
   "mimetype": "text/x-python",
   "name": "python",
   "nbconvert_exporter": "python",
   "pygments_lexer": "ipython3",
   "version": "3.13.1"
  }
 },
 "nbformat": 4,
 "nbformat_minor": 5
}
