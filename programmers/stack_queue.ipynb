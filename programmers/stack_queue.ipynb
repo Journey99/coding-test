{
 "cells": [
  {
   "cell_type": "markdown",
   "id": "8c866c46",
   "metadata": {},
   "source": [
    "# 스택 / 큐\n",
    "\n",
    "## 스택\n",
    "- 후입선출(Lifo) 구조 -> 마지막에 넣은 데이터가 가장 먼저 나옴\n",
    "- push(데이터 넣기), pop(데이터 빼기), peek or top(맨 위 원소 확인)\n",
    "  \n",
    "## 큐\n",
    "- 선입선출(Fifo) 구조 -> 먼저 넣은 데이터가 먼저 나옴\n",
    "- enqueue(데이터 넣기), dequeue(데이터 빼기)\n",
    "- 파이썬에서는 from collection import deque 로 사용\n",
    "\n",
    "\n",
    "\n",
    "---"
   ]
  },
  {
   "cell_type": "markdown",
   "id": "d9a43c2c",
   "metadata": {},
   "source": [
    "### 문제1. 같은 숫자는 싫어\n",
    "- 0부터 9까지로 이루어져있는 배열이 있음\n",
    "- 배열에서 연속적으로 나타나는 숫자는 하나만 남기고 전부 제거\n",
    "- 제거된 후 남은 수들을 반환할 때는 배열 원소들의 순서를 유지"
   ]
  },
  {
   "cell_type": "code",
   "execution_count": 10,
   "id": "9ae0279f",
   "metadata": {},
   "outputs": [
    {
     "name": "stdout",
     "output_type": "stream",
     "text": [
      "[1, 3, 0, 1]\n"
     ]
    }
   ],
   "source": [
    "from collections import deque\n",
    "\n",
    "def solution(arr):\n",
    "    answer = []\n",
    "\n",
    "    arr = deque(arr)\n",
    "    while arr:\n",
    "        x = arr.popleft()\n",
    "        if not answer:\n",
    "            answer.append(x)\n",
    "        elif x != answer[-1]:\n",
    "            answer.append(x)\n",
    "\n",
    "    return answer\n",
    "\n",
    "\n",
    "def no_conti(arr):\n",
    "    answer = []\n",
    "\n",
    "    for i in arr:\n",
    "        if answer[-1:] == [i]:\n",
    "            continue\n",
    "        answer.append(i)\n",
    "    \n",
    "    return answer\n",
    "\n",
    "arr = [1,1,3,3,0,1,1]\n",
    "# arr = [4,4,4,3,3]\n",
    "# solution(arr)\n",
    "print(no_conti(arr))"
   ]
  }
 ],
 "metadata": {
  "kernelspec": {
   "display_name": "algorithm",
   "language": "python",
   "name": "python3"
  },
  "language_info": {
   "codemirror_mode": {
    "name": "ipython",
    "version": 3
   },
   "file_extension": ".py",
   "mimetype": "text/x-python",
   "name": "python",
   "nbconvert_exporter": "python",
   "pygments_lexer": "ipython3",
   "version": "3.13.1"
  }
 },
 "nbformat": 4,
 "nbformat_minor": 5
}
