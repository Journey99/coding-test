{
 "cells": [
  {
   "cell_type": "markdown",
   "id": "9663666a",
   "metadata": {},
   "source": [
    "# 이분 탐색 (binary search)\n",
    "> 정렬된 데이터에서 특정 값을 빠르게 찾는 알고리즘\n",
    "> \n",
    "> 정렬된 배열이 있을 때, 중간값을 기준으로 탐색 범위를 절반씩 줄여나가는 방식으로 작동한다\n",
    "> \n",
    "> 즉, 전체 데이터를 일일이 비교하지 않고, 로그 시간 안에 원하는 값을 찾을 수 있다\n",
    "\n",
    "## (1) 이분 탐색이 가능한 조건\n",
    "이분 탐색은 다음 두 조건을 반드시 만족해야 한다\n",
    "1. 데이터가 정렬되어 있어야 함\n",
    "2. 탐색 대상이 결정적 비교가 가능한 형태\n",
    "   - 숫자, 문자열, 길이 등 비교 가능한 값이어야 함\n",
    "\n",
    "## (2) 시간 복잡도\n",
    "- 최선 : O(1) -> 첫 시도에서 찾을 경우\n",
    "- 평균 : O(logN)\n",
    "- 최악 : O(longN)"
   ]
  },
  {
   "cell_type": "code",
   "execution_count": null,
   "id": "25daa9ea",
   "metadata": {},
   "outputs": [],
   "source": [
    "# 기본 반복문\n",
    "def binary_serach(arr, target):\n",
    "    left, right = 0, len(arr) - 1\n",
    "\n",
    "    while left <= right:\n",
    "        mid = (left + right) // 2\n",
    "\n",
    "        if arr[mid] == target:\n",
    "            return mid\n",
    "        elif arr[mid] < target:\n",
    "            left = mid + 1\n",
    "        else:\n",
    "            right = mid - 1\n",
    "\n",
    "    \n",
    "    return -1\n",
    "\n",
    "\n",
    "# 재귀 방식\n",
    "def binary_search_recursive(arr, target, left, right):\n",
    "    if left > right:\n",
    "        return -1\n",
    "\n",
    "    mid = (left + right) // 2\n",
    "\n",
    "    if arr[mid] == target:\n",
    "        return mid\n",
    "    elif arr[mid] < target:\n",
    "        return binary_search_recursive(arr, target, mid + 1, right)\n",
    "    else:\n",
    "        return binary_search_recursive(arr, target, left, mid - 1)\n",
    "        \n"
   ]
  },
  {
   "cell_type": "markdown",
   "id": "a9fce434",
   "metadata": {},
   "source": [
    "---"
   ]
  },
  {
   "cell_type": "markdown",
   "id": "9b1ef279",
   "metadata": {},
   "source": [
    "## 프로그래머스 문제"
   ]
  },
  {
   "cell_type": "markdown",
   "id": "182d0dd7",
   "metadata": {},
   "source": [
    "### 문제 1. 입국 심사\n",
    "n명이 입국심사를 위해 줄을 서서 기다리고 있습니다. 각 입국심사대에 있는 심사관마다 심사하는데 걸리는 시간은 다릅니다.\n",
    "\n",
    "처음에 모든 심사대는 비어있습니다. 한 심사대에서는 동시에 한 명만 심사를 할 수 있습니다. 가장 앞에 서 있는 사람은 비어 있는 심사대로 가서 심사를 받을 수 있습니다. 하지만 더 빨리 끝나는 심사대가 있으면 기다렸다가 그곳으로 가서 심사를 받을 수도 있습니다.\n",
    "\n",
    "모든 사람이 심사를 받는데 걸리는 시간을 최소로 하고 싶습니다.\n",
    "\n",
    "입국심사를 기다리는 사람 수 n, 각 심사관이 한 명을 심사하는데 걸리는 시간이 담긴 배열 times가 매개변수로 주어질 때, 모든 사람이 심사를 받는데 걸리는 시간의 최솟값을 return 하도록 solution 함수를 작성해주세요.\n",
    "\n",
    "제한사항\n",
    "- 입국심사를 기다리는 사람은 1명 이상 1,000,000,000명 이하입니다.\n",
    "- 각 심사관이 한 명을 심사하는데 걸리는 시간은 1분 이상 1,000,000,000분 이하입니다.\n",
    "- 심사관은 1명 이상 100,000명 이하입니다."
   ]
  },
  {
   "cell_type": "code",
   "execution_count": 6,
   "id": "7dfc78ca",
   "metadata": {},
   "outputs": [
    {
     "name": "stdout",
     "output_type": "stream",
     "text": [
      "28\n"
     ]
    }
   ],
   "source": [
    "def solution(n, times):\n",
    "    \n",
    "    left, right = 1, max(times) * n\n",
    "    answer = right\n",
    "\n",
    "\n",
    "    while left <= right:\n",
    "        mid = (left + right) // 2\n",
    "        total = sum(mid // t for t in times)\n",
    "\n",
    "        if total >= n:\n",
    "            answer = mid\n",
    "            right = mid - 1\n",
    "        else:\n",
    "            left = mid + 1\n",
    "\n",
    "    return answer\n",
    "\n",
    "\n",
    "n = 6\n",
    "times = [7, 10]\n",
    "print(solution(n, times))"
   ]
  },
  {
   "cell_type": "markdown",
   "id": "2debf995",
   "metadata": {},
   "source": [
    "만약 if people == n: return mid 로 짰으면 people == n 이 되는 시점이 정확히 최소 시간이 아닐 수 있다. 그래서 >= n 으로 가능한 시간 중 가장 짧은 시간을 찾아야 한다."
   ]
  },
  {
   "cell_type": "markdown",
   "id": "facefd4a",
   "metadata": {},
   "source": [
    "---"
   ]
  },
  {
   "cell_type": "markdown",
   "id": "4386e6f7",
   "metadata": {},
   "source": [
    "### 문제 2. 징검다리\n",
    "출발지점부터 distance만큼 떨어진 곳에 도착지점이 있습니다. 그리고 그사이에는 바위들이 놓여있습니다. 바위 중 몇 개를 제거하려고 합니다.\n",
    "예를 들어, 도착지점이 25만큼 떨어져 있고, 바위가 [2, 14, 11, 21, 17] 지점에 놓여있을 때 바위 2개를 제거하면 출발지점, 도착지점, 바위 간의 거리가 아래와 같습니다.\n",
    "\n",
    "| 제거한 바위의 위치 | 각 바위 사이의 거리 | 거리의 최솟값 |\n",
    "|------------------|------------------|---------------|\n",
    "| [21, 17] | [2, 9, 3, 11] | 2 |\n",
    "| [2, 21] | [11, 3, 3, 8] | 3 |\n",
    "| [2, 11] | [14, 3, 4, 4] | 3 |\n",
    "| [11, 21] | [2, 12, 3, 8] | 2 |\n",
    "| [2, 14] | [11, 6, 4, 4] | 4 |\n",
    "\n",
    "\n",
    "위에서 구한 거리의 최솟값 중에 가장 큰 값은 4입니다.\n",
    "\n",
    "출발지점부터 도착지점까지의 거리 distance, 바위들이 있는 위치를 담은 배열 rocks, 제거할 바위의 수 n이 매개변수로 주어질 때, 바위를 n개 제거한 뒤 각 지점 사이의 거리의 최솟값 중에 가장 큰 값을 return 하도록 solution 함수를 작성해주세요."
   ]
  },
  {
   "cell_type": "code",
   "execution_count": 9,
   "id": "70e807c2",
   "metadata": {},
   "outputs": [
    {
     "name": "stdout",
     "output_type": "stream",
     "text": [
      "4\n"
     ]
    }
   ],
   "source": [
    "def solution(distance, rocks, n):\n",
    "    rocks.sort()\n",
    "    left, right = 0, distance\n",
    "    answer = 0\n",
    "\n",
    "    while left <= right:\n",
    "        prev = 0\n",
    "        remove = 0\n",
    "        mid = (left + right) // 2\n",
    "\n",
    "        for rock in rocks + [distance]: # 도착지점 거리도 포함해야 함\n",
    "            if rock - prev < mid:\n",
    "                remove += 1\n",
    "            else:\n",
    "                prev = rock\n",
    "        \n",
    "        if remove <= n:\n",
    "            answer = mid\n",
    "            left = mid + 1\n",
    "        else:\n",
    "            right = mid - 1\n",
    "\n",
    "    return answer\n",
    "\n",
    "\n",
    "distance = 25\n",
    "rocks = [2, 14, 11, 21, 17]\n",
    "n = 2\n",
    "print(solution(distance, rocks, n))"
   ]
  },
  {
   "cell_type": "markdown",
   "id": "29ef2d06",
   "metadata": {},
   "source": [
    "이 문제는 mid거리를 가정하고 그 거리로 유지 가능한지를 판단하는 과정을 반복해야한다.\n",
    "즉, 탐색의 대상은 거리다!!!\n",
    "\n",
    "예를 들어 거리 기준을 4라고 했을 때\n",
    "\n",
    "| 단계 | 현재 바위 | 이전 유지된 바위 | 거리 | 행동          | 제거 횟수 |\n",
    "| -- | ----- | --------- | -- | ----------- | ----- |\n",
    "| 1  | 2     | 0         | 2  | 4보다 작다 → 제거 | 1     |\n",
    "| 2  | 11    | 0         | 11 | 4 이상 → 유지   | 1     |\n",
    "| 3  | 14    | 11        | 3  | 4보다 작다 → 제거 | 2     |\n",
    "| 4  | 17    | 11        | 6  | 4 이상 → 유지   | 2     |\n",
    "| 5  | 21    | 17        | 4  | 4 이상 → 유지   | 2     |\n",
    "\n",
    "위 표와 같은 과정을 거쳐서 최소 거리 4가 가능하다라는게 나온다\n",
    "\n",
    "거리 4로 가능 ? \n",
    "-> 그럼 더 늘려도 가능할지도\n",
    "-> ㅣeft = mid + 1\n",
    "\n",
    "거리 4로 불가능 ?\n",
    "-> 너무 넓으니 줄여야 함\n",
    "-> right = mid - 1"
   ]
  }
 ],
 "metadata": {
  "kernelspec": {
   "display_name": "algorithm",
   "language": "python",
   "name": "python3"
  },
  "language_info": {
   "codemirror_mode": {
    "name": "ipython",
    "version": 3
   },
   "file_extension": ".py",
   "mimetype": "text/x-python",
   "name": "python",
   "nbconvert_exporter": "python",
   "pygments_lexer": "ipython3",
   "version": "3.13.1"
  }
 },
 "nbformat": 4,
 "nbformat_minor": 5
}
