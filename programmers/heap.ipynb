{
 "cells": [
  {
   "cell_type": "markdown",
   "id": "7e3b2b58",
   "metadata": {},
   "source": [
    "# 힙(heap)\n",
    "\n",
    "## 힙 이란?\n",
    "- 완전 이진 트리 기반의 자료구조\n",
    "  - 마지막 레벨을 제외하고는 모든 레벨이 꽉 차 있고, 마지막 레벨도 왼쪽부터 차 있는 형태\n",
    "- 부모 노드와 자식 노드 사이의 우선순위를 만족하는 구조\n",
    "- 우선순위 큐를 구현할 때 주로 사용됨\n",
    "\n",
    "## 힙의 종류\n",
    "1. 최대 힙\n",
    "- 부모 노드 >= 자식 노드\n",
    "- 루트에 항상 최댓값이 존재\n",
    "- 최대값을 빠르게 꺼낼 수 있음\n",
    "2. 최소 힙\n",
    "- 부모 노드 <= 자식 노드\n",
    "- 루트에 항상 최솟값이 존재\n",
    "- 최소값을 빠르게 꺼낼 수 있음\n",
    "\n",
    "## 힙의 활용\n",
    "- 우선순위 큐\n",
    "- 다익스트라 알고리즘\n",
    "- 최소 시장 트리\n",
    "- k번째 큰/작은 원소 찾기"
   ]
  },
  {
   "cell_type": "code",
   "execution_count": 1,
   "id": "cb14d288",
   "metadata": {},
   "outputs": [
    {
     "name": "stdout",
     "output_type": "stream",
     "text": [
      "[1, 1, 4, 3, 5]\n",
      "[1, 1, 2, 3, 5, 4]\n",
      "1\n",
      "5\n"
     ]
    }
   ],
   "source": [
    "import heapq\n",
    "\n",
    "# 최소 힙\n",
    "arr = [3, 1, 4, 1, 5]\n",
    "heapq.heapify(arr)\n",
    "print(arr)\n",
    "\n",
    "# 원소 삽입\n",
    "heapq.heappush(arr, 2)\n",
    "print(arr) \n",
    "\n",
    "# 최소값 꺼내기\n",
    "min_val = heapq.heappop(arr)\n",
    "print(min_val)  \n",
    "\n",
    "# 최대 힙 흉내내기 (음수 사용)\n",
    "arr = [3, 1, 4, 1, 5]\n",
    "max_heap = [-x for x in arr]\n",
    "heapq.heapify(max_heap)\n",
    "print(-heapq.heappop(max_heap))  "
   ]
  },
  {
   "cell_type": "markdown",
   "id": "3a94ba51",
   "metadata": {},
   "source": [
    "---"
   ]
  },
  {
   "cell_type": "markdown",
   "id": "ed5c18e5",
   "metadata": {},
   "source": [
    "### 문제 1. 더 맵게\n",
    "모든 음식의 스코빌 지수를 k이상으로 만들기 위해 스코빌 지수가 가장 낮은 두개의 음식을 다음과 같이 특별한 방법으로 섞어 새로운 음식을 만든다\n",
    "- 섞은 음식의 스코빌 지수 = 가장 맵지 않은 음식의 스코빌 지수 + (두 번째로 맵지 않은 음식의 스코빌 지수 * 2)\n",
    "leo는 모든 음식의 스코빌 지수가 K 이상이 될 때까지 반복하여 섞는다. Leo가 가진 음식의 스코빌 지수를 담은 배열 scoville과 원하는 스코빌 지수 K가 주어질 때, 모든 음식의 스코빌 지수를 K 이상으로 만들기 위해 섞어야 하는 최소 횟수를 return 하도록 solution 함수를 작성"
   ]
  },
  {
   "cell_type": "code",
   "execution_count": 3,
   "id": "0ede759a",
   "metadata": {},
   "outputs": [
    {
     "name": "stdout",
     "output_type": "stream",
     "text": [
      "2\n"
     ]
    }
   ],
   "source": [
    "import heapq\n",
    "\n",
    "def solution(scoville, K):\n",
    "    answer = 0\n",
    "    heapq.heapify(scoville)\n",
    "\n",
    "    while True:\n",
    "        if scoville[0] >= k:\n",
    "            return answer\n",
    "        \n",
    "        if len(scoville) == 1 and scoville[0] < k:\n",
    "            return -1\n",
    "\n",
    "        first = heapq.heappop(scoville)\n",
    "        second = heapq.heappop(scoville)\n",
    "\n",
    "        mix = first + (second * 2)\n",
    "\n",
    "        heapq.heappush(scoville, mix)\n",
    "        answer += 1\n",
    "\n",
    "    return answer\n",
    "\n",
    "\n",
    "scoville = [1, 2, 3, 9, 10, 12]\n",
    "k = 7\n",
    "print(solution(scoville, k))"
   ]
  },
  {
   "cell_type": "markdown",
   "id": "c00a6bd2",
   "metadata": {},
   "source": [
    "---"
   ]
  },
  {
   "cell_type": "markdown",
   "id": "37240ac7",
   "metadata": {},
   "source": [
    "### 문제2. 디스크 컨트롤러\n",
    "하드디스크는 한 번에 하나의 작업만 수행할 수 있습니다. 디스크 컨트롤러를 구현하는 방법은 여러 가지가 있습니다. 이 문제에서는 우선순위 디스크 컨트롤러라는 가상의 장치를 이용한다고 가정합니다. 우선순위 디스크 컨트롤러는 다음과 같이 동작합니다.\n",
    "\n",
    "1. 어떤 작업 요청이 들어왔을 때 작업의 번호, 작업의 요청 시각, 작업의 소요 시간을 저장해 두는 대기 큐가 있습니다. 처음에 이 큐는 비어있습니다.\n",
    "2. 디스크 컨트롤러는 하드디스크가 작업을 하고 있지 않고 대기 큐가 비어있지 않다면 가장 우선순위가 높은 작업을 대기 큐에서 꺼내서 하드디스크에 그 작업을 시킵니다. 이때, 작업의 소요시간이 짧은 것, 작업의 요청 시각이 빠른 것, 작업의 번호가 작은 것 순으로 우선순위가 높습니다.\n",
    "3. 하드디스크는 작업을 한 번 시작하면 작업을 마칠 때까지 그 작업만 수행합니다.\n",
    "4. 하드디스크가 어떤 작업을 마치는 시점과 다른 작업 요청이 들어오는 시점이 겹친다면 하드디스크가 작업을 마치자마자 디스크 컨트롤러는 요청이 들어온 작업을 대기 큐에 저장한 뒤 우선순위가 높은 작업을 대기 큐에서 꺼내서 하드디스크에 그 작업을 시킵니다. 또, 하드디스크가 어떤 작업을 마치는 시점에 다른 작업이 들어오지 않더라도 그 작업을 마치자마자 또 다른 작업을 시작할 수 있습니다. 이 과정에서 걸리는 시간은 없다고 가정합니다.\n",
    "\n",
    "\n",
    "모든 요청 작업을 마쳤을 때 각 작업에 대한 반환 시간(turnaround time)은 작업 요청부터 종료까지 걸린 시간으로 정의합니다. 각 작업에 대해 [작업이 요청되는 시점, 작업의 소요시간]을 담은 2차원 정수 배열 jobs가 매개변수로 주어질 때, 우선순위 디스크 컨트롤러가 이 작업을 처리했을 때 모든 요청 작업의 반환 시간의 평균의 정수부분을 return 하는 solution 함수를 작성해 주세요."
   ]
  },
  {
   "cell_type": "code",
   "execution_count": null,
   "id": "b8b3380c",
   "metadata": {},
   "outputs": [
    {
     "name": "stdout",
     "output_type": "stream",
     "text": [
      "8\n"
     ]
    }
   ],
   "source": [
    "import heapq\n",
    "\n",
    "def solution(jobs):\n",
    "    answer = 0\n",
    "    time = 0\n",
    "    idx = 0\n",
    "    n = len(jobs)\n",
    "    heap = []\n",
    "\n",
    "    jobs.sort() # 요청 시점 기준으로 정렬\n",
    "\n",
    "    while idx < n or heap:\n",
    "        while idx < n and jobs[idx][0] <= time:\n",
    "            request, duration = jobs[idx]\n",
    "            heapq.heappush(heap, (duration, request))\n",
    "            idx += 1\n",
    "        \n",
    "        if heap:\n",
    "            duration, request = heapq.heappop(heap)\n",
    "            time += duration\n",
    "            answer += (time - request)\n",
    "        else:\n",
    "            # 아직 요청이 안들어 왔으면, 다음 요청 시각까지 점프\n",
    "            time = jobs[idx][0]\n",
    "\n",
    "    return answer // n\n",
    "\n",
    "\n",
    "jobs = [[0, 3], [1, 9], [3, 5]]\n",
    "print(solution(jobs))\n",
    "\n",
    "# 0 - 3\n",
    "# 3 - 8\n",
    "# 8 - 17 "
   ]
  },
  {
   "cell_type": "markdown",
   "id": "e7fbcdc9",
   "metadata": {},
   "source": [
    "---"
   ]
  },
  {
   "cell_type": "markdown",
   "id": "2df3f069",
   "metadata": {},
   "source": [
    "### 문제3. 이중우선순위큐\n",
    "이중 우선순위 큐는 다음 연산을 할 수 있는 자료구조를 말합니다.\n",
    "- I 숫자 : 큐에 주어진 숫자를 삽입\n",
    "- D1 : 큐에서 최댓값을 삭제\n",
    "- D -1 : 큐에서 최솟값을 삭제\n",
    "\n",
    "이중 우선순위 큐가 할 연산 operations가 매개변수로 주어질 때, 모든 연산을 처리한 후 큐가 비어있으면 [0,0] 비어있지 않으면 [최댓값, 최솟값]을 return 하도록 solution 함수를 구현해주세요."
   ]
  },
  {
   "cell_type": "code",
   "execution_count": null,
   "id": "13c497c1",
   "metadata": {},
   "outputs": [
    {
     "data": {
      "text/plain": [
       "[333, -45]"
      ]
     },
     "execution_count": 47,
     "metadata": {},
     "output_type": "execute_result"
    }
   ],
   "source": [
    "import heapq\n",
    "\n",
    "def solution(operations):\n",
    "\n",
    "    max_heap = []\n",
    "    min_heap = []\n",
    "    isDeleted = []\n",
    "    idx = 0\n",
    "\n",
    "    for operation in operations:\n",
    "        if operation.startswith('I'):\n",
    "            num = int(operation.split()[-1])\n",
    "            heapq.heappush(max_heap, (-num, idx))\n",
    "            heapq.heappush(min_heap, (num, idx))\n",
    "            isDeleted.append(False)\n",
    "            idx += 1    \n",
    "\n",
    "        elif operation == 'D 1':\n",
    "            # 최대값 삭제\n",
    "            while max_heap and isDeleted[max_heap[0][1]]:\n",
    "                heapq.heappop(max_heap)\n",
    "\n",
    "            if max_heap:\n",
    "                if not isDeleted[max_heap[0][1]]:\n",
    "                    _, i = heapq.heappop(max_heap)\n",
    "                    isDeleted[i] = True\n",
    "\n",
    "        else:\n",
    "            # 최솟값 삭제\n",
    "            while min_heap and isDeleted[min_heap[0][1]]:\n",
    "                heapq.heappop(min_heap)\n",
    "\n",
    "            if min_heap:\n",
    "                if not isDeleted[min_heap[0][1]]:\n",
    "                    _, i = heapq.heappop(min_heap)\n",
    "                    isDeleted[i] = True\n",
    "    \n",
    "    # 최종 정리\n",
    "    while max_heap and isDeleted[max_heap[0][1]]:\n",
    "        heapq.heappop(max_heap)\n",
    "    while min_heap and isDeleted[min_heap[0][1]]:\n",
    "        heapq.heappop(min_heap)\n",
    "\n",
    "    if not max_heap or not min_heap:\n",
    "        return [0, 0]\n",
    "    else:\n",
    "        max_val = -max_heap[0][0]\n",
    "        min_val = min_heap[0][0]\n",
    "        return [max_val, min_val]\n",
    "\n",
    "   \n",
    "# operations = [\"I 16\", \"I -5643\", \"D -1\", \"D 1\", \"D 1\", \"I 123\", \"D -1\"]\n",
    "operations = [\"I -45\", \"I 653\", \"D 1\", \"I -642\", \"I 45\", \"I 97\", \"D 1\", \"D -1\", \"I 333\"]\n",
    "# print(solution(operations))\n",
    "solution(operations)"
   ]
  }
 ],
 "metadata": {
  "kernelspec": {
   "display_name": "algorithm",
   "language": "python",
   "name": "python3"
  },
  "language_info": {
   "codemirror_mode": {
    "name": "ipython",
    "version": 3
   },
   "file_extension": ".py",
   "mimetype": "text/x-python",
   "name": "python",
   "nbconvert_exporter": "python",
   "pygments_lexer": "ipython3",
   "version": "3.13.1"
  }
 },
 "nbformat": 4,
 "nbformat_minor": 5
}
