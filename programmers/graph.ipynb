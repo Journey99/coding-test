{
 "cells": [
  {
   "cell_type": "markdown",
   "id": "25d093f0",
   "metadata": {},
   "source": [
    "# Graph\n",
    "> 정점(vertex)과 간선(edge)으로 이루어진 연결 관계를 표현하는 자료구조\n",
    "\n",
    "| 분류            | 알고리즘                                   | 핵심 목적             |\n",
    "| ------------- | -------------------------------------- | ----------------- |\n",
    "| **최단 경로**     | Dijkstra, Bellman-Ford, Floyd-Warshall | 노드 간 최단 거리 계산     |\n",
    "| **최소 신장 트리**  | Kruskal, Prim                          | 모든 노드를 최소 비용으로 연결 |\n",
    "| **정렬형 탐색**    | Topological Sort                       | 방향 그래프의 순서 결정     |\n",
    "| **그래프 집합 관리** | Union-Find                             | 노드 집합 병합/판별       |\n"
   ]
  },
  {
   "cell_type": "markdown",
   "id": "91fbea22",
   "metadata": {},
   "source": [
    "## (1) 최단경로\n",
    "### 1. dijkstra 알고리즘\n",
    "> 가중치가 양수일 때, 하나의 시작점에서 모든 노드까지의 최단거리를 구하는 알고리즘\n",
    "\n",
    "- 핵심 아이디어\n",
    "  - 방문하지 않은 노드 중, 가장 가까운 노드를 선택해 탐색을 확장\n",
    "  - 우선순위 큐(힙)를 사용하면 효율적 (O(E log V))"
   ]
  },
  {
   "cell_type": "code",
   "execution_count": 2,
   "id": "1772d889",
   "metadata": {},
   "outputs": [
    {
     "name": "stdout",
     "output_type": "stream",
     "text": [
      "{'A': 0, 'B': 8, 'C': 1, 'D': inf}\n"
     ]
    }
   ],
   "source": [
    "import heapq\n",
    "\n",
    "def dijkstra(graph, start):\n",
    "    distance = {node: float('inf') for node in graph}\n",
    "    distance[start] = 0\n",
    "    pq = [(0, start)]\n",
    "\n",
    "    while pq:\n",
    "        dist, node = heapq.heappop(pq)\n",
    "        if dist > distance[node]:\n",
    "            continue\n",
    "\n",
    "        for nxt, weight in graph[start]:\n",
    "            new_dist = dist + weight\n",
    "            if new_dist < distance[nxt]:\n",
    "                distance[nxt] = new_dist\n",
    "                heapq.heappush(pq, (new_dist, nxt))\n",
    "\n",
    "    \n",
    "    return distance\n",
    "\n",
    "graph = {\n",
    "    'A': [('B', 8), ('C', 1)],\n",
    "    'B': [('D', 2)],\n",
    "    'C': [('B', 5), ('D', 9)],\n",
    "    'D': []\n",
    "}\n",
    "\n",
    "print(dijkstra(graph, 'A'))"
   ]
  },
  {
   "cell_type": "markdown",
   "id": "090ee009",
   "metadata": {},
   "source": [
    "### 2. bellman-ford 알고리즘\n",
    "> 음수 가중치가 포함된 그래프에서도 최단 경로 계산 가능\n",
    "> \n",
    "> 단, 음수 사이클이 존재하면 탐색 불가능\n",
    "\n",
    "- 핵심 아이디어\n",
    "  - 모든 간선을 v-1번 반복하면 최단 경로 계산이 가능하다라는 배경으로 \n",
    "  - 마지막에 한번 더 반복하여 값이 갱신되면 -> 음수 사이클이 존재\n",
    "- 복잡도는 O(VE) 로 다익스트라보다 느리다\n"
   ]
  },
  {
   "cell_type": "code",
   "execution_count": 3,
   "id": "286b5135",
   "metadata": {},
   "outputs": [],
   "source": [
    "def bellman_foard(n, edges, start):\n",
    "    distance = [float('inf')] * (n+1)\n",
    "    distance[start] = 0\n",
    "\n",
    "    for _ in range(n-1):\n",
    "        for u, v, w in edges:\n",
    "            if distance[u] != float('inf') and distance[u] + w < distance[v]:\n",
    "                distance[v] = distance[u] + w\n",
    "\n",
    "    \n",
    "    # 음수 사이클 확인\n",
    "    for u, v, w in edges:\n",
    "        if distance[u] != float('inf') and distance[u] + w < distance[v]:\n",
    "            return \"negative cycle detected\"\n",
    "        \n",
    "    \n",
    "    return distance"
   ]
  },
  {
   "cell_type": "markdown",
   "id": "9c95fc8e",
   "metadata": {},
   "source": [
    "### 3. floyd-warshall 알고리즘\n",
    "> 모든 노드 쌍 간 최단 거리 계산\n",
    "> \n",
    "> dp 기반의 전형적인 3중 루프 알고리즘\n",
    "\n",
    "- 핵심 아이디어\n",
    "  - 각 노드 k를 거쳐 가는 경우의 최소값을 업데이트\n",
    "  - dist[i][j] = min(dist[i][j], dist[i][k] + dist[k][j])\n",
    "- 복잡도는 O(n^3)"
   ]
  },
  {
   "cell_type": "code",
   "execution_count": 4,
   "id": "2faa1bab",
   "metadata": {},
   "outputs": [],
   "source": [
    "def floyd_warshall(graph):\n",
    "    n = len(graph)\n",
    "    distance = [row[:] for row in graph]\n",
    "\n",
    "    for k in range(n):\n",
    "        for i in range(n):\n",
    "            for j in range(n):\n",
    "                distance[i][j] = min(distance[i][j], distance[i][k] + distance[k][j])\n",
    "    \n",
    "    return distance"
   ]
  },
  {
   "cell_type": "markdown",
   "id": "a70fa2f3",
   "metadata": {},
   "source": [
    "## (2) 최소 신장 트리 (MST, minimum spanning tree)\n",
    "> 그래프의 모든 정점을 최소 비용으로 연결하는 트리\n",
    ">\n",
    "> 사이클 x, 모든 노드 연결"
   ]
  },
  {
   "cell_type": "markdown",
   "id": "c983d671",
   "metadata": {},
   "source": [
    "### 1. kruskal 알고리즘\n",
    "> 간선을 오름차순 정렬 -> 가장 짧은 간선부터 선택\n",
    ">\n",
    "> 단, 사이클이 생기지 않게 union-find로 연결 관리\n",
    "\n",
    "- 핵심 아이디어\n",
    "  - 간선을 가중치 기준으로 정렬\n",
    "  - 사이클이 생기지 않으면 추가\n",
    "  - 모든 노드가 연결될 때까지 반복"
   ]
  },
  {
   "cell_type": "code",
   "execution_count": 5,
   "id": "61a2f0cf",
   "metadata": {},
   "outputs": [],
   "source": [
    "def find(parent, x):\n",
    "    if parent[x] != x:\n",
    "        parent[x] = find(parent, parent[x])\n",
    "    return parent[x]\n",
    "\n",
    "def union(parent, a, b):\n",
    "    a = find(parent, a)\n",
    "    b = find(parent, b)\n",
    "    if a < b:\n",
    "        parent[b] = a\n",
    "    else:\n",
    "        parent[a] = b\n",
    "\n",
    "def kruskal(n, edges):\n",
    "    parent = [i for i in range(n+1)]\n",
    "    edges.sort(key=lambda x: x[2])\n",
    "    total = 0\n",
    "\n",
    "    for a, b, cost in edges:\n",
    "        if find(parent, a) != find(parent, b):\n",
    "            union(parent, a, b)\n",
    "            total += cost\n",
    "\n",
    "    return total"
   ]
  },
  {
   "cell_type": "markdown",
   "id": "a2ec510c",
   "metadata": {},
   "source": [
    "### 2. Prime 알고리즘\n",
    "> 한 정점에서 시작해서, 가장 가까운 노드를 하나씩 추가\n",
    ">\n",
    "> dijkstra와 매우 유사 (힙 기반)"
   ]
  },
  {
   "cell_type": "code",
   "execution_count": 6,
   "id": "8b639e35",
   "metadata": {},
   "outputs": [],
   "source": [
    "import heapq\n",
    "\n",
    "def prim(graph, start):\n",
    "    visited= set()\n",
    "    pq = [(0, start)]\n",
    "    total = 0\n",
    "\n",
    "    while pq:\n",
    "        cost, node = heapq.heappop(pq)\n",
    "        if node in visited:\n",
    "            continue\n",
    "        visited.add(node)\n",
    "        total += cost\n",
    "\n",
    "        for nxt, weight in graph[node]:\n",
    "            if nxt not in visited:\n",
    "                heapq.heappush(pq, (weight, nxt))\n",
    "\n",
    "    return total"
   ]
  },
  {
   "cell_type": "markdown",
   "id": "5d7d2420",
   "metadata": {},
   "source": [
    "## (3) 위상 정렬\n",
    "> 방향 그래프(DAG)에서 순서가 있는 작업 순서를 결정하는 알고리즘\n",
    "\n",
    "- 핵심 아이디어\n",
    "  - 진입 차수가 0인 노드를 큐에 삽입\n",
    "  - 큐에서 하나 꺼내 인접 노트의 진입 차수를 감소\n",
    "  - 새로 진입 차수가 0이 되면 큐에 삽입\n",
    "  - 큐가 빌때까지 반복"
   ]
  },
  {
   "cell_type": "code",
   "execution_count": 7,
   "id": "631d1d8e",
   "metadata": {},
   "outputs": [],
   "source": [
    "from collections import deque\n",
    "\n",
    "def topological_sort(n, edges):\n",
    "    indegree = [0] * (n+1)\n",
    "    graph = [[] for _ in range(n+1)]\n",
    "\n",
    "    for u, v in edges:\n",
    "        graph[u].append(v)\n",
    "        indegree[v] += 1\n",
    "\n",
    "    q = deque([i for i in range (1, n+1) if indegree[i] == 0])\n",
    "    result = []\n",
    "\n",
    "    while q:\n",
    "        node = q.popleft()\n",
    "        result.append(node)\n",
    "\n",
    "        for nxt in graph[node]:\n",
    "            indegree[nxt] -= 1\n",
    "            if indegree[nxt] == 0:\n",
    "                q.append(nxt)\n",
    "    \n",
    "    return result"
   ]
  },
  {
   "cell_type": "code",
   "execution_count": null,
   "id": "136466f1",
   "metadata": {},
   "outputs": [],
   "source": []
  }
 ],
 "metadata": {
  "kernelspec": {
   "display_name": "algorithm",
   "language": "python",
   "name": "python3"
  },
  "language_info": {
   "codemirror_mode": {
    "name": "ipython",
    "version": 3
   },
   "file_extension": ".py",
   "mimetype": "text/x-python",
   "name": "python",
   "nbconvert_exporter": "python",
   "pygments_lexer": "ipython3",
   "version": "3.13.1"
  }
 },
 "nbformat": 4,
 "nbformat_minor": 5
}
