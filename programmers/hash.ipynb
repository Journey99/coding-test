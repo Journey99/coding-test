{
 "cells": [
  {
   "cell_type": "markdown",
   "id": "d8b81f81",
   "metadata": {},
   "source": [
    "## 해시"
   ]
  },
  {
   "cell_type": "markdown",
   "id": "2a059fb4",
   "metadata": {},
   "source": [
    "### 완주하지 못한 선수\n"
   ]
  },
  {
   "cell_type": "code",
   "execution_count": null,
   "id": "28910afa",
   "metadata": {},
   "outputs": [],
   "source": [
    "def solution(participant, completion):\n",
    "    cnt = {}\n",
    "\n",
    "    for p in participant:\n",
    "        cnt[p] = cnt.get(p, 0) + 1\n",
    "    \n",
    "    for c in completion:\n",
    "        cnt[c] -= 1\n",
    "    \n",
    "    for p, c in cnt.items():\n",
    "        if c > 0:\n",
    "            answer = p\n",
    "\n",
    "    return answer"
   ]
  },
  {
   "cell_type": "code",
   "execution_count": null,
   "id": "fbe6df5d",
   "metadata": {},
   "outputs": [
    {
     "name": "stdout",
     "output_type": "stream",
     "text": [
      "Counter({'leo': 1, 'kiki': 1, 'eden': 1})\n",
      "leo\n"
     ]
    }
   ],
   "source": [
    "# 효율적인 풀이\n",
    "import collections\n",
    "\n",
    "def solution(participant, completion):\n",
    "    answer = collections.Counter(participant) - collections.Counter(completion)\n",
    "    print(collections.Counter(participant))\n",
    "    return list(answer.keys())[0]\n"
   ]
  }
 ],
 "metadata": {
  "kernelspec": {
   "display_name": "algorithm",
   "language": "python",
   "name": "python3"
  },
  "language_info": {
   "codemirror_mode": {
    "name": "ipython",
    "version": 3
   },
   "file_extension": ".py",
   "mimetype": "text/x-python",
   "name": "python",
   "nbconvert_exporter": "python",
   "pygments_lexer": "ipython3",
   "version": "3.13.1"
  }
 },
 "nbformat": 4,
 "nbformat_minor": 5
}
