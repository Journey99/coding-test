{
 "cells": [
  {
   "cell_type": "markdown",
   "id": "d8b81f81",
   "metadata": {},
   "source": [
    "## 해시"
   ]
  },
  {
   "cell_type": "markdown",
   "id": "2a059fb4",
   "metadata": {},
   "source": [
    "### 완주하지 못한 선수\n"
   ]
  },
  {
   "cell_type": "code",
   "execution_count": null,
   "id": "28910afa",
   "metadata": {},
   "outputs": [],
   "source": [
    "def solution(participant, completion):\n",
    "    cnt = {}\n",
    "\n",
    "    for p in participant:\n",
    "        cnt[p] = cnt.get(p, 0) + 1\n",
    "    \n",
    "    for c in completion:\n",
    "        cnt[c] -= 1\n",
    "    \n",
    "    for p, c in cnt.items():\n",
    "        if c > 0:\n",
    "            answer = p\n",
    "\n",
    "    return answer"
   ]
  },
  {
   "cell_type": "code",
   "execution_count": null,
   "id": "fbe6df5d",
   "metadata": {},
   "outputs": [
    {
     "name": "stdout",
     "output_type": "stream",
     "text": [
      "Counter({'leo': 1, 'kiki': 1, 'eden': 1})\n",
      "leo\n"
     ]
    }
   ],
   "source": [
    "# 효율적인 풀이\n",
    "import collections\n",
    "\n",
    "def solution(participant, completion):\n",
    "    answer = collections.Counter(participant) - collections.Counter(completion)\n",
    "    print(collections.Counter(participant))\n",
    "    return list(answer.keys())[0]\n"
   ]
  },
  {
   "cell_type": "markdown",
   "id": "6f9a64e3",
   "metadata": {},
   "source": [
    "### 폰켓몬\n",
    "- 폰켓몬은 종류에 따라 번호를 붙여 구분한다.\n",
    "- 같은 종류의 폰켓몬은 같은 번호를 가지고 있다.\n",
    "- n마리의 폰켓몬 종류 번호가 담긴 배열이 주어질 때, n/2마리의 폰켓몬을 선택하는 방법 중, 가장 많은 종류의 폰켓몬을 선택하는 방법을 찾아, 그때의 폰켓몬 종류 번호의 개수를 return"
   ]
  },
  {
   "cell_type": "code",
   "execution_count": null,
   "id": "fa8e12b8",
   "metadata": {},
   "outputs": [],
   "source": [
    "from itertools import combinations\n",
    "\n",
    "def solution(nums):\n",
    "    answer = 0\n",
    "    pokemon_num = len(nums)/2\n",
    "    combi = list(combinations(nums, pokemon_num))\n",
    "    \n",
    "    print(combi)\n",
    "\n",
    "    # for c in combi:\n",
    "    #     if answer <= len(set(c)):\n",
    "    #         answer = len(set(c))\n",
    "    \n",
    "    # return answer\n",
    "\n",
    "nums = input()\n",
    "print(solution(nums))"
   ]
  }
 ],
 "metadata": {
  "kernelspec": {
   "display_name": "algorithm",
   "language": "python",
   "name": "python3"
  },
  "language_info": {
   "codemirror_mode": {
    "name": "ipython",
    "version": 3
   },
   "file_extension": ".py",
   "mimetype": "text/x-python",
   "name": "python",
   "nbconvert_exporter": "python",
   "pygments_lexer": "ipython3",
   "version": "3.13.1"
  }
 },
 "nbformat": 4,
 "nbformat_minor": 5
}
