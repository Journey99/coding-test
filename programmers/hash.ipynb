{
 "cells": [
  {
   "cell_type": "markdown",
   "id": "d8b81f81",
   "metadata": {},
   "source": [
    "## 해시"
   ]
  },
  {
   "cell_type": "markdown",
   "id": "2a059fb4",
   "metadata": {},
   "source": [
    "### 완주하지 못한 선수\n"
   ]
  },
  {
   "cell_type": "code",
   "execution_count": null,
   "id": "28910afa",
   "metadata": {},
   "outputs": [],
   "source": [
    "def solution(participant, completion):\n",
    "    cnt = {}\n",
    "\n",
    "    for p in participant:\n",
    "        cnt[p] = cnt.get(p, 0) + 1\n",
    "    \n",
    "    for c in completion:\n",
    "        cnt[c] -= 1\n",
    "    \n",
    "    for p, c in cnt.items():\n",
    "        if c > 0:\n",
    "            answer = p\n",
    "\n",
    "    return answer"
   ]
  },
  {
   "cell_type": "code",
   "execution_count": null,
   "id": "fbe6df5d",
   "metadata": {},
   "outputs": [
    {
     "name": "stdout",
     "output_type": "stream",
     "text": [
      "Counter({'leo': 1, 'kiki': 1, 'eden': 1})\n",
      "leo\n"
     ]
    }
   ],
   "source": [
    "# 효율적인 풀이\n",
    "import collections\n",
    "\n",
    "def solution(participant, completion):\n",
    "    answer = collections.Counter(participant) - collections.Counter(completion)\n",
    "    print(collections.Counter(participant))\n",
    "    return list(answer.keys())[0]\n"
   ]
  },
  {
   "cell_type": "markdown",
   "id": "6f9a64e3",
   "metadata": {},
   "source": [
    "### 폰켓몬\n",
    "- 폰켓몬은 종류에 따라 번호를 붙여 구분한다.\n",
    "- 같은 종류의 폰켓몬은 같은 번호를 가지고 있다.\n",
    "- n마리의 폰켓몬 종류 번호가 담긴 배열이 주어질 때, n/2마리의 폰켓몬을 선택하는 방법 중, 가장 많은 종류의 폰켓몬을 선택하는 방법을 찾아, 그때의 폰켓몬 종류 번호의 개수를 return"
   ]
  },
  {
   "cell_type": "code",
   "execution_count": 9,
   "id": "fa8e12b8",
   "metadata": {},
   "outputs": [],
   "source": [
    "def solution(nums):\n",
    "    return min(len(nums)//2, len(set(nums)))\n",
    "\n",
    "# nums = [3, 1, 2, 3]"
   ]
  },
  {
   "cell_type": "markdown",
   "id": "c657010e",
   "metadata": {},
   "source": [
    "### 전화번호 목록\n",
    "- 전화번호부에 적힌 전화번호 중, 한 번호가 다른 번호의 접두어인 경우가 잇는지 확인\n",
    "- 어떤 번호가 다른 번호의 접두어인 경우가 있으면 False , 그렇지 않으면 true를 return 하도록 solution 함수 작성"
   ]
  },
  {
   "cell_type": "code",
   "execution_count": 14,
   "id": "7ff73fdb",
   "metadata": {},
   "outputs": [
    {
     "name": "stdout",
     "output_type": "stream",
     "text": [
      "False\n"
     ]
    }
   ],
   "source": [
    "def solution(phone_book):\n",
    "    phone_book.sort()\n",
    "\n",
    "    for i in range(len(phone_book) - 1):\n",
    "        if phone_book[i+1].startswith(phone_book[i]):\n",
    "            return False\n",
    "    \n",
    "    return True\n",
    "\n",
    "\n",
    "book = [\"119\", \"97674223\", \"1195524421\"]\n",
    "print(solution(book))"
   ]
  },
  {
   "cell_type": "markdown",
   "id": "ffc95a9f",
   "metadata": {},
   "source": [
    "### 의상\n",
    "- 의상들이 담긴 2차원 배열이 주어질 때 서로 다른 옷의 조합의 수를 return 하는 함수 작성\n",
    "\n",
    "제한사항\n",
    "- clothes의 각 행은 [의상의 이름, 의상의 종류]로 이루어져 있습니다.\n",
    "- 코니가 가진 의상의 수는 1개 이상 30개 이하입니다.\n",
    "- 같은 이름을 가진 의상은 존재하지 않습니다.\n",
    "- clothes의 모든 원소는 문자열로 이루어져 있습니다.\n",
    "- 모든 문자열의 길이는 1 이상 20 이하인 자연수이고 알파벳 소문자 또는 '_' 로만 이루어져 있습니다."
   ]
  },
  {
   "cell_type": "code",
   "execution_count": 17,
   "id": "3dc6edb4",
   "metadata": {},
   "outputs": [
    {
     "name": "stdout",
     "output_type": "stream",
     "text": [
      "5\n"
     ]
    }
   ],
   "source": [
    "from collections import Counter\n",
    "\n",
    "def solution(clothes):\n",
    "    \n",
    "    counter = Counter([kind for _, kind in clothes])\n",
    "    total = 1\n",
    "    for cnt in counter.values():\n",
    "        total *= (cnt+1)\n",
    "\n",
    "    return total-1\n",
    "\n",
    "\n",
    "clothes = [[\"yellow_hat\", \"headgear\"], [\"blue_sunglasses\", \"eyewear\"], [\"green_turban\", \"headgear\"]]\n",
    "# clothes = [[\"crow_mask\", \"face\"], [\"blue_sunglasses\", \"face\"], [\"smoky_makeup\", \"face\"]]\n",
    "print(solution(clothes))"
   ]
  },
  {
   "cell_type": "markdown",
   "id": "1fbc26fc",
   "metadata": {},
   "source": [
    "### 베스트앨범\n",
    "노래는 고유 번호로 구분하며, 노래를 수록하는 기준은 다음과 같다.\n",
    "1. 속한 노래가 많이 재생된 장르를 먼저 수록합니다.\n",
    "2. 장르 내에서 많이 재생된 노래를 먼저 수록합니다.\n",
    "3. 장르 내에서 재생 횟수가 같은 노래 중에서는 고유 번호가 낮은 노래를 먼저 수록합니다.\n",
    "\n",
    "노래의 장르를 나타내는 문자열 배열 generes와 노래별 재생 횟수를 나타내는 정수 배열 plays가 주어질 때, 베스트 앨범에 들어갈 노래의 고유 번호를 순서대로 Return 하도록 solution 함수를 완성하라"
   ]
  },
  {
   "cell_type": "code",
   "execution_count": 36,
   "id": "9bcdc8ed",
   "metadata": {},
   "outputs": [
    {
     "name": "stdout",
     "output_type": "stream",
     "text": [
      "[4, 1, 3, 0]\n"
     ]
    }
   ],
   "source": [
    "def solution(genres, plays):\n",
    "    answer = []\n",
    "\n",
    "    dic = {k : [] for k in set(genres)}\n",
    "\n",
    "    for idx, (g, p) in enumerate(zip(genres, plays)):\n",
    "        dic[g].append((p, idx))\n",
    "\n",
    "    genre_play = {g : sum(p for p, _ in songs) for g, songs in dic.items()}\n",
    "\n",
    "    for g, _ in sorted(genre_play.items(), key=lambda x: -x[1]):\n",
    "        for p, idx in sorted(dic[g], key=lambda x: (-x[0], x[1]))[:2]:\n",
    "            answer.append(idx)\n",
    "\n",
    "    return answer\n",
    "\n",
    "\n",
    "\n",
    "generes = [\"classic\", \"pop\", \"classic\", \"classic\", \"pop\"]\n",
    "plays = [500, 600, 150, 800, 2500]\n",
    "\n",
    "print(solution(generes, plays))"
   ]
  }
 ],
 "metadata": {
  "kernelspec": {
   "display_name": "algorithm",
   "language": "python",
   "name": "python3"
  },
  "language_info": {
   "codemirror_mode": {
    "name": "ipython",
    "version": 3
   },
   "file_extension": ".py",
   "mimetype": "text/x-python",
   "name": "python",
   "nbconvert_exporter": "python",
   "pygments_lexer": "ipython3",
   "version": "3.13.1"
  }
 },
 "nbformat": 4,
 "nbformat_minor": 5
}
