{
 "cells": [
  {
   "cell_type": "markdown",
   "id": "a27bd52f",
   "metadata": {},
   "source": [
    "# 정렬\n",
    "\n",
    "## 1. 버블 정렬\n",
    "- 인접한 두 원소를 비교하여 필요시 교환 -> 가장 큰 값을 거품처럼 위로 올려보냄\n",
    "- 단순하지만 비효율적\n",
    "\n",
    "### 특징\n",
    "- 시간 복잡도 : O(n^2)\n",
    "- 공간 복잡도 : O(1)"
   ]
  },
  {
   "cell_type": "code",
   "execution_count": 1,
   "id": "56d92ed1",
   "metadata": {},
   "outputs": [],
   "source": [
    "def bubble_sort(arr):\n",
    "    n = len(arr)\n",
    "\n",
    "    for i in range(n):\n",
    "        for j in range(0, n-i-1):\n",
    "            if arr[j] > arr[j+1]:\n",
    "                arr[j], arr[j+1] = arr[j+1], arr[j]\n",
    "\n",
    "    return arr"
   ]
  },
  {
   "cell_type": "markdown",
   "id": "7627993f",
   "metadata": {},
   "source": [
    "## 2. 선택 정렬\n",
    "- 전체에서 최솟값(또는 최댓값)을 찾아 맨 앞으로 보내는 방식\n",
    "- 교환 횟수가 적지만 여전히 느림\n",
    "\n",
    "### 특징\n",
    "- 시간 복잡도 : O(n^2)\n",
    "- 공간 복잡도 : O(1)\n",
    "- 교환 횟수가 최대 n번"
   ]
  },
  {
   "cell_type": "code",
   "execution_count": 3,
   "id": "e04232db",
   "metadata": {},
   "outputs": [],
   "source": [
    "def selected_sort(arr):\n",
    "    n = len(arr)\n",
    "    for i in range(n):\n",
    "        min_idx = i\n",
    "        for j in range(i+1, n):\n",
    "            if arr[j] < arr[min_idx]:\n",
    "                min_idx = j\n",
    "        \n",
    "        arr[i], arr[min_idx] = arr[min_idx], arr[i]\n",
    "    return arr"
   ]
  },
  {
   "cell_type": "markdown",
   "id": "eb58ae8a",
   "metadata": {},
   "source": [
    "## 3. 삽입 정렬\n",
    "- 이미 정렬된 구간에 새로운 원소를 삽입하는 방식\n",
    "- 거의 정렬된 데이터에 유리\n",
    "- 삽입 정렬은 두 번째 자료부터 시작하여 그 앞의 자료들과 비교하여 삽입할 위치를 지정한 후 자료를 뒤로 옮기고 지정한 자리에 자료를 다시 삽입하여 정렬하는 알고르짐\n",
    "\n",
    "### 특징\n",
    "- 시간 복잡도 : O(n^2)\n",
    "- 공간 복잡도 : O(1)"
   ]
  },
  {
   "cell_type": "code",
   "execution_count": 4,
   "id": "2a35dc88",
   "metadata": {},
   "outputs": [],
   "source": [
    "def insertion_sort(arr):\n",
    "    for i in range(1, len(arr)):\n",
    "        for j in range(i, 0, -1):\n",
    "            if arr[j] < arr[j-1]:\n",
    "                arr[j], arr[j-1] = arr[j-1], arr[j]\n",
    "\n",
    "    return arr"
   ]
  },
  {
   "cell_type": "markdown",
   "id": "f45c8159",
   "metadata": {},
   "source": [
    "## 4. 병합 정렬\n",
    "- 분할 정복 사용\n",
    "- 배열을 반으로 나누고 각각 정렬 -> 병합\n",
    "\n",
    "### 특징\n",
    "- 시간 복잡도 : O(nlogn)\n",
    "- 공간 복잡도 : O(n) ; 추가 메모리 필요"
   ]
  },
  {
   "cell_type": "code",
   "execution_count": 5,
   "id": "7ac3c593",
   "metadata": {},
   "outputs": [],
   "source": [
    "def merge_sort(arr):\n",
    "    if len(arr) <= 1:\n",
    "        return arr\n",
    "    \n",
    "    mid = len(arr) // 2\n",
    "    left = merge_sort(arr[:mid])\n",
    "    right = merge_sort(arr[mid:])\n",
    "\n",
    "    return merge(left, right)\n",
    "\n",
    "def merge(left, right):\n",
    "    result = []\n",
    "    i = j = 0\n",
    "    while i < len(left) and j < len(right):\n",
    "        if left[i] < right[j]:\n",
    "            result.append(left[i])\n",
    "            i += 1\n",
    "\n",
    "        else:\n",
    "            result.append(right[j])\n",
    "            j += 1\n",
    "\n",
    "    # while루프가 끝났다는건 한쪽 배열이 완전히 소모됐다는 것\n",
    "    # 나머지 배열은 이미 정렬된 상태이고, 꺼낸 원소들보다 항상 크거나 같음\n",
    "    # 따라서 그대로 부여도 정렬 상태 유지 됨\n",
    "    result.extend(left[i:])\n",
    "    result.extend(right[j:])\n",
    "\n",
    "    return result"
   ]
  },
  {
   "cell_type": "markdown",
   "id": "710f4ca4",
   "metadata": {},
   "source": [
    "## 5. 퀵 정렬\n",
    "- 분할 정복 알고리즘\n",
    "- 피벗(pivot)을 기준으로 작은 값/큰 값 분할 후 재귀 정렬\n",
    "\n",
    "### 특징\n",
    "- 시간 복잡도 : 평균 O(nlong), 최악 O(n^2)\n",
    "- 공간 복잡도 : 평균 O(logn)\n",
    "- 대부분의 경우 가장 빠른 정렬"
   ]
  },
  {
   "cell_type": "code",
   "execution_count": null,
   "id": "49094a3f",
   "metadata": {},
   "outputs": [],
   "source": [
    "def quick_sort(arr):\n",
    "    if len(arr) <= 1:\n",
    "        return arr\n",
    "    \n",
    "    pivot = arr[len(arr)//2]\n",
    "    left = [x for x in arr if x < pivot]\n",
    "    right = [x for x in arr if x > pivot]\n",
    "    return quick_sort(left) + [pivot] + quick_sort(right)"
   ]
  },
  {
   "cell_type": "markdown",
   "id": "48ea87f0",
   "metadata": {},
   "source": [
    "## 6. 힙 정렬\n",
    "- 힙 자료구조 이용 (완전 이진 트리)\n",
    "- 최대 힙을 구성 -> 루트 꺼내 정렬\n",
    "\n",
    "### 특징\n",
    "- 시간 복잡도 : O(nlong)\n",
    "- 공간 복잡도 : O(1)"
   ]
  },
  {
   "cell_type": "code",
   "execution_count": 7,
   "id": "ce4d66fd",
   "metadata": {},
   "outputs": [],
   "source": [
    "def heapify(arr, n, i):\n",
    "    largest = i     # 루트 노트 인덱스 (0부터)\n",
    "    l = 2 * i + 1 \n",
    "    r = 2 * i + 2\n",
    "\n",
    "    # 왼쪽 자식이 루트보다 크면 갱신\n",
    "    if arr[l] > arr[largest] and l < n:\n",
    "        largest = l\n",
    "\n",
    "    # 오른쪽 자식이 루트보다 크면 갱신\n",
    "    if arr[r] > arr[largest] and r < n:\n",
    "        largest = r\n",
    "\n",
    "    # largest 가 바꼈으면 부모와 교환 후 재귀 호출\n",
    "    if largest != i:\n",
    "        arr[i], arr[largest] = arr[largest], arr[i]\n",
    "        heapify(arr, n, largest)    # largest 가 교환되었으니까 교환된 위치서부터 다시 힙 구조로 만든다\n",
    "\n",
    "\n",
    "def heap_sort(arr):\n",
    "    n = len(arr)\n",
    "\n",
    "    # 최대 힙 만들기\n",
    "    for i in range(n//2-1, -1, -1):\n",
    "        heapify(arr, n, i)\n",
    "    \n",
    "    # 힙에서 요소 하나씩 꺼내 정렬\n",
    "    for i in range(n-1, 0, -1):\n",
    "        arr[i], arr[0] = arr[0], arr[i] # 최댓값 맨 뒤로\n",
    "        heapify(arr, i, 0)\n",
    "\n",
    "    return arr"
   ]
  },
  {
   "cell_type": "markdown",
   "id": "e3276e45",
   "metadata": {},
   "source": [
    "---"
   ]
  },
  {
   "cell_type": "markdown",
   "id": "4e00a848",
   "metadata": {},
   "source": [
    "## 문제 1. k번째 수\n",
    "배열 array의 i번째 숫자부터 j번째 숫자까지 자르고 정렬했을 때, k번째에 있는 수를 구하려 합니다.\n",
    "예를 들어 array가 [1, 5, 2, 6, 3, 7, 4], i = 2, j = 5, k = 3이라면\n",
    "1. array의 2번째부터 5번째까지 자르면 [5, 2, 6, 3]입니다.\n",
    "2. 1에서 나온 배열을 정렬하면 [2, 3, 5, 6]입니다.\n",
    "3. 2에서 나온 배열의 3번째 숫자는 5입니다.\n",
    "\n",
    "배열 array, [i, j, k]를 원소로 가진 2차원 배열 commands가 매개변수로 주어질 때, commands의 모든 원소에 대해 앞서 설명한 연산을 적용했을 때 나온 결과를 배열에 담아 return 하도록 solution 함수를 작성해주세요."
   ]
  },
  {
   "cell_type": "code",
   "execution_count": 9,
   "id": "3e84ebf2",
   "metadata": {},
   "outputs": [
    {
     "name": "stdout",
     "output_type": "stream",
     "text": [
      "[5, 6, 3]\n"
     ]
    }
   ],
   "source": [
    "def solution(array, commands):\n",
    "    answer = []\n",
    "\n",
    "    for command in commands:\n",
    "        new_arr = array[command[0]-1 : command[1]]\n",
    "        new_arr.sort()\n",
    "\n",
    "        answer.append(new_arr[command[2]-1])\n",
    "\n",
    "    return answer\n",
    "\n",
    "\n",
    "array = [1, 5, 2, 6, 3, 7, 4]\n",
    "commands = [[2, 5, 3], [4, 4, 1], [1, 7, 3]]\n",
    "print(solution(array, commands))"
   ]
  },
  {
   "cell_type": "markdown",
   "id": "06684213",
   "metadata": {},
   "source": [
    "---"
   ]
  },
  {
   "cell_type": "markdown",
   "id": "256112e3",
   "metadata": {},
   "source": [
    "## 문제2. 가장 큰 수\n",
    "0 또는 양의 정수가 주어졌을 때, 정수를 이어 붙여 만들 수 있는 가장 큰 수를 알아내 주세요.\n",
    "예를 들어, 주어진 정수가 [6, 10, 2]라면 [6102, 6210, 1062, 1026, 2610, 2106]를 만들 수 있고, 이중 가장 큰 수는 6210입니다.\n",
    "0 또는 양의 정수가 담긴 배열 numbers가 매개변수로 주어질 때, 순서를 재배치하여 만들 수 있는 가장 큰 수를 문자열로 바꾸어 return 하도록 solution 함수를 작성해주세요."
   ]
  },
  {
   "cell_type": "code",
   "execution_count": null,
   "id": "fa7436b8",
   "metadata": {},
   "outputs": [
    {
     "name": "stdout",
     "output_type": "stream",
     "text": [
      "9534330\n"
     ]
    }
   ],
   "source": [
    "def solution(numbers):\n",
    "    numbers = list(map(str, numbers))\n",
    "    numbers.sort(key=lambda x: x*4, reverse=True)\n",
    "    answer = ''.join(numbers)\n",
    "\n",
    "    return str(int(answer))\n",
    "\n",
    "\n",
    "# numbers = [6, 10, 2]\n",
    "numbers = [3, 30, 34, 5, 9]\n",
    "print(solution(numbers))"
   ]
  },
  {
   "cell_type": "markdown",
   "id": "01cda5da",
   "metadata": {},
   "source": [
    "---"
   ]
  },
  {
   "cell_type": "markdown",
   "id": "197f16d6",
   "metadata": {},
   "source": [
    "## 문제3. H-Index\n",
    "H-Index는 과학자의 생산성과 영향력을 나타내는 지표입니다. 어느 과학자의 H-Index를 나타내는 값인 h를 구하려고 합니다. 위키백과1에 따르면, H-Index는 다음과 같이 구합니다.\n",
    "\n",
    "어떤 과학자가 발표한 논문 n편 중, h번 이상 인용된 논문이 h편 이상이고 나머지 논문이 h번 이하 인용되었다면 h의 최댓값이 이 과학자의 H-Index입니다.\n",
    "\n",
    "어떤 과학자가 발표한 논문의 인용 횟수를 담은 배열 citations가 매개변수로 주어질 때, 이 과학자의 H-Index를 return 하도록 solution 함수를 작성해주세요."
   ]
  },
  {
   "cell_type": "code",
   "execution_count": 21,
   "id": "06af0853",
   "metadata": {},
   "outputs": [
    {
     "name": "stdout",
     "output_type": "stream",
     "text": [
      "3\n"
     ]
    }
   ],
   "source": [
    "def solution(citations):\n",
    "\n",
    "    citations.sort(reverse=True)\n",
    "\n",
    "    h_idx = 0\n",
    "    for i, c in enumerate(citations):\n",
    "        h = i + 1\n",
    "        if c >= h:\n",
    "            h_idx = h\n",
    "        else:\n",
    "            break\n",
    "\n",
    "    return h_idx\n",
    "\n",
    "citations = [3, 0, 6, 1, 5]\n",
    "print(solution(citations))"
   ]
  }
 ],
 "metadata": {
  "kernelspec": {
   "display_name": "algorithm",
   "language": "python",
   "name": "python3"
  },
  "language_info": {
   "codemirror_mode": {
    "name": "ipython",
    "version": 3
   },
   "file_extension": ".py",
   "mimetype": "text/x-python",
   "name": "python",
   "nbconvert_exporter": "python",
   "pygments_lexer": "ipython3",
   "version": "3.13.1"
  }
 },
 "nbformat": 4,
 "nbformat_minor": 5
}
