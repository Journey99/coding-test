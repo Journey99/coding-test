{
 "cells": [
  {
   "cell_type": "markdown",
   "id": "6c20beab",
   "metadata": {},
   "source": [
    "# DFS & BFS\n",
    "\n",
    "## DFS ; 깊이 우선 탐색\n",
    "- root node부터 시작하여 가장 깊은 곳까지 탐색한 후 돌아서 모든 정점을 방문\n",
    "- 스택 또는 재귀로 구현\n",
    "- 경로가 깊으면 스택 오버플로우 위험"
   ]
  },
  {
   "cell_type": "code",
   "execution_count": 1,
   "id": "d08b26b5",
   "metadata": {},
   "outputs": [],
   "source": [
    "def dfs(graph, v, visited):\n",
    "    visited[v] = True\n",
    "\n",
    "    for nxt in graph[v]:\n",
    "        if not visited[nxt]:\n",
    "            dfs(graph, nxt, visited)"
   ]
  },
  {
   "cell_type": "markdown",
   "id": "8fc3d119",
   "metadata": {},
   "source": [
    "## BFS ; 너비 우선 탐색\n",
    "- root node 부터 출발하여 root로부터 인접한 node들부터 탐색하고, 점점 탐색 범위를 넓혀나감\n",
    "- 큐로 구현\n",
    "- 최단 거리 탐색에 적합"
   ]
  },
  {
   "cell_type": "code",
   "execution_count": 2,
   "id": "98bce759",
   "metadata": {},
   "outputs": [],
   "source": [
    "from collections import deque\n",
    "\n",
    "def bfs(graph, v, visited):\n",
    "    visited[v] = True\n",
    "    queue = deque([v])\n",
    "\n",
    "    while queue:\n",
    "        node = queue.popleft()\n",
    "\n",
    "        for nxt in graph[node]:\n",
    "            if not visited[nxt]:\n",
    "                queue.append(nxt)\n",
    "                visited[nxt] = True"
   ]
  },
  {
   "cell_type": "markdown",
   "id": "9f55f31b",
   "metadata": {},
   "source": [
    "---"
   ]
  },
  {
   "cell_type": "markdown",
   "id": "f99bbeb4",
   "metadata": {},
   "source": [
    "## 문제 1. 타켓 넘버\n",
    "n개의 음이 아닌 정수들이 있습니다. 이 정수들을 순서를 바꾸지 않고 적절히 더하거나 빼서 타겟 넘버를 만들려고 합니다. 예를 들어 [1,1,1,1,1]로 숫자 3을 만들려면 다음 다섯 방법을 쓸 수 있습니다.\n",
    "-1+1+1+1+1 = 3\n",
    "+1-1+1+1+1 = 3\n",
    "+1+1-1+1+1 = 3\n",
    "+1+1+1-1+1 = 3\n",
    "+1+1+1+1-1 = 3\n",
    "\n",
    "사용할 수 있는 숫자가 담긴 배열 numbers, 타겟 넘버 target이 매개변수로 주어질 때 숫자를 적절히 더하고 빼서 타겟 넘버를 만드는 방법의 수를 return 하도록 solution 함수를 작성해주세요."
   ]
  },
  {
   "cell_type": "code",
   "execution_count": 3,
   "id": "fd841bc1",
   "metadata": {},
   "outputs": [
    {
     "name": "stdout",
     "output_type": "stream",
     "text": [
      "5\n"
     ]
    }
   ],
   "source": [
    "def solution(numbers, target):\n",
    "    answer = 0\n",
    "\n",
    "    def dfs(idx, current_sum):\n",
    "        nonlocal answer\n",
    "        if idx == len(numbers):\n",
    "            if current_sum == target:\n",
    "                answer += 1\n",
    "            return\n",
    "\n",
    "        dfs(idx + 1, current_sum + numbers[idx])\n",
    "        dfs(idx + 1, current_sum - numbers[idx])\n",
    "\n",
    "    dfs(0,0)\n",
    "    return answer\n",
    "\n",
    "numbers = [1,1,1,1,1]\n",
    "target = 3\n",
    "print(solution(numbers, target))"
   ]
  },
  {
   "cell_type": "code",
   "execution_count": 4,
   "id": "3e3ec07f",
   "metadata": {},
   "outputs": [],
   "source": [
    "from collections import deque\n",
    "\n",
    "def solution(numbers, target):\n",
    "    answer = 0\n",
    "    queue = deque()\n",
    "    queue.append((0, 0))  # (index, current_sum)\n",
    "\n",
    "    while queue:\n",
    "        index, current_sum = queue.popleft()\n",
    "\n",
    "        # 종료 조건\n",
    "        if index == len(numbers):\n",
    "            if current_sum == target:\n",
    "                answer += 1\n",
    "        else:\n",
    "            # 다음 숫자를 더하거나 빼기\n",
    "            queue.append((index + 1, current_sum + numbers[index]))\n",
    "            queue.append((index + 1, current_sum - numbers[index]))\n",
    "\n",
    "    return answer\n"
   ]
  },
  {
   "cell_type": "markdown",
   "id": "04b27b1c",
   "metadata": {},
   "source": [
    "---"
   ]
  },
  {
   "cell_type": "markdown",
   "id": "a4528f37",
   "metadata": {},
   "source": [
    "## 문제 2. 게임 맵 최단거리\n",
    "ROR 게임은 두 팀으로 나누어서 진행하며, 상대 팀 진영을 먼저 파괴하면 이기는 게임입니다. 따라서, 각 팀은 상대 팀 진영에 최대한 빨리 도착하는 것이 유리합니다.\n",
    "\n",
    "위 그림에서 검은색 부분은 벽으로 막혀있어 갈 수 없는 길이며, 흰색 부분은 갈 수 있는 길입니다. 캐릭터가 움직일 때는 동, 서, 남, 북 방향으로 한 칸씩 이동하며, 게임 맵을 벗어난 길은 갈 수 없습니다.\n",
    "아래 예시는 캐릭터가 상대 팀 진영으로 가는 두 가지 방법을 나타내고 있습니다.\n",
    "\n",
    "만약, 상대 팀이 자신의 팀 진영 주위에 벽을 세워두었다면 상대 팀 진영에 도착하지 못할 수도 있습니다. 예를 들어, 다음과 같은 경우에 당신의 캐릭터는 상대 팀 진영에 도착할 수 없습니다.\n",
    "\n",
    "게임 맵의 상태 maps가 매개변수로 주어질 때, 캐릭터가 상대 팀 진영에 도착하기 위해서 지나가야 하는 칸의 개수의 최솟값을 return 하도록 solution 함수를 완성해주세요. 단, 상대 팀 진영에 도착할 수 없을 때는 -1을 return 해주세요."
   ]
  },
  {
   "cell_type": "code",
   "execution_count": 6,
   "id": "86696ade",
   "metadata": {},
   "outputs": [
    {
     "name": "stdout",
     "output_type": "stream",
     "text": [
      "11\n"
     ]
    }
   ],
   "source": [
    "from collections import deque\n",
    "\n",
    "def solution(maps):\n",
    "    n = len(maps) # 행\n",
    "    m = len(maps[0]) # 열\n",
    "\n",
    "    dx = [-1, 1, 0, 0]\n",
    "    dy = [0, 0, -1, 1]\n",
    "\n",
    "    queue = deque()\n",
    "    queue.append((0, 0, 1)) # 시작점, 거리\n",
    "\n",
    "    visited = [[False] * m for _ in range(n)]\n",
    "    visited[0][0] = True\n",
    "\n",
    "    while queue:\n",
    "        x, y, dist = queue.popleft()\n",
    "\n",
    "        if x == n-1 and y == m-1:\n",
    "            return dist\n",
    "        \n",
    "        for i in range(4):\n",
    "            nx = x + dx[i]\n",
    "            ny = y + dy[i]\n",
    "\n",
    "            if 0 <= nx < n and 0 <= ny < m:\n",
    "                if maps[nx][ny] == 1 and not visited[nx][ny]:\n",
    "                    visited[nx][ny] = True\n",
    "                    queue.append((nx, ny, dist+1))\n",
    "    \n",
    "    return -1\n",
    "\n",
    "\n",
    "maps = [[1,0,1,1,1],[1,0,1,0,1],[1,0,1,1,1],[1,1,1,0,1],[0,0,0,0,1]]\n",
    "print(solution(maps))"
   ]
  },
  {
   "cell_type": "markdown",
   "id": "356bcef4",
   "metadata": {},
   "source": [
    "---"
   ]
  },
  {
   "cell_type": "markdown",
   "id": "3223e356",
   "metadata": {},
   "source": [
    "## 문제3. 네트워크\n",
    "네트워크란 컴퓨터 상호 간에 정보를 교환할 수 있도록 연결된 형태를 의미합니다. 예를 들어, 컴퓨터 A와 컴퓨터 B가 직접적으로 연결되어있고, 컴퓨터 B와 컴퓨터 C가 직접적으로 연결되어 있을 때 컴퓨터 A와 컴퓨터 C도 간접적으로 연결되어 정보를 교환할 수 있습니다. 따라서 컴퓨터 A, B, C는 모두 같은 네트워크 상에 있다고 할 수 있습니다.\n",
    "\n",
    "컴퓨터의 개수 n, 연결에 대한 정보가 담긴 2차원 배열 computers가 매개변수로 주어질 때, 네트워크의 개수를 return 하도록 solution 함수를 작성하시오.\n",
    "\n"
   ]
  },
  {
   "cell_type": "code",
   "execution_count": null,
   "id": "ff5abf3b",
   "metadata": {},
   "outputs": [
    {
     "name": "stdout",
     "output_type": "stream",
     "text": [
      "2\n"
     ]
    }
   ],
   "source": [
    "from collections import deque\n",
    "\n",
    "def solution(n, computers):\n",
    "    \n",
    "    graph = [[] for _ in range(n)]\n",
    "    visited = [False] * n\n",
    "\n",
    "    for i, computer in enumerate(computers):\n",
    "        for j, c in enumerate(computer):\n",
    "            if i != j and computers[i][j] == 1:\n",
    "                graph[i].append(j)\n",
    "\n",
    "    network = 0\n",
    "    for i in range(n):\n",
    "        if not visited[i]:\n",
    "            queue = deque([i])\n",
    "\n",
    "            while queue:\n",
    "                v = queue.popleft()\n",
    "\n",
    "                for nxt in graph[v]:\n",
    "                    if not visited[nxt]:\n",
    "                        visited[nxt] = True\n",
    "                        queue.append(nxt)\n",
    "\n",
    "\n",
    "            network += 1\n",
    "            \n",
    "    return network\n",
    "\n",
    "n = 3\n",
    "computers = [[1, 1, 0], [1, 1, 0], [0, 0, 1]]\n",
    "print(solution(n, computers))"
   ]
  },
  {
   "cell_type": "code",
   "execution_count": 9,
   "id": "8a37b75e",
   "metadata": {},
   "outputs": [],
   "source": [
    "from collections import deque\n",
    "\n",
    "def solution(n, computers):\n",
    "    visited = [False] * n\n",
    "    network = 0\n",
    "\n",
    "    def bfs(start):\n",
    "        queue = deque([start])\n",
    "        visited[start] = True\n",
    "\n",
    "        while queue:\n",
    "            v = queue.popleft()\n",
    "            for nxt in range(n):\n",
    "                if computers[v][nxt] == 1 and not visited[nxt]:\n",
    "                    visited[nxt] = True\n",
    "                    queue.append(nxt)\n",
    "\n",
    "    for i in range(n):\n",
    "        if not visited[i]:\n",
    "            bfs(i)\n",
    "            network += 1\n",
    "\n",
    "    return network\n"
   ]
  },
  {
   "cell_type": "markdown",
   "id": "41abe146",
   "metadata": {},
   "source": [
    "---"
   ]
  },
  {
   "cell_type": "markdown",
   "id": "07293c74",
   "metadata": {},
   "source": [
    "## 문제 4. 단어 변환\n",
    "두 개의 단어 begin, target과 단어의 집합 words가 있습니다. 아래와 같은 규칙을 이용하여 begin에서 target으로 변환하는 가장 짧은 변환 과정을 찾으려고 합니다.\n",
    "\n",
    "1. 한 번에 한 개의 알파벳만 바꿀 수 있습니다.\n",
    "2. words에 있는 단어로만 변환할 수 있습니다.\n",
    "\n",
    "예를 들어 begin이 \"hit\", target가 \"cog\", words가 [\"hot\",\"dot\",\"dog\",\"lot\",\"log\",\"cog\"]라면 \"hit\" -> \"hot\" -> \"dot\" -> \"dog\" -> \"cog\"와 같이 4단계를 거쳐 변환할 수 있습니다.\n",
    "\n",
    "두 개의 단어 begin, target과 단어의 집합 words가 매개변수로 주어질 때, 최소 몇 단계의 과정을 거쳐 begin을 target으로 변환할 수 있는지 return 하도록 solution 함수를 작성해주세요."
   ]
  },
  {
   "cell_type": "code",
   "execution_count": 10,
   "id": "8e6ec7bd",
   "metadata": {},
   "outputs": [
    {
     "name": "stdout",
     "output_type": "stream",
     "text": [
      "4\n"
     ]
    }
   ],
   "source": [
    "from collections import deque\n",
    "\n",
    "def is_adjacent(a, b):\n",
    "    diff = sum(1 for x, y in zip(a, b) if x != y)\n",
    "    return diff == 1\n",
    "\n",
    "def solution(begin, target, words):\n",
    "    if target not in words:\n",
    "        return 0\n",
    "    \n",
    "    queue = deque([(begin, 0)])\n",
    "    visited = set([begin])\n",
    "\n",
    "    while queue:\n",
    "        word, cnt = queue.popleft()\n",
    "\n",
    "        if word == target:\n",
    "            return cnt\n",
    "        \n",
    "        for nxt in words:\n",
    "            if nxt not in visited and is_adjacent(word, nxt):\n",
    "                visited.add(nxt)\n",
    "                queue.append((nxt, cnt+1))\n",
    "                \n",
    "    return 0\n",
    "\n",
    "\n",
    "begin = \"hit\"\n",
    "target = \"cog\"\n",
    "words = [\"hot\", \"dot\", \"dog\", \"lot\", \"log\", \"cog\"]\n",
    "print(solution(begin, target, words))"
   ]
  },
  {
   "cell_type": "markdown",
   "id": "298a8cda",
   "metadata": {},
   "source": [
    "---"
   ]
  },
  {
   "cell_type": "markdown",
   "id": "8110aa67",
   "metadata": {},
   "source": [
    "## 문제 5. 아이템 줍기\n",
    "다각형 모양 지형에서 캐릭터가 아이템을 줍기 위해 이동하려 합니다.\n",
    "\n",
    "지형은 각 변이 x축, y축과 평행한 직사각형이 겹쳐진 형태로 표현하며, 캐릭터는 이 다각형의 둘레(굵은 선)를 따라서 이동합니다.\n",
    "\n",
    "만약 직사각형을 겹친 후 다음과 같이 중앙에 빈 공간이 생기는 경우, 다각형의 가장 바깥쪽 테두리가 캐릭터의 이동 경로가 됩니다.\n",
    "\n",
    "지형을 나타내는 직사각형이 담긴 2차원 배열 rectangle, 초기 캐릭터의 위치 characterX, characterY, 아이템의 위치 itemX, itemY가 solution 함수의 매개변수로 주어질 때, 캐릭터가 아이템을 줍기 위해 이동해야 하는 가장 짧은 거리를 return 하도록 solution 함수를 완성해주세요."
   ]
  },
  {
   "cell_type": "code",
   "execution_count": null,
   "id": "7062b602",
   "metadata": {},
   "outputs": [
    {
     "name": "stdout",
     "output_type": "stream",
     "text": [
      "17\n"
     ]
    }
   ],
   "source": [
    "from collections import deque\n",
    "\n",
    "def solution(rectangle, characterX, characterY, itemX, itemY):\n",
    "    \n",
    "    board = [[0] * 102 for _ in range(102)]\n",
    "    visited = [[False] * 102 for _ in range(102)]\n",
    "\n",
    "    for x1, y1, x2, y2 in rectangle:\n",
    "        x1, y1, x2 , y2 = 2*x1, 2*y1, 2*x2, 2*y2\n",
    "\n",
    "        for i in range(x1, x2+1):\n",
    "            for j in range(y1, y2+1):\n",
    "                board[i][j] = 1\n",
    "\n",
    "    \n",
    "    for x1, y1, x2, y2 in rectangle:\n",
    "        x1, y1, x2, y2 = 2*x1, 2*y1, 2*x2, 2*y2\n",
    "        for i in range(x1+1, x2):\n",
    "            for j in range(y1+1, y2):\n",
    "                board[i][j] = 0\n",
    "\n",
    "    queue = deque([(characterX*2, characterY*2, 0)])\n",
    "    visited[characterX*2][characterY*2] = True\n",
    "\n",
    "    dx = [-1, 1, 0, 0]\n",
    "    dy = [0, 0, -1, 1]\n",
    "\n",
    "    while queue:\n",
    "        x, y, d = queue.popleft()\n",
    "        if (x, y) == (itemX*2, itemY*2):\n",
    "            return d // 2\n",
    "        \n",
    "        for i in range(4):\n",
    "            nx = x + dx[i]\n",
    "            ny = y + dy[i]\n",
    "\n",
    "            if board[nx][ny] == 1 and not visited[nx][ny]:\n",
    "                visited[nx][ny] = True\n",
    "                queue.append((nx, ny, d+1))\n",
    "\n",
    "\n",
    "\n",
    "rectangle = [[1,1,7,4],[3,2,5,5],[4,3,6,9],[2,6,8,8]]\n",
    "characterx = 1\n",
    "charactery = 3\n",
    "itemx = 7 \n",
    "itemy = 8\n",
    "print(solution(rectangle, characterx, charactery, itemx, itemy))"
   ]
  },
  {
   "cell_type": "markdown",
   "id": "7977b69b",
   "metadata": {},
   "source": [
    "- 좌표계를 2배로 늘려서 푸는게 핵심!\n",
    "- 원래좌표로 풀경우 테두리인지 내부인지 구분이 불가함!\n",
    "- 두배로 늘려서 내부 공간을 만들어주면 해결가능"
   ]
  },
  {
   "cell_type": "markdown",
   "id": "b40ed8be",
   "metadata": {},
   "source": [
    "---"
   ]
  },
  {
   "cell_type": "markdown",
   "id": "3b6ef942",
   "metadata": {},
   "source": [
    "## 문제 6. 여행경로\n",
    "주어진 항공권을 모두 이용하여 여행경로를 짜려고 합니다. 항상 \"ICN\" 공항에서 출발합니다.\n",
    "\n",
    "항공권 정보가 담긴 2차원 배열 tickets가 매개변수로 주어질 때, 방문하는 공항 경로를 배열에 담아 return 하도록 solution 함수를 작성해주세요.\n",
    "\n",
    "제한사항\n",
    "- 모든 공항은 알파벳 대문자 3글자로 이루어집니다.\n",
    "- 주어진 공항 수는 3개 이상 10,000개 이하입니다.\n",
    "- tickets의 각 행 [a, b]는 a 공항에서 b 공항으로 가는 항공권이 있다는 의미입니다.\n",
    "- 주어진 항공권은 모두 사용해야 합니다.\n",
    "- 만일 가능한 경로가 2개 이상일 경우 알파벳 순서가 앞서는 경로를 return 합니다.\n",
    "- 모든 도시를 방문할 수 없는 경우는 주어지지 않습니다."
   ]
  },
  {
   "cell_type": "code",
   "execution_count": 8,
   "id": "86006a91",
   "metadata": {},
   "outputs": [
    {
     "name": "stdout",
     "output_type": "stream",
     "text": [
      "['ICN', 'ATL', 'ICN', 'SFO', 'ATL', 'SFO']\n"
     ]
    }
   ],
   "source": [
    "def solution(tickets):\n",
    "\n",
    "    graph = {}\n",
    "    for a, b in tickets:\n",
    "        graph.setdefault(a, []).append(b)\n",
    "\n",
    "    for k in graph:\n",
    "        graph[k].sort(reverse=True) # pop으로 꺼내기 위함\n",
    "\n",
    "    answer = []\n",
    "    stack = ['ICN']\n",
    "\n",
    "    while stack:\n",
    "        top = stack[-1]\n",
    "        if top in graph and graph[top]:\n",
    "            stack.append(graph[top].pop())\n",
    "        else:\n",
    "            answer.append(stack.pop())\n",
    "\n",
    "\n",
    "    return answer[::-1]\n",
    "\n",
    "\n",
    "# tickets = [[\"ICN\", \"JFK\"], [\"HND\", \"IAD\"], [\"JFK\", \"HND\"]]\n",
    "tickets = [[\"ICN\", \"SFO\"], [\"ICN\", \"ATL\"], [\"SFO\", \"ATL\"], [\"ATL\", \"ICN\"], [\"ATL\",\"SFO\"]]\n",
    "print(solution(tickets))"
   ]
  },
  {
   "cell_type": "code",
   "execution_count": 11,
   "id": "e2c31fae",
   "metadata": {},
   "outputs": [
    {
     "name": "stdout",
     "output_type": "stream",
     "text": [
      "['ICN', 'ATL', 'ICN', 'SFO', 'ATL', 'SFO']\n"
     ]
    }
   ],
   "source": [
    "def dfs(graph, airport, route):\n",
    "    while graph.get(airport):\n",
    "        nxt_airport = graph[airport].pop(0)\n",
    "        dfs(graph, nxt_airport, route)\n",
    "    \n",
    "    route.append(airport)\n",
    "    \n",
    "    \n",
    "def solution(tickets):\n",
    "    graph = {}\n",
    "    for a, b in tickets:\n",
    "        graph.setdefault(a, []).append(b)\n",
    "\n",
    "    for key in graph.keys():\n",
    "        graph[key].sort()\n",
    "\n",
    "    route = []\n",
    "    dfs(graph, \"ICN\", route)\n",
    "\n",
    "    return route[::-1]\n",
    "\n",
    "tickets = [[\"ICN\", \"SFO\"], [\"ICN\", \"ATL\"], [\"SFO\", \"ATL\"], [\"ATL\", \"ICN\"], [\"ATL\",\"SFO\"]]\n",
    "print(solution(tickets))"
   ]
  },
  {
   "cell_type": "markdown",
   "id": "b477d87c",
   "metadata": {},
   "source": [
    "---"
   ]
  },
  {
   "cell_type": "markdown",
   "id": "efc6b85a",
   "metadata": {},
   "source": [
    "## 문제 7. 퍼즐 조각채우기\n",
    "\n",
    "테이블 위에 놓인 퍼즐 조각을 게임 보드의 빈 공간에 적절히 올려놓으려 합니다. 게임 보드와 테이블은 모두 각 칸이 1x1 크기인 정사각 격자 모양입니다. 이때, 다음 규칙에 따라 테이블 위에 놓인 퍼즐 조각을 게임 보드의 빈칸에 채우면 됩니다.\n",
    "\n",
    "- 조각은 한 번에 하나씩 채워 넣습니다.\n",
    "- 조각을 회전시킬 수 있습니다.\n",
    "- 조각을 뒤집을 수는 없습니다.\n",
    "- 게임 보드에 새로 채워 넣은 퍼즐 조각과 인접한 칸이 비어있으면 안 됩니다."
   ]
  },
  {
   "cell_type": "markdown",
   "id": "d197f452",
   "metadata": {},
   "source": [
    "#### gpt 도움\n",
    "[핵심 아이디어]\n",
    "- game_board 에서 빈칸 덩어리들을 bfs/dfs 로 추출\n",
    "- table에서 퍼즐 조각 덩어리들을 bfs/dfs 로 추출\n",
    "- 각 덩어리를 좌표 리스트로 저장하고, 좌표를 (0,0) 기준으로 정규화\n",
    "- 퍼즐 조각을 0, 90, 180, 270 도 회전하며 빈칸과 맞는지 비교\n",
    "- 맞는 퍼즐이 있으며 채워넣고, 그 퍼즐은 사용 완료 처리"
   ]
  },
  {
   "cell_type": "code",
   "execution_count": 13,
   "id": "983cc3b0",
   "metadata": {},
   "outputs": [
    {
     "name": "stdout",
     "output_type": "stream",
     "text": [
      "14\n"
     ]
    }
   ],
   "source": [
    "from collections import deque\n",
    "\n",
    "# 덩어리 추출 함수\n",
    "def bfs(x, y, visited, board, target, n):\n",
    "    dx = [-1, 1, 0, 0]\n",
    "    dy = [0, 0, -1, 1]    \n",
    "\n",
    "    q = deque([(x, y)])\n",
    "    visited[x][y] = True\n",
    "    shape = [(x, y)]\n",
    "\n",
    "    while q:\n",
    "        cx, cy = q.popleft()\n",
    "        for i in range(4):\n",
    "            nx, ny = cx + dx[i], cy + dy[i]\n",
    "            if 0 <= nx < n and 0 <= ny < n and not visited[nx][ny]:\n",
    "                if board[nx][ny] == target:\n",
    "                    visited[nx][ny] = True\n",
    "                    q.append((nx, ny))\n",
    "                    shape.append((nx, ny))\n",
    "    \n",
    "    return shape\n",
    "\n",
    "# 좌표를 (0,0) 기준으로 맞추기\n",
    "def normalize(shape):\n",
    "    min_x = min(x for x, y in shape)\n",
    "    min_y = min(y for x, y in shape)\n",
    "    normalized = sorted([(x - min_x, y - min_y) for x, y in shape])\n",
    "\n",
    "    return normalized\n",
    "\n",
    "# 90도 회전\n",
    "def rotate(shape):\n",
    "    rotated = [(y, -x) for x, y in shape]\n",
    "\n",
    "    return normalize(rotated)     \n",
    "\n",
    "\n",
    "def solution(game_board, table):\n",
    "    n = len(game_board)\n",
    "\n",
    "    # game board에서 빈칸 추출\n",
    "    visited = [[False] * n for _ in range(n)]\n",
    "    empty_spaces = []\n",
    "    for i in range(n):\n",
    "        for j in range(n):\n",
    "            if not visited[i][j] and game_board[i][j] == 0:\n",
    "                empty_spaces.append(normalize(bfs(i, j, visited, game_board, 0, n)))\n",
    "\n",
    "    # table에서 퍼즐 조각 추출\n",
    "    visited = [[False]*n for _ in range(n)]\n",
    "    puzzles = []\n",
    "    for i in range(n):\n",
    "        for j in range(n):\n",
    "            if not visited[i][j] and table[i][j] == 1:\n",
    "                puzzles.append(normalize(bfs(i, j, visited, table, 1, n)))    \n",
    "\n",
    "    # 퍼즐 조각과 빈칸 매칭\n",
    "    used = [False] * len(puzzles)\n",
    "    answer = 0\n",
    "\n",
    "    for empty in empty_spaces:\n",
    "        for i, puzzle in enumerate(puzzles):\n",
    "            if used[i]:\n",
    "                continue\n",
    "\n",
    "            for _ in range(4):  # 0°, 90°, 180°, 270° 회전\n",
    "                if empty == puzzle:\n",
    "                    used[i] = True\n",
    "                    answer += len(empty)\n",
    "                    break\n",
    "                puzzle = rotate(puzzle)\n",
    "\n",
    "            if used[i]:\n",
    "                break\n",
    "\n",
    "    return answer    \n",
    "\n",
    "\n",
    "\n",
    "game_board = [[1,1,0,0,1,0],[0,0,1,0,1,0],[0,1,1,0,0,1],[1,1,0,1,1,1],[1,0,0,0,1,0],[0,1,1,1,0,0]]\n",
    "table = [[1,0,0,1,1,0],[1,0,1,0,1,0],[0,1,1,0,1,1],[0,0,1,0,0,0],[1,1,0,1,1,0],[0,1,0,0,0,0]]\n",
    "print(solution(game_board, table))"
   ]
  }
 ],
 "metadata": {
  "kernelspec": {
   "display_name": "algorithm",
   "language": "python",
   "name": "python3"
  },
  "language_info": {
   "codemirror_mode": {
    "name": "ipython",
    "version": 3
   },
   "file_extension": ".py",
   "mimetype": "text/x-python",
   "name": "python",
   "nbconvert_exporter": "python",
   "pygments_lexer": "ipython3",
   "version": "3.13.1"
  }
 },
 "nbformat": 4,
 "nbformat_minor": 5
}
