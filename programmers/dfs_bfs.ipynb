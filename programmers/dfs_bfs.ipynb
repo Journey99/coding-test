{
 "cells": [
  {
   "cell_type": "markdown",
   "id": "6c20beab",
   "metadata": {},
   "source": [
    "# DFS & BFS\n",
    "\n",
    "## DFS ; 깊이 우선 탐색\n",
    "- root node부터 시작하여 가장 깊은 곳까지 탐색한 후 돌아서 모든 정점을 방문\n",
    "- 스택 또는 재귀로 구현\n",
    "- 경로가 깊으면 스택 오버플로우 위험"
   ]
  },
  {
   "cell_type": "code",
   "execution_count": 1,
   "id": "d08b26b5",
   "metadata": {},
   "outputs": [],
   "source": [
    "def dfs(graph, v, visited):\n",
    "    visited[v] = True\n",
    "\n",
    "    for nxt in graph[v]:\n",
    "        if not visited[nxt]:\n",
    "            dfs(graph, nxt, visited)"
   ]
  },
  {
   "cell_type": "markdown",
   "id": "8fc3d119",
   "metadata": {},
   "source": [
    "## BFS ; 너비 우선 탐색\n",
    "- root node 부터 출발하여 root로부터 인접한 node들부터 탐색하고, 점점 탐색 범위를 넓혀나감\n",
    "- 큐로 구현\n",
    "- 최단 거리 탐색에 적합"
   ]
  },
  {
   "cell_type": "code",
   "execution_count": 2,
   "id": "98bce759",
   "metadata": {},
   "outputs": [],
   "source": [
    "from collections import deque\n",
    "\n",
    "def bfs(graph, v, visited):\n",
    "    visited[v] = True\n",
    "    queue = deque([v])\n",
    "\n",
    "    while queue:\n",
    "        node = queue.popleft()\n",
    "\n",
    "        for nxt in graph[node]:\n",
    "            if not visited[nxt]:\n",
    "                queue.append(nxt)\n",
    "                visited[nxt] = True"
   ]
  },
  {
   "cell_type": "markdown",
   "id": "9f55f31b",
   "metadata": {},
   "source": [
    "---"
   ]
  },
  {
   "cell_type": "markdown",
   "id": "f99bbeb4",
   "metadata": {},
   "source": [
    "## 문제 1. 타켓 넘버\n",
    "n개의 음이 아닌 정수들이 있습니다. 이 정수들을 순서를 바꾸지 않고 적절히 더하거나 빼서 타겟 넘버를 만들려고 합니다. 예를 들어 [1,1,1,1,1]로 숫자 3을 만들려면 다음 다섯 방법을 쓸 수 있습니다.\n",
    "-1+1+1+1+1 = 3\n",
    "+1-1+1+1+1 = 3\n",
    "+1+1-1+1+1 = 3\n",
    "+1+1+1-1+1 = 3\n",
    "+1+1+1+1-1 = 3\n",
    "\n",
    "사용할 수 있는 숫자가 담긴 배열 numbers, 타겟 넘버 target이 매개변수로 주어질 때 숫자를 적절히 더하고 빼서 타겟 넘버를 만드는 방법의 수를 return 하도록 solution 함수를 작성해주세요."
   ]
  },
  {
   "cell_type": "code",
   "execution_count": 3,
   "id": "fd841bc1",
   "metadata": {},
   "outputs": [
    {
     "name": "stdout",
     "output_type": "stream",
     "text": [
      "5\n"
     ]
    }
   ],
   "source": [
    "def solution(numbers, target):\n",
    "    answer = 0\n",
    "\n",
    "    def dfs(idx, current_sum):\n",
    "        nonlocal answer\n",
    "        if idx == len(numbers):\n",
    "            if current_sum == target:\n",
    "                answer += 1\n",
    "            return\n",
    "\n",
    "        dfs(idx + 1, current_sum + numbers[idx])\n",
    "        dfs(idx + 1, current_sum - numbers[idx])\n",
    "\n",
    "    dfs(0,0)\n",
    "    return answer\n",
    "\n",
    "numbers = [1,1,1,1,1]\n",
    "target = 3\n",
    "print(solution(numbers, target))"
   ]
  },
  {
   "cell_type": "code",
   "execution_count": 4,
   "id": "3e3ec07f",
   "metadata": {},
   "outputs": [],
   "source": [
    "from collections import deque\n",
    "\n",
    "def solution(numbers, target):\n",
    "    answer = 0\n",
    "    queue = deque()\n",
    "    queue.append((0, 0))  # (index, current_sum)\n",
    "\n",
    "    while queue:\n",
    "        index, current_sum = queue.popleft()\n",
    "\n",
    "        # 종료 조건\n",
    "        if index == len(numbers):\n",
    "            if current_sum == target:\n",
    "                answer += 1\n",
    "        else:\n",
    "            # 다음 숫자를 더하거나 빼기\n",
    "            queue.append((index + 1, current_sum + numbers[index]))\n",
    "            queue.append((index + 1, current_sum - numbers[index]))\n",
    "\n",
    "    return answer\n"
   ]
  },
  {
   "cell_type": "markdown",
   "id": "04b27b1c",
   "metadata": {},
   "source": [
    "---"
   ]
  },
  {
   "cell_type": "markdown",
   "id": "a4528f37",
   "metadata": {},
   "source": [
    "## 문제 2. 게임 맵 최단거리\n",
    "ROR 게임은 두 팀으로 나누어서 진행하며, 상대 팀 진영을 먼저 파괴하면 이기는 게임입니다. 따라서, 각 팀은 상대 팀 진영에 최대한 빨리 도착하는 것이 유리합니다.\n",
    "\n",
    "위 그림에서 검은색 부분은 벽으로 막혀있어 갈 수 없는 길이며, 흰색 부분은 갈 수 있는 길입니다. 캐릭터가 움직일 때는 동, 서, 남, 북 방향으로 한 칸씩 이동하며, 게임 맵을 벗어난 길은 갈 수 없습니다.\n",
    "아래 예시는 캐릭터가 상대 팀 진영으로 가는 두 가지 방법을 나타내고 있습니다.\n",
    "\n",
    "만약, 상대 팀이 자신의 팀 진영 주위에 벽을 세워두었다면 상대 팀 진영에 도착하지 못할 수도 있습니다. 예를 들어, 다음과 같은 경우에 당신의 캐릭터는 상대 팀 진영에 도착할 수 없습니다.\n",
    "\n",
    "게임 맵의 상태 maps가 매개변수로 주어질 때, 캐릭터가 상대 팀 진영에 도착하기 위해서 지나가야 하는 칸의 개수의 최솟값을 return 하도록 solution 함수를 완성해주세요. 단, 상대 팀 진영에 도착할 수 없을 때는 -1을 return 해주세요."
   ]
  },
  {
   "cell_type": "code",
   "execution_count": 6,
   "id": "86696ade",
   "metadata": {},
   "outputs": [
    {
     "name": "stdout",
     "output_type": "stream",
     "text": [
      "11\n"
     ]
    }
   ],
   "source": [
    "from collections import deque\n",
    "\n",
    "def solution(maps):\n",
    "    n = len(maps) # 행\n",
    "    m = len(maps[0]) # 열\n",
    "\n",
    "    dx = [-1, 1, 0, 0]\n",
    "    dy = [0, 0, -1, 1]\n",
    "\n",
    "    queue = deque()\n",
    "    queue.append((0, 0, 1)) # 시작점, 거리\n",
    "\n",
    "    visited = [[False] * m for _ in range(n)]\n",
    "    visited[0][0] = True\n",
    "\n",
    "    while queue:\n",
    "        x, y, dist = queue.popleft()\n",
    "\n",
    "        if x == n-1 and y == m-1:\n",
    "            return dist\n",
    "        \n",
    "        for i in range(4):\n",
    "            nx = x + dx[i]\n",
    "            ny = y + dy[i]\n",
    "\n",
    "            if 0 <= nx < n and 0 <= ny < m:\n",
    "                if maps[nx][ny] == 1 and not visited[nx][ny]:\n",
    "                    visited[nx][ny] = True\n",
    "                    queue.append((nx, ny, dist+1))\n",
    "    \n",
    "    return -1\n",
    "\n",
    "\n",
    "maps = [[1,0,1,1,1],[1,0,1,0,1],[1,0,1,1,1],[1,1,1,0,1],[0,0,0,0,1]]\n",
    "print(solution(maps))"
   ]
  },
  {
   "cell_type": "code",
   "execution_count": null,
   "id": "356bcef4",
   "metadata": {},
   "outputs": [],
   "source": []
  }
 ],
 "metadata": {
  "kernelspec": {
   "display_name": "algorithm",
   "language": "python",
   "name": "python3"
  },
  "language_info": {
   "codemirror_mode": {
    "name": "ipython",
    "version": 3
   },
   "file_extension": ".py",
   "mimetype": "text/x-python",
   "name": "python",
   "nbconvert_exporter": "python",
   "pygments_lexer": "ipython3",
   "version": "3.13.1"
  }
 },
 "nbformat": 4,
 "nbformat_minor": 5
}
