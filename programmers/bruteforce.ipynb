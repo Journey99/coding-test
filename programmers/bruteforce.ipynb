{
 "cells": [
  {
   "cell_type": "markdown",
   "id": "998d8eb6",
   "metadata": {},
   "source": [
    "# 완전 탐색 (브루트포스)\n",
    "\n",
    "1. 정의\n",
    "- 가능한 모든 경우를 다 시도해서 문제를 해결하는 방법\n",
    "- 별다른 최적화 없이 무식하게 탐색\n",
    "\n",
    "2. 특징\n",
    "\n",
    "| 특징     | 설명                               |\n",
    "| ------ | -------------------------------- |\n",
    "| 시간 복잡도 | 보통 **O(경우의 수)** → 데이터가 많으면 매우 느림 |\n",
    "| 구현 난이도 | 쉬움, 직관적                          |\n",
    "| 장점     | 항상 답을 찾을 수 있음 (완전 탐색이므로 정확함)     |\n",
    "| 단점     | 데이터가 많으면 비효율적                    |\n",
    "| 적용 가능  | 모든 경우를 세어야 할 때, 작은 입력 범위 문제      |\n",
    "\n",
    "3. 완전탐색 문제 유형\n",
    "- 배열, 문자열, 순열, 조합\n",
    "- 모든 경우의 수를 고려해야 할 때\n",
    "\n",
    "4. 고려할 점\n",
    "- 입력 범위 확인 : n이 커지면 경우의 수가 급증\n",
    "- 경우의 수를 줄일 수 있는 가지치기 생각\n",
    "- 구현은 직관적이지만 효율성 필요시 다른 알고리즘과 결합"
   ]
  },
  {
   "cell_type": "markdown",
   "id": "cc8bcacb",
   "metadata": {},
   "source": [
    "---"
   ]
  },
  {
   "cell_type": "markdown",
   "id": "19073140",
   "metadata": {},
   "source": [
    "## 문제1. 최소직사각형\n",
    "명함 지갑을 만드는 회사에서 지갑의 크기를 정하려고 합니다. 다양한 모양과 크기의 명함들을 모두 수납할 수 있으면서, 작아서 들고 다니기 편한 지갑을 만들어야 합니다. 이러한 요건을 만족하는 지갑을 만들기 위해 디자인팀은 모든 명함의 가로 길이와 세로 길이를 조사했습니다.\n",
    "\n",
    "가로길이, 세로길이 = (60, 50), (30, 70), (60, 30), (80, 40)\n",
    "\n",
    "가장 긴 가로 길이와 세로 길이가 각각 80, 70이기 때문에 80(가로) x 70(세로) 크기의 지갑을 만들면 모든 명함들을 수납할 수 있습니다. 하지만 2번 명함을 가로로 눕혀 수납한다면 80(가로) x 50(세로) 크기의 지갑으로 모든 명함들을 수납할 수 있습니다. 이때의 지갑 크기는 4000(=80 x 50)입니다.\n",
    "\n",
    "모든 명함의 가로 길이와 세로 길이를 나타내는 2차원 배열 sizes가 매개변수로 주어집니다. 모든 명함을 수납할 수 있는 가장 작은 지갑을 만들 때, 지갑의 크기를 return 하도록 solution 함수를 완성해주세요.\n",
    "\n"
   ]
  },
  {
   "cell_type": "code",
   "execution_count": null,
   "id": "220b139d",
   "metadata": {},
   "outputs": [
    {
     "name": "stdout",
     "output_type": "stream",
     "text": [
      "4000\n"
     ]
    }
   ],
   "source": [
    "def solution(sizes):\n",
    "    answer = 0\n",
    "\n",
    "    w, h = [], []\n",
    "    for size in sizes:\n",
    "        size.sort()\n",
    "        w.append(size[0])\n",
    "        h.append(size[1])\n",
    "    \n",
    "    answer = max(w) * max(h)\n",
    "\n",
    "    return answer\n",
    "\n",
    "def solution2(sizes):\n",
    "    return max(max(x) for x in sizes) * max(min(x) for x in sizes)\n",
    "\n",
    "\n",
    "sizes = [[60, 50], [30, 70], [60, 30], [80, 40]]\n",
    "# sizes = [[10, 7], [12, 3], [8, 15], [14, 7], [5, 15]]\n",
    "# sizes = [[14, 4], [19, 6], [6, 16], [18, 7], [7, 11]]\n",
    "print(solution(sizes))"
   ]
  },
  {
   "cell_type": "markdown",
   "id": "7006a6eb",
   "metadata": {},
   "source": [
    "---"
   ]
  },
  {
   "cell_type": "markdown",
   "id": "368c941b",
   "metadata": {},
   "source": [
    "## 문제2. 모의고사\n",
    "수포자는 수학을 포기한 사람의 준말입니다. 수포자 삼인방은 모의고사에 수학 문제를 전부 찍으려 합니다. 수포자는 1번 문제부터 마지막 문제까지 다음과 같이 찍습니다.\n",
    "\n",
    "1번 수포자가 찍는 방식: 1, 2, 3, 4, 5, 1, 2, 3, 4, 5, ...\n",
    "2번 수포자가 찍는 방식: 2, 1, 2, 3, 2, 4, 2, 5, 2, 1, 2, 3, 2, 4, 2, 5, ...\n",
    "3번 수포자가 찍는 방식: 3, 3, 1, 1, 2, 2, 4, 4, 5, 5, 3, 3, 1, 1, 2, 2, 4, 4, 5, 5, ...\n",
    "\n",
    "1번 문제부터 마지막 문제까지의 정답이 순서대로 들은 배열 answers가 주어졌을 때, 가장 많은 문제를 맞힌 사람이 누구인지 배열에 담아 return 하도록 solution 함수를 작성해주세요."
   ]
  },
  {
   "cell_type": "code",
   "execution_count": null,
   "id": "dd3ee60e",
   "metadata": {},
   "outputs": [
    {
     "name": "stdout",
     "output_type": "stream",
     "text": [
      "[2, 2, 2]\n",
      "2\n",
      "None\n"
     ]
    }
   ],
   "source": [
    "def solution(answers):\n",
    "    patterns = [[1, 2, 3, 4, 5],\n",
    "        [2, 1, 2, 3, 2, 4, 2, 5],\n",
    "        [3, 3, 1, 1, 2, 2, 4, 4, 5, 5]]\n",
    "    \n",
    "    score = [0] * len(patterns)\n",
    "\n",
    "    for i, ans in enumerate(answers):\n",
    "        for j, pattern in enumerate(patterns):\n",
    "            if ans == pattern[i % len(pattern)]:\n",
    "                score[j] += 1\n",
    "    \n",
    "    max_score = max(score)\n",
    "    result = []\n",
    "\n",
    "    for idx, s in enumerate(score):\n",
    "        if s == max_score:\n",
    "            result.append(idx+1)\n",
    "\n",
    "    return result\n",
    "\n",
    "\n",
    "def solution_v2(answers):\n",
    "    pattern1 = [1,2,3,4,5]\n",
    "    pattern2 = [2,1,2,3,2,4,2,5]\n",
    "    pattern3 = [3,3,1,1,2,2,4,4,5,5]\n",
    "    score = [0, 0, 0]\n",
    "    result = []\n",
    "\n",
    "    for idx, answer in enumerate(answers):\n",
    "        if answer == pattern1[idx%len(pattern1)]:\n",
    "            score[0] += 1\n",
    "        if answer == pattern2[idx%len(pattern2)]:\n",
    "            score[1] += 1\n",
    "        if answer == pattern3[idx%len(pattern3)]:\n",
    "            score[2] += 1\n",
    "\n",
    "    for idx, s in enumerate(score):\n",
    "        if s == max(score):\n",
    "            result.append(idx+1)\n",
    "\n",
    "    return result\n",
    "\n",
    "\n",
    "# answers = [1,2,3,4,5]\n",
    "answers = [1,3,2,4,2]\n",
    "print(solution(answers))"
   ]
  },
  {
   "cell_type": "markdown",
   "id": "462ed604",
   "metadata": {},
   "source": [
    "---"
   ]
  },
  {
   "cell_type": "markdown",
   "id": "044af376",
   "metadata": {},
   "source": [
    "## 문제3. 소수 찾기\n",
    "한자리 숫자가 적힌 종이 조각이 흩어져있습니다. 흩어진 종이 조각을 붙여 소수를 몇 개 만들 수 있는지 알아내려 합니다.\n",
    "각 종이 조각에 적힌 숫자가 적힌 문자열 numbers가 주어졌을 때, 종이 조각으로 만들 수 있는 소수가 몇개인지 Return 하도록 solution 함수를 완성해주세요."
   ]
  },
  {
   "cell_type": "code",
   "execution_count": null,
   "id": "7cbd21c8",
   "metadata": {},
   "outputs": [
    {
     "name": "stdout",
     "output_type": "stream",
     "text": [
      "3\n"
     ]
    }
   ],
   "source": [
    "from itertools import permutations\n",
    "def is_prime(num):\n",
    "\n",
    "    if num <= 1:\n",
    "        return False\n",
    "    \n",
    "    if num == 2:\n",
    "        return True\n",
    "    \n",
    "    if num % 2 == 0:\n",
    "        return False\n",
    "    \n",
    "    for i in range(3, int(num**(0.5))+1, 2):\n",
    "        if num % i == 0:\n",
    "            return False\n",
    "    \n",
    "    return True\n",
    "        \n",
    "\n",
    "def solution(numbers):\n",
    "\n",
    "    numbers = list(numbers)\n",
    "    result = set()\n",
    "  \n",
    "    for i in range(1, len(numbers) + 1):\n",
    "        for p in permutations(numbers, i):\n",
    "            num = int(''.join(p))\n",
    "            if is_prime(num):\n",
    "                result.add(num)\n",
    "\n",
    "\n",
    "    return len(result)\n",
    "\n",
    "\n",
    "numbers = \"17\"\n",
    "# numbers = \"011\"\n",
    "print(solution(numbers))\n"
   ]
  },
  {
   "cell_type": "markdown",
   "id": "5863322d",
   "metadata": {},
   "source": [
    "---"
   ]
  },
  {
   "cell_type": "markdown",
   "id": "b33290c6",
   "metadata": {},
   "source": [
    "## 문제4. 카펫\n",
    "Leo는 집으로 돌아와서 아까 본 카펫의 노란색과 갈색으로 색칠된 격자의 개수는 기억했지만, 전체 카펫의 크기는 기억하지 못했습니다.\n",
    "\n",
    "Leo가 본 카펫에서 갈색 격자의 수 brown, 노란색 격자의 수 yellow가 매개변수로 주어질 때 카펫의 가로, 세로 크기를 순서대로 배열에 담아 return 하도록 solution 함수를 작성해주세요."
   ]
  },
  {
   "cell_type": "code",
   "execution_count": 24,
   "id": "4cc76e41",
   "metadata": {},
   "outputs": [
    {
     "name": "stdout",
     "output_type": "stream",
     "text": [
      "[3, 3]\n"
     ]
    }
   ],
   "source": [
    "def solution(brown, yellow):\n",
    "\n",
    "    total = brown + yellow\n",
    "\n",
    "    for height in range(3, int(total**0.5) + 1):\n",
    "        if total % height == 0:\n",
    "            width = total // height\n",
    "            if (width - 2) * (height -2) == yellow:\n",
    "                return [width, height]    \n",
    "\n",
    "# brown = 10\n",
    "# yellow = 2\n",
    "\n",
    "brown = 8\n",
    "yellow = 1\n",
    "\n",
    "# brown = 24\n",
    "# yellow = 24\n",
    "\n",
    "print(solution(brown, yellow))"
   ]
  },
  {
   "cell_type": "code",
   "execution_count": null,
   "id": "133571e5",
   "metadata": {},
   "outputs": [],
   "source": []
  }
 ],
 "metadata": {
  "kernelspec": {
   "display_name": "algorithm",
   "language": "python",
   "name": "python3"
  },
  "language_info": {
   "codemirror_mode": {
    "name": "ipython",
    "version": 3
   },
   "file_extension": ".py",
   "mimetype": "text/x-python",
   "name": "python",
   "nbconvert_exporter": "python",
   "pygments_lexer": "ipython3",
   "version": "3.13.1"
  }
 },
 "nbformat": 4,
 "nbformat_minor": 5
}
