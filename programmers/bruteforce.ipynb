{
 "cells": [
  {
   "cell_type": "markdown",
   "id": "998d8eb6",
   "metadata": {},
   "source": [
    "# 완전 탐색 (브루트포스)\n",
    "\n",
    "1. 정의\n",
    "- 가능한 모든 경우를 다 시도해서 문제를 해결하는 방법\n",
    "- 별다른 최적화 없이 무식하게 탐색\n",
    "\n",
    "2. 특징\n",
    "\n",
    "| 특징     | 설명                               |\n",
    "| ------ | -------------------------------- |\n",
    "| 시간 복잡도 | 보통 **O(경우의 수)** → 데이터가 많으면 매우 느림 |\n",
    "| 구현 난이도 | 쉬움, 직관적                          |\n",
    "| 장점     | 항상 답을 찾을 수 있음 (완전 탐색이므로 정확함)     |\n",
    "| 단점     | 데이터가 많으면 비효율적                    |\n",
    "| 적용 가능  | 모든 경우를 세어야 할 때, 작은 입력 범위 문제      |\n",
    "\n",
    "3. 완전탐색 문제 유형\n",
    "- 배열, 문자열, 순열, 조합\n",
    "- 모든 경우의 수를 고려해야 할 때\n",
    "\n",
    "4. 고려할 점\n",
    "- 입력 범위 확인 : n이 커지면 경우의 수가 급증\n",
    "- 경우의 수를 줄일 수 있는 가지치기 생각\n",
    "- 구현은 직관적이지만 효율성 필요시 다른 알고리즘과 결합"
   ]
  },
  {
   "cell_type": "markdown",
   "id": "cc8bcacb",
   "metadata": {},
   "source": [
    "---"
   ]
  },
  {
   "cell_type": "markdown",
   "id": "19073140",
   "metadata": {},
   "source": [
    "## 문제1. 최소직사각형\n",
    "명함 지갑을 만드는 회사에서 지갑의 크기를 정하려고 합니다. 다양한 모양과 크기의 명함들을 모두 수납할 수 있으면서, 작아서 들고 다니기 편한 지갑을 만들어야 합니다. 이러한 요건을 만족하는 지갑을 만들기 위해 디자인팀은 모든 명함의 가로 길이와 세로 길이를 조사했습니다.\n",
    "\n",
    "가로길이, 세로길이 = (60, 50), (30, 70), (60, 30), (80, 40)\n",
    "\n",
    "가장 긴 가로 길이와 세로 길이가 각각 80, 70이기 때문에 80(가로) x 70(세로) 크기의 지갑을 만들면 모든 명함들을 수납할 수 있습니다. 하지만 2번 명함을 가로로 눕혀 수납한다면 80(가로) x 50(세로) 크기의 지갑으로 모든 명함들을 수납할 수 있습니다. 이때의 지갑 크기는 4000(=80 x 50)입니다.\n",
    "\n",
    "모든 명함의 가로 길이와 세로 길이를 나타내는 2차원 배열 sizes가 매개변수로 주어집니다. 모든 명함을 수납할 수 있는 가장 작은 지갑을 만들 때, 지갑의 크기를 return 하도록 solution 함수를 완성해주세요.\n",
    "\n"
   ]
  },
  {
   "cell_type": "code",
   "execution_count": null,
   "id": "220b139d",
   "metadata": {},
   "outputs": [
    {
     "name": "stdout",
     "output_type": "stream",
     "text": [
      "4000\n"
     ]
    }
   ],
   "source": [
    "def solution(sizes):\n",
    "    answer = 0\n",
    "\n",
    "    w, h = [], []\n",
    "    for size in sizes:\n",
    "        size.sort()\n",
    "        w.append(size[0])\n",
    "        h.append(size[1])\n",
    "    \n",
    "    answer = max(w) * max(h)\n",
    "\n",
    "    return answer\n",
    "\n",
    "def solution2(sizes):\n",
    "    return max(max(x) for x in sizes) * max(min(x) for x in sizes)\n",
    "\n",
    "\n",
    "sizes = [[60, 50], [30, 70], [60, 30], [80, 40]]\n",
    "# sizes = [[10, 7], [12, 3], [8, 15], [14, 7], [5, 15]]\n",
    "# sizes = [[14, 4], [19, 6], [6, 16], [18, 7], [7, 11]]\n",
    "print(solution(sizes))"
   ]
  },
  {
   "cell_type": "markdown",
   "id": "7006a6eb",
   "metadata": {},
   "source": [
    "---"
   ]
  },
  {
   "cell_type": "markdown",
   "id": "368c941b",
   "metadata": {},
   "source": [
    "## 문제2. 모의고사\n",
    "수포자는 수학을 포기한 사람의 준말입니다. 수포자 삼인방은 모의고사에 수학 문제를 전부 찍으려 합니다. 수포자는 1번 문제부터 마지막 문제까지 다음과 같이 찍습니다.\n",
    "\n",
    "1번 수포자가 찍는 방식: 1, 2, 3, 4, 5, 1, 2, 3, 4, 5, ...\n",
    "2번 수포자가 찍는 방식: 2, 1, 2, 3, 2, 4, 2, 5, 2, 1, 2, 3, 2, 4, 2, 5, ...\n",
    "3번 수포자가 찍는 방식: 3, 3, 1, 1, 2, 2, 4, 4, 5, 5, 3, 3, 1, 1, 2, 2, 4, 4, 5, 5, ...\n",
    "\n",
    "1번 문제부터 마지막 문제까지의 정답이 순서대로 들은 배열 answers가 주어졌을 때, 가장 많은 문제를 맞힌 사람이 누구인지 배열에 담아 return 하도록 solution 함수를 작성해주세요."
   ]
  },
  {
   "cell_type": "code",
   "execution_count": null,
   "id": "dd3ee60e",
   "metadata": {},
   "outputs": [
    {
     "name": "stdout",
     "output_type": "stream",
     "text": [
      "[2, 2, 2]\n",
      "2\n",
      "None\n"
     ]
    }
   ],
   "source": [
    "def solution(answers):\n",
    "    patterns = [[1, 2, 3, 4, 5],\n",
    "        [2, 1, 2, 3, 2, 4, 2, 5],\n",
    "        [3, 3, 1, 1, 2, 2, 4, 4, 5, 5]]\n",
    "    \n",
    "    score = [0] * len(patterns)\n",
    "\n",
    "    for i, ans in enumerate(answers):\n",
    "        for j, pattern in enumerate(patterns):\n",
    "            if ans == pattern[i % len(pattern)]:\n",
    "                score[j] += 1\n",
    "    \n",
    "    max_score = max(score)\n",
    "    result = []\n",
    "\n",
    "    for idx, s in enumerate(score):\n",
    "        if s == max_score:\n",
    "            result.append(idx+1)\n",
    "\n",
    "    return result\n",
    "\n",
    "\n",
    "def solution_v2(answers):\n",
    "    pattern1 = [1,2,3,4,5]\n",
    "    pattern2 = [2,1,2,3,2,4,2,5]\n",
    "    pattern3 = [3,3,1,1,2,2,4,4,5,5]\n",
    "    score = [0, 0, 0]\n",
    "    result = []\n",
    "\n",
    "    for idx, answer in enumerate(answers):\n",
    "        if answer == pattern1[idx%len(pattern1)]:\n",
    "            score[0] += 1\n",
    "        if answer == pattern2[idx%len(pattern2)]:\n",
    "            score[1] += 1\n",
    "        if answer == pattern3[idx%len(pattern3)]:\n",
    "            score[2] += 1\n",
    "\n",
    "    for idx, s in enumerate(score):\n",
    "        if s == max(score):\n",
    "            result.append(idx+1)\n",
    "\n",
    "    return result\n",
    "\n",
    "\n",
    "# answers = [1,2,3,4,5]\n",
    "answers = [1,3,2,4,2]\n",
    "print(solution(answers))"
   ]
  },
  {
   "cell_type": "markdown",
   "id": "462ed604",
   "metadata": {},
   "source": [
    "---"
   ]
  },
  {
   "cell_type": "markdown",
   "id": "044af376",
   "metadata": {},
   "source": [
    "## 문제3. 소수 찾기\n",
    "한자리 숫자가 적힌 종이 조각이 흩어져있습니다. 흩어진 종이 조각을 붙여 소수를 몇 개 만들 수 있는지 알아내려 합니다.\n",
    "각 종이 조각에 적힌 숫자가 적힌 문자열 numbers가 주어졌을 때, 종이 조각으로 만들 수 있는 소수가 몇개인지 Return 하도록 solution 함수를 완성해주세요."
   ]
  },
  {
   "cell_type": "code",
   "execution_count": 21,
   "id": "7cbd21c8",
   "metadata": {},
   "outputs": [
    {
     "name": "stdout",
     "output_type": "stream",
     "text": [
      "3\n"
     ]
    }
   ],
   "source": [
    "from itertools import permutations\n",
    "def is_prime(num):\n",
    "\n",
    "    if num <= 1:\n",
    "        return False\n",
    "    \n",
    "    if num == 2:\n",
    "        return True\n",
    "    \n",
    "    if num % 2 == 0:\n",
    "        return False\n",
    "    \n",
    "    for i in range(3, int(num**(0.5))+1, 2):\n",
    "        if num % i == 0:\n",
    "            return False\n",
    "    \n",
    "    return True\n",
    "        \n",
    "\n",
    "def solution(numbers):\n",
    "\n",
    "    numbers = list(numbers)\n",
    "    result = set()\n",
    "  \n",
    "    for i in range(1, len(numbers) + 1):\n",
    "        for p in permutations(numbers, i):\n",
    "            num = int(''.join(p))\n",
    "            if is_prime(num):\n",
    "                result.add(num)\n",
    "\n",
    "\n",
    "    return len(result)\n",
    "\n",
    "\n",
    "numbers = \"17\"\n",
    "# numbers = \"011\"\n",
    "print(solution(numbers))\n"
   ]
  },
  {
   "cell_type": "markdown",
   "id": "5863322d",
   "metadata": {},
   "source": [
    "---"
   ]
  },
  {
   "cell_type": "markdown",
   "id": "b33290c6",
   "metadata": {},
   "source": [
    "## 문제4. 카펫\n",
    "Leo는 집으로 돌아와서 아까 본 카펫의 노란색과 갈색으로 색칠된 격자의 개수는 기억했지만, 전체 카펫의 크기는 기억하지 못했습니다.\n",
    "\n",
    "Leo가 본 카펫에서 갈색 격자의 수 brown, 노란색 격자의 수 yellow가 매개변수로 주어질 때 카펫의 가로, 세로 크기를 순서대로 배열에 담아 return 하도록 solution 함수를 작성해주세요."
   ]
  },
  {
   "cell_type": "code",
   "execution_count": 24,
   "id": "4cc76e41",
   "metadata": {},
   "outputs": [
    {
     "name": "stdout",
     "output_type": "stream",
     "text": [
      "[3, 3]\n"
     ]
    }
   ],
   "source": [
    "def solution(brown, yellow):\n",
    "\n",
    "    total = brown + yellow\n",
    "\n",
    "    for height in range(3, int(total**0.5) + 1):\n",
    "        if total % height == 0:\n",
    "            width = total // height\n",
    "            if (width - 2) * (height -2) == yellow:\n",
    "                return [width, height]    \n",
    "\n",
    "# brown = 10\n",
    "# yellow = 2\n",
    "\n",
    "brown = 8\n",
    "yellow = 1\n",
    "\n",
    "# brown = 24\n",
    "# yellow = 24\n",
    "\n",
    "print(solution(brown, yellow))"
   ]
  },
  {
   "cell_type": "markdown",
   "id": "4661235d",
   "metadata": {},
   "source": [
    "---"
   ]
  },
  {
   "cell_type": "markdown",
   "id": "d0e6ed30",
   "metadata": {},
   "source": [
    "## 문제5. 피로도\n",
    "xx게임에는 피로도 시스템이 있으며, 일정 피로도를 사용해서 단전을 탐험할 수 있습니다. 이때, 각 던전마다 탐험을 시작하기 위해 필요한 \"최소 필요 피로도\"와 던전 탐험을 마쳤을 때 소모되는 \"소모 피로도\"가 있습니다. \"최소 필요 피로도\"는 해당 던전을 탐험하기 위해 가지고 있어야 하는 최소한의 피로도를 나타내며, \"소모 피로도\"는 던전을 탐험한 후 소모되는 피로도를 나타냅니다. 예를 들어 \"최소 필요 피로도\"가 80, \"소모 피로도\"가 20인 던전을 탐험하기 위해서는 유저의 현재 남은 피로도는 80 이상 이어야 하며, 던전을 탐험한 후에는 피로도 20이 소모됩니다.\n",
    "\n",
    "이 게임에는 하루에 한 번씩 탐험할 수 있는 던전이 여러개 있는데, 한 유저가 오늘 이 던전들을 최대한 많이 탐험하려 합니다. 유저의 현재 피로도 k와 각 던전별 \"최소 필요 피로도\", \"소모 피로도\"가 담긴 2차원 배열 dungeons 가 매개변수로 주어질 때, 유저가 탐험할수 있는 최대 던전 수를 return 하도록 solution 함수를 완성해주세요."
   ]
  },
  {
   "cell_type": "code",
   "execution_count": null,
   "id": "1e8a041c",
   "metadata": {},
   "outputs": [
    {
     "name": "stdout",
     "output_type": "stream",
     "text": [
      "3\n"
     ]
    }
   ],
   "source": [
    "from itertools import permutations\n",
    "\n",
    "def solution(k, dungeons):\n",
    "    answer = 0\n",
    "\n",
    "    for order in permutations(dungeons):\n",
    "        stamina = k\n",
    "        cnt = 0\n",
    "        for need, consume in order:\n",
    "            if need <= stamina:\n",
    "                stamina -= consume\n",
    "                cnt += 1\n",
    "\n",
    "            else:\n",
    "                break\n",
    "\n",
    "        answer = max(answer, cnt)\n",
    "\n",
    "    return answer\n",
    "\n",
    "\n",
    "\n",
    "k = 80\n",
    "dungeons = [[80,20],[50,40],[30,10]]\n",
    "print(solution(k, dungeons))"
   ]
  },
  {
   "cell_type": "markdown",
   "id": "14120659",
   "metadata": {},
   "source": [
    "---"
   ]
  },
  {
   "cell_type": "markdown",
   "id": "94cbc6fa",
   "metadata": {},
   "source": [
    "## 문제6. 전력망을 둘로 나누기\n",
    "n개의 송전탑이 전선을 통해 하나의 트리 형태로 연결되어 있습니다. 당신은 이 전선들 중 하나를 끊어서 현재의 전력망 네트워크를 2개로 분할하려고 합니다. 이때, 두 전력망이 갖게 되는 송전탑의 개수를 최대한 비슷하게 맞추고자 합니다.\n",
    "\n",
    "송전탑의 개수 n, 그리고 전선 정보 wires가 매개변수로 주어집니다. 전선들 중 하나를 끊어서 송전탑 개수가 가능한 비슷하도록 두 전력망으로 나누었을 때, 두 전력망이 가지고 있는 송전탑 개수의 차이(절대값)를 return 하도록 solution 함수를 완성해주세요.\n",
    "\n"
   ]
  },
  {
   "cell_type": "code",
   "execution_count": 12,
   "id": "1a95b819",
   "metadata": {},
   "outputs": [
    {
     "name": "stdout",
     "output_type": "stream",
     "text": [
      "3\n"
     ]
    }
   ],
   "source": [
    "def dfs(graph, v, visited, cut):\n",
    "    visited[v] = True\n",
    "\n",
    "    for nxt in graph[v]:\n",
    "        if not visited[nxt] and (v, nxt) != cut and (nxt, v) != cut:\n",
    "            dfs(graph, nxt, visited, cut)\n",
    "\n",
    "    \n",
    "\n",
    "def solution(n, wires):\n",
    "    answer = n\n",
    "\n",
    "    graph = [[] for _ in range(n+1)]\n",
    "    for a, b in wires:\n",
    "        graph[a].append(b)\n",
    "        graph[b].append(a)\n",
    "\n",
    "    for a, b in wires:\n",
    "        visited = [False] * (n+1)\n",
    "        dfs(graph, a, visited, (a, b))\n",
    "\n",
    "        cnt_a = sum(visited)\n",
    "        cnt_b = n - cnt_a\n",
    "\n",
    "        answer = min(answer, abs(cnt_b - cnt_a))\n",
    "\n",
    "    return answer\n",
    "\n",
    "\n",
    "n = 9\n",
    "wires = [[1,3],[2,3],[3,4],[4,5],[4,6],[4,7],[7,8],[7,9]]\n",
    "print(solution(n, wires))"
   ]
  },
  {
   "cell_type": "markdown",
   "id": "1557e4f0",
   "metadata": {},
   "source": [
    "---"
   ]
  },
  {
   "cell_type": "markdown",
   "id": "92807e55",
   "metadata": {},
   "source": [
    "## 문제7. 모음 사전\n",
    "사전에 알파벳 모듬 'A', 'E', 'I', 'O', 'U'만을 사용하여 만들 수 있는, 길이 5 이하의 모든 단어가 수록되어 있습니다. 사전에서 첫 번째 단어는 \"A\"이고, 그다음은 \"AA\"이며, 마지막 단어는 \"UUUUU\"입니다.\n",
    "\n",
    "단어 하나 word가 매개변수로 주어질 때, 이 단어가 사전에서 몇 번째 단어인지 return 하도록 solution 함수를 완성해주세요."
   ]
  },
  {
   "cell_type": "code",
   "execution_count": 14,
   "id": "898c30a2",
   "metadata": {},
   "outputs": [
    {
     "name": "stdout",
     "output_type": "stream",
     "text": [
      "6\n"
     ]
    }
   ],
   "source": [
    "from itertools import product\n",
    "\n",
    "def solution(word):\n",
    "    words = []\n",
    "    alphabets = ['A', 'E', 'I', 'O','U']\n",
    "\n",
    "    for i in range(1, 6):\n",
    "        for c in product(alphabets, repeat=i):\n",
    "            words.append(''.join(c))\n",
    "    \n",
    "    words.sort()\n",
    "    return words.index(word) + 1\n",
    "\n",
    "\n",
    "word = 'AAAAE'\n",
    "print(solution(word))"
   ]
  }
 ],
 "metadata": {
  "kernelspec": {
   "display_name": "algorithm",
   "language": "python",
   "name": "python3"
  },
  "language_info": {
   "codemirror_mode": {
    "name": "ipython",
    "version": 3
   },
   "file_extension": ".py",
   "mimetype": "text/x-python",
   "name": "python",
   "nbconvert_exporter": "python",
   "pygments_lexer": "ipython3",
   "version": "3.13.1"
  }
 },
 "nbformat": 4,
 "nbformat_minor": 5
}
