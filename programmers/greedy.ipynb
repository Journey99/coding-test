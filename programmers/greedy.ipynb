{
 "cells": [
  {
   "cell_type": "markdown",
   "id": "beff2609",
   "metadata": {},
   "source": [
    "# 탐욕법\n",
    "\n",
    "## 1. 개념\n",
    "- 현재 상황에서 가장 좋아 보이는 선택을 반복하여 전체 최적해에 도달하려는 알고리즘 기법이다. 즉, 앞만 보고 지금 당장 최선의 선택을 한다 라는 전략이다.\n",
    "\n",
    "## 2. 특징\n",
    "- 장점\n",
    "  - 구현이 쉽고, 직관적\n",
    "  - 시간 복잡도가 작음 -> 보통 O(N long N) 또는 O(N)\n",
    "- 단점\n",
    "  - 항상 최적해를 보장하지 않음\n",
    "  - 문제에 따라서 탐욕적 선택이 전체적으로 잘못된 결과를 만들 수도 있음\n",
    "\n",
    "## 3. 탐욕법이 성립하는 조건\n",
    "탐욕법을 적용하려면 반드시 두 가지 조건이 성립해야 한다\n",
    "1. 탐욕적 선택 속성\n",
    "- 각 단계에서의 탐욕적 선택이 전체 최적해의 일부가 되어야 함\n",
    "- 즉, 지금 좋은 게 전체적으로도 좋은 결과로 이어진다 는 보장이 있어야 함\n",
    "2. 최적 부분 구조\n",
    "- 문제의 전체 최적해가 부분 문제의 최적해들로 구성될 수 있어야 함\n",
    "- 즉, 전체를 잘라보면 작은 문제에서도 탐욕법이 적용 가능해야 함"
   ]
  },
  {
   "cell_type": "markdown",
   "id": "ef06eab3",
   "metadata": {},
   "source": [
    "---"
   ]
  },
  {
   "cell_type": "markdown",
   "id": "95b2e74f",
   "metadata": {},
   "source": [
    "## 문제 1. 체육복\n",
    "점심시간에 도둑이 들어, 일부 학생이 체육복을 도난당했습니다. 다행히 여벌 체육복이 있는 학생이 이들에게 체육복을 빌려주려 합니다. 학생들의 번호는 체격 순으로 매겨져 있어, 바로 앞번호의 학생이나 바로 뒷번호의 학생에게만 체육복을 빌려줄 수 있습니다. 예를 들어, 4번 학생은 3번 학생이나 5번 학생에게만 체육복을 빌려줄 수 있습니다. 체육복이 없으면 수업을 들을 수 없기 때문에 체육복을 적절히 빌려 최대한 많은 학생이 체육수업을 들어야 합니다.\n",
    "\n",
    "전체 학생의 수 n, 체육복을 도난당한 학생들의 번호가 담긴 배열 lost, 여벌의 체육복을 가져온 학생들의 번호가 담긴 배열 reserve가 매개변수로 주어질 때, 체육수업을 들을 수 있는 학생의 최댓값을 return 하도록 solution 함수를 작성해주세요."
   ]
  },
  {
   "cell_type": "code",
   "execution_count": 6,
   "id": "4c8b9e55",
   "metadata": {},
   "outputs": [
    {
     "name": "stdout",
     "output_type": "stream",
     "text": [
      "5\n"
     ]
    }
   ],
   "source": [
    "def solution(n, lost, reserve):\n",
    "    cant = 0\n",
    "\n",
    "    # 겹치는 경우 제거\n",
    "    lost_set = set(lost)\n",
    "    reserve_set = set(reserve)\n",
    "\n",
    "    lost_set = lost_set - reserve_set\n",
    "    reserve_set = reserve_set - set(lost)    \n",
    "\n",
    "    for l in sorted(lost_set):\n",
    "        if l - 1 in reserve_set:\n",
    "            reserve_set.remove(l - 1)\n",
    "        elif l + 1 in reserve_set:\n",
    "            reserve_set.remove(l + 1)\n",
    "        else:\n",
    "            cant += 1\n",
    "\n",
    "    \n",
    "    return n - cant\n",
    "\n",
    "\n",
    "\n",
    "n = 5\n",
    "lost = [2, 4]\n",
    "reserve = [1, 3, 5]\n",
    "\n",
    "print(solution(n, lost, reserve))"
   ]
  },
  {
   "cell_type": "markdown",
   "id": "32ae16b4",
   "metadata": {},
   "source": [
    "---"
   ]
  },
  {
   "cell_type": "markdown",
   "id": "830d5ed0",
   "metadata": {},
   "source": [
    "## 문제 2. 조이스틱 \n",
    "조이스틱으로 알파벳 이름을 완성하세요. 맨 처음엔 A로만 이루어져 있습니다.\n",
    "ex) 완성해야 하는 이름이 세 글자면 AAA, 네 글자면 AAAA\n",
    "\n",
    "조이스틱을 각 방향으로 움직이면 아래와 같습니다.\n",
    "\n",
    "- ▲ - 다음 알파벳\n",
    "- ▼ - 이전 알파벳 (A에서 아래쪽으로 이동하면 Z로)\n",
    "- ◀ - 커서를 왼쪽으로 이동 (첫 번째 위치에서 왼쪽으로 이동하면 마지막 문자에 커서)\n",
    "- ▶ - 커서를 오른쪽으로 이동 (마지막 위치에서 오른쪽으로 이동하면 첫 번째 문자에 커서)\n",
    "\n",
    "\n",
    "만들고자 하는 이름 name이 매개변수로 주어질 때, 이름에 대해 조이스틱 조작 횟수의 최솟값을 return 하도록 solution 함수를 만드세요."
   ]
  },
  {
   "cell_type": "code",
   "execution_count": null,
   "id": "c79d87ac",
   "metadata": {},
   "outputs": [],
   "source": [
    "def alpha_move(alpha):\n",
    "    # 위로 가는 횟수 : ord(alpha) - ord('A')\n",
    "    # 아래로 가는 횟수 : ord('Z') - ord(alpha) + 1\n",
    "    return min(ord(alpha) - ord('A'), ord('Z') - ord(alpha) + 1)\n",
    "\n",
    "def solution(name):\n",
    "    n = len(name)\n",
    "    answer = 0\n",
    "\n",
    "    # 1. 알파벳 바꾸는 최소 횟수 합산\n",
    "    for c in name:\n",
    "        answer += alpha_move(c)\n",
    "\n",
    "    # 2. 좌우 커서 이동 최소 횟수 계산\n",
    "    move = n - 1  # 기본적으로 오른쪽으로 쭉 이동\n",
    "    for i in range(n):\n",
    "        next_idx = i + 1\n",
    "        # 연속된 'A' 길이 계산\n",
    "        while next_idx < n and name[next_idx] == 'A':\n",
    "            next_idx += 1\n",
    "        # 방향 바꿔서 돌아가는 경우 고려\n",
    "        distance = 2 * i + n - next_idx  # 오른쪽 갔다 왼쪽으로\n",
    "        move = min(move, distance)\n",
    "        distance = i + 2 * (n - next_idx)  # 왼쪽 갔다 오른쪽으로\n",
    "        move = min(move, distance)\n",
    "\n",
    "    answer += move\n",
    "    return answer\n",
    "\n",
    "\n",
    "name = 'JEROEN'\n",
    "# name = 'JAN'\n",
    "print(solution(name))"
   ]
  }
 ],
 "metadata": {
  "kernelspec": {
   "display_name": "algorithm",
   "language": "python",
   "name": "python3"
  },
  "language_info": {
   "codemirror_mode": {
    "name": "ipython",
    "version": 3
   },
   "file_extension": ".py",
   "mimetype": "text/x-python",
   "name": "python",
   "nbconvert_exporter": "python",
   "pygments_lexer": "ipython3",
   "version": "3.13.1"
  }
 },
 "nbformat": 4,
 "nbformat_minor": 5
}
