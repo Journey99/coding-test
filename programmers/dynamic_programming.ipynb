{
 "cells": [
  {
   "cell_type": "markdown",
   "id": "a99809c0",
   "metadata": {},
   "source": [
    "# 동적 계획법(DP)\n",
    "\n",
    "## 개념\n",
    "복잡한 문제를 작은 부분 문제로 나누어 해결하고, 그 결과를 재사용하여 전체 문제를 해결하는 방법이다. 특히 같은 부분 문제를 반복해서 푸는 경우가 많을 때 효과적이다.\n",
    "\n",
    "\n",
    "## 핵심 아이디어\n",
    "1. Optimal Substructure (최적 부분 구조)\n",
    "- 큰 문제의 최적 해답은 작은 문제들의 최적 해답으로 구성된다\n",
    "- 최단 경로 문제 -> 전체 경로의 최적해는 부분 경로의 최적해로부터 결정됨\n",
    "2. Overlapping Subproblems (중복되는 부분 문제)\n",
    "- 동일한 부분 문제가 여러번 반복해서 나타난다\n",
    "- 피보나치 수열 -> f(5)를 구할 때 f(3)을 여러번 계산하게 됨\n",
    "\n",
    "## 해결 방식\n",
    "1. top-down\n",
    "- 재귀를 이용하면서, 이미 계산한 결과를 메모해두고 필요할 때 꺼내씀"
   ]
  },
  {
   "cell_type": "code",
   "execution_count": 1,
   "id": "e487a303",
   "metadata": {},
   "outputs": [],
   "source": [
    "# 피보나치 예시\n",
    "memo = {}\n",
    "def fib(n):\n",
    "    if n <= 1:\n",
    "        return n\n",
    "    if n not in memo:\n",
    "        memo[n] = fib(n-1) + fib(n-2)\n",
    "    return memo[n]"
   ]
  },
  {
   "cell_type": "markdown",
   "id": "bea3b8b3",
   "metadata": {},
   "source": [
    "2. bottom-up\n",
    "- 작은 문제부터 차례대로 풀어서, 큰 문제를 해결\n",
    "- 보통 반복문과 배열을 사용"
   ]
  },
  {
   "cell_type": "code",
   "execution_count": 2,
   "id": "6176ebf8",
   "metadata": {},
   "outputs": [],
   "source": [
    "def fib(n):\n",
    "    dp = [0] * (n+1)\n",
    "    dp[1] = 1\n",
    "    for i in range(2, n+1):\n",
    "        dp[i] = dp[i-1] + dp[i-2]\n",
    "    return dp[n]"
   ]
  },
  {
   "cell_type": "markdown",
   "id": "1b7584fc",
   "metadata": {},
   "source": [
    "## 문제 풀이 단계\n",
    "1. 문제를 최적 부분 구조로 나눌 수 있는지 확인한다.\n",
    "2. **점화식(Recurrence Relation)**을 세운다.\n",
    "- 즉, 큰 문제를 작은 문제들로 표현하는 수식.\n",
    "3. 메모이제이션 or 테이블을 이용하여 구현한다.\n",
    "4. 작은 문제에서 큰 문제로 확장하면서 최적해를 구한다."
   ]
  },
  {
   "cell_type": "markdown",
   "id": "8dbea4e5",
   "metadata": {},
   "source": [
    "---"
   ]
  },
  {
   "cell_type": "markdown",
   "id": "7c6bfae8",
   "metadata": {},
   "source": [
    "## 문제1. n으로 표현\n",
    "아래와 같이 5와 사칙연산만으로 12를 표현할 수 있습니다.\n",
    "\n",
    "12 = 5 + 5 + (5 / 5) + (5 / 5)\n",
    "12 = 55 / 5 + 5 / 5\n",
    "12 = (55 + 5) / 5\n",
    "\n",
    "5를 사용한 횟수는 각각 6,5,4 입니다. 그리고 이중 가장 작은 경우는 4입니다.\n",
    "이처럼 숫자 N과 number가 주어질 때, N과 사칙연산만 사용해서 표현 할 수 있는 방법 중 N 사용횟수의 최솟값을 return 하도록 solution 함수를 작성하세요."
   ]
  },
  {
   "cell_type": "code",
   "execution_count": 3,
   "id": "a06027f9",
   "metadata": {},
   "outputs": [
    {
     "name": "stdout",
     "output_type": "stream",
     "text": [
      "4\n"
     ]
    }
   ],
   "source": [
    "def solution(n, number):\n",
    "\n",
    "    ## dp[i] = n을 i번 사용해서 만들 수 있는 모든 수의 집합\n",
    "    dp = [set() for _ in range(9)]\n",
    "\n",
    "    for i in range(1, 9):\n",
    "        dp[i].add(int(str(n)*i)) # 이어 붙이기\n",
    "\n",
    "        # j + (i-j) 로 조합하기\n",
    "        for j in range(1, i):\n",
    "            for a in dp[j]:\n",
    "                for b in dp[i-j]:\n",
    "                    dp[i].add(a+b)\n",
    "                    dp[i].add(a-b)\n",
    "                    dp[i].add(a*b)\n",
    "                    if b != 0:\n",
    "                        dp[i].add(a//b)\n",
    "    \n",
    "        if number in dp[i]:\n",
    "            return i\n",
    "\n",
    "    return -1\n",
    "\n",
    "\n",
    "n = 5\n",
    "number = 12\n",
    "print(solution(n, number))"
   ]
  },
  {
   "cell_type": "markdown",
   "id": "f60a6fa4",
   "metadata": {},
   "source": [
    "----"
   ]
  },
  {
   "cell_type": "markdown",
   "id": "ba3b7596",
   "metadata": {},
   "source": [
    "## 문제 2. 정수 삼각형\n",
    "정삼각형 꼭대기에서 바닥까지 이어지는 경로 중, 거쳐간 숫자의 합이 가장 큰 경우를 찾아보려고 합니다. 아래 칸으로 이동할 때는 대각선 방향으로 한 칸 오른쪽 또는 왼쪽으로만 이동 가능합니다. 예를 들어 3에서는 그 아래칸의 8 또는 1로만 이동이 가능합니다.\n",
    "\n",
    "삼각형의 정보가 담긴 배열 triangle이 매개변수로 주어질 때, 거쳐간 숫자의 최댓값을 Return 하도록 solution 함수를 완성하세요"
   ]
  },
  {
   "cell_type": "code",
   "execution_count": 4,
   "id": "306e5fe0",
   "metadata": {},
   "outputs": [
    {
     "name": "stdout",
     "output_type": "stream",
     "text": [
      "30\n"
     ]
    }
   ],
   "source": [
    "def solution(triangle):\n",
    "\n",
    "    n = len(triangle)\n",
    "\n",
    "    dp = [[0] * (i+1) for i in range(n)]\n",
    "    dp[0][0] = triangle[0][0]\n",
    "\n",
    "    for i in range(1, n):\n",
    "        for j in range(i+1):\n",
    "            if j == 0:\n",
    "                dp[i][j] = dp[i-1][j] + triangle[i][j]\n",
    "            elif j == i:\n",
    "                dp[i][j] = dp[i-1][j-1] + triangle[i][j]\n",
    "            else:\n",
    "                dp[i][j] = max(dp[i-1][j], dp[i-1][j-1]) + triangle[i][j]\n",
    "        \n",
    "    \n",
    "    return max(dp[n-1])\n",
    "    \n",
    "\n",
    "triangle = [[7], [3, 8], [8, 1, 0], [2, 7, 4, 4], [4, 5, 2, 6, 5]]\n",
    "print(solution(triangle))"
   ]
  }
 ],
 "metadata": {
  "kernelspec": {
   "display_name": "algorithm",
   "language": "python",
   "name": "python3"
  },
  "language_info": {
   "codemirror_mode": {
    "name": "ipython",
    "version": 3
   },
   "file_extension": ".py",
   "mimetype": "text/x-python",
   "name": "python",
   "nbconvert_exporter": "python",
   "pygments_lexer": "ipython3",
   "version": "3.13.1"
  }
 },
 "nbformat": 4,
 "nbformat_minor": 5
}
